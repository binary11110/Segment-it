{
  "nbformat": 4,
  "nbformat_minor": 0,
  "metadata": {
    "colab": {
      "name": "MachineLearning Milestone2.ipynb",
      "provenance": [],
      "collapsed_sections": []
    },
    "kernelspec": {
      "name": "python3",
      "display_name": "Python 3"
    },
    "language_info": {
      "name": "python"
    },
    "accelerator": "GPU"
  },
  "cells": [
    {
      "cell_type": "code",
      "execution_count": 57,
      "metadata": {
        "id": "T0K_vjybMCdT",
        "colab": {
          "base_uri": "https://localhost:8080/"
        },
        "outputId": "05f28903-ee99-4971-c718-9f6d45f670b2"
      },
      "outputs": [
        {
          "output_type": "stream",
          "name": "stdout",
          "text": [
            "Looking in indexes: https://pypi.org/simple, https://us-python.pkg.dev/colab-wheels/public/simple/\n",
            "Requirement already satisfied: catboost in /usr/local/lib/python3.7/dist-packages (1.0.6)\n",
            "Requirement already satisfied: scipy in /usr/local/lib/python3.7/dist-packages (from catboost) (1.4.1)\n",
            "Requirement already satisfied: plotly in /usr/local/lib/python3.7/dist-packages (from catboost) (5.5.0)\n",
            "Requirement already satisfied: six in /usr/local/lib/python3.7/dist-packages (from catboost) (1.15.0)\n",
            "Requirement already satisfied: graphviz in /usr/local/lib/python3.7/dist-packages (from catboost) (0.10.1)\n",
            "Requirement already satisfied: pandas>=0.24.0 in /usr/local/lib/python3.7/dist-packages (from catboost) (1.3.5)\n",
            "Requirement already satisfied: matplotlib in /usr/local/lib/python3.7/dist-packages (from catboost) (3.2.2)\n",
            "Requirement already satisfied: numpy>=1.16.0 in /usr/local/lib/python3.7/dist-packages (from catboost) (1.21.6)\n",
            "Requirement already satisfied: python-dateutil>=2.7.3 in /usr/local/lib/python3.7/dist-packages (from pandas>=0.24.0->catboost) (2.8.2)\n",
            "Requirement already satisfied: pytz>=2017.3 in /usr/local/lib/python3.7/dist-packages (from pandas>=0.24.0->catboost) (2022.1)\n",
            "Requirement already satisfied: pyparsing!=2.0.4,!=2.1.2,!=2.1.6,>=2.0.1 in /usr/local/lib/python3.7/dist-packages (from matplotlib->catboost) (3.0.9)\n",
            "Requirement already satisfied: kiwisolver>=1.0.1 in /usr/local/lib/python3.7/dist-packages (from matplotlib->catboost) (1.4.2)\n",
            "Requirement already satisfied: cycler>=0.10 in /usr/local/lib/python3.7/dist-packages (from matplotlib->catboost) (0.11.0)\n",
            "Requirement already satisfied: typing-extensions in /usr/local/lib/python3.7/dist-packages (from kiwisolver>=1.0.1->matplotlib->catboost) (4.2.0)\n",
            "Requirement already satisfied: tenacity>=6.2.0 in /usr/local/lib/python3.7/dist-packages (from plotly->catboost) (8.0.1)\n"
          ]
        }
      ],
      "source": [
        "import numpy as np\n",
        "import matplotlib.pyplot as plt\n",
        "import pandas as pd\n",
        "import sklearn\n",
        "import seaborn as sns\n",
        "from sklearn.ensemble import RandomForestClassifier\n",
        "from sklearn.utils import shuffle\n",
        "from sklearn.impute import KNNImputer\n",
        "from sklearn.model_selection import train_test_split, KFold, cross_val_score\n",
        "from sklearn import datasets\n",
        "!pip install catboost \n",
        "from sklearn.model_selection import RepeatedKFold\n",
        "import lightgbm as lgb\n"
      ]
    },
    {
      "cell_type": "code",
      "source": [
        "train = pd.read_csv(\"train.csv\")\n",
        "test = pd.read_csv('test.csv')"
      ],
      "metadata": {
        "id": "8KYmS0Ho-mU4"
      },
      "execution_count": 58,
      "outputs": []
    },
    {
      "cell_type": "code",
      "source": [
        "print(train.shape)\n",
        "print(test.shape)"
      ],
      "metadata": {
        "colab": {
          "base_uri": "https://localhost:8080/"
        },
        "id": "d4TJKNQv-nDN",
        "outputId": "2ba2fed9-3613-4a3e-bf12-32548cb464f4"
      },
      "execution_count": 59,
      "outputs": [
        {
          "output_type": "stream",
          "name": "stdout",
          "text": [
            "(7165, 11)\n",
            "(3530, 10)\n"
          ]
        }
      ]
    },
    {
      "cell_type": "code",
      "source": [
        "\n",
        "\n",
        "ID = test['ID']\n",
        "test=test.drop(['ID'], axis=1)\n",
        "train=train.drop(['ID'], axis=1)\n",
        "train.head()"
      ],
      "metadata": {
        "colab": {
          "base_uri": "https://localhost:8080/",
          "height": 206
        },
        "id": "uq47HxwdMRP3",
        "outputId": "9808e02d-0d60-4cdb-bfb3-da8a1d4c87cb"
      },
      "execution_count": 60,
      "outputs": [
        {
          "output_type": "execute_result",
          "data": {
            "text/plain": [
              "   Gender Ever_Married  Age Graduated  Profession  Work_Experience  \\\n",
              "0    Male          Yes   33        No    Engineer              0.0   \n",
              "1  Female           No   42       Yes      Doctor              5.0   \n",
              "2    Male          Yes   80        No   Executive              0.0   \n",
              "3  Female          Yes   66       Yes      Artist              0.0   \n",
              "4  Female          Yes   39       Yes  Healthcare              8.0   \n",
              "\n",
              "  Spending_Score  Family_Size  Var_1 Segmentation  \n",
              "0        Average          2.0  Cat_6            B  \n",
              "1            Low          1.0  Cat_6            B  \n",
              "2           High          2.0  Cat_6            A  \n",
              "3        Average          3.0  Cat_6            C  \n",
              "4           High          2.0  Cat_1            D  "
            ],
            "text/html": [
              "\n",
              "  <div id=\"df-592c18f0-5e01-49ad-8307-0993ffe94bfe\">\n",
              "    <div class=\"colab-df-container\">\n",
              "      <div>\n",
              "<style scoped>\n",
              "    .dataframe tbody tr th:only-of-type {\n",
              "        vertical-align: middle;\n",
              "    }\n",
              "\n",
              "    .dataframe tbody tr th {\n",
              "        vertical-align: top;\n",
              "    }\n",
              "\n",
              "    .dataframe thead th {\n",
              "        text-align: right;\n",
              "    }\n",
              "</style>\n",
              "<table border=\"1\" class=\"dataframe\">\n",
              "  <thead>\n",
              "    <tr style=\"text-align: right;\">\n",
              "      <th></th>\n",
              "      <th>Gender</th>\n",
              "      <th>Ever_Married</th>\n",
              "      <th>Age</th>\n",
              "      <th>Graduated</th>\n",
              "      <th>Profession</th>\n",
              "      <th>Work_Experience</th>\n",
              "      <th>Spending_Score</th>\n",
              "      <th>Family_Size</th>\n",
              "      <th>Var_1</th>\n",
              "      <th>Segmentation</th>\n",
              "    </tr>\n",
              "  </thead>\n",
              "  <tbody>\n",
              "    <tr>\n",
              "      <th>0</th>\n",
              "      <td>Male</td>\n",
              "      <td>Yes</td>\n",
              "      <td>33</td>\n",
              "      <td>No</td>\n",
              "      <td>Engineer</td>\n",
              "      <td>0.0</td>\n",
              "      <td>Average</td>\n",
              "      <td>2.0</td>\n",
              "      <td>Cat_6</td>\n",
              "      <td>B</td>\n",
              "    </tr>\n",
              "    <tr>\n",
              "      <th>1</th>\n",
              "      <td>Female</td>\n",
              "      <td>No</td>\n",
              "      <td>42</td>\n",
              "      <td>Yes</td>\n",
              "      <td>Doctor</td>\n",
              "      <td>5.0</td>\n",
              "      <td>Low</td>\n",
              "      <td>1.0</td>\n",
              "      <td>Cat_6</td>\n",
              "      <td>B</td>\n",
              "    </tr>\n",
              "    <tr>\n",
              "      <th>2</th>\n",
              "      <td>Male</td>\n",
              "      <td>Yes</td>\n",
              "      <td>80</td>\n",
              "      <td>No</td>\n",
              "      <td>Executive</td>\n",
              "      <td>0.0</td>\n",
              "      <td>High</td>\n",
              "      <td>2.0</td>\n",
              "      <td>Cat_6</td>\n",
              "      <td>A</td>\n",
              "    </tr>\n",
              "    <tr>\n",
              "      <th>3</th>\n",
              "      <td>Female</td>\n",
              "      <td>Yes</td>\n",
              "      <td>66</td>\n",
              "      <td>Yes</td>\n",
              "      <td>Artist</td>\n",
              "      <td>0.0</td>\n",
              "      <td>Average</td>\n",
              "      <td>3.0</td>\n",
              "      <td>Cat_6</td>\n",
              "      <td>C</td>\n",
              "    </tr>\n",
              "    <tr>\n",
              "      <th>4</th>\n",
              "      <td>Female</td>\n",
              "      <td>Yes</td>\n",
              "      <td>39</td>\n",
              "      <td>Yes</td>\n",
              "      <td>Healthcare</td>\n",
              "      <td>8.0</td>\n",
              "      <td>High</td>\n",
              "      <td>2.0</td>\n",
              "      <td>Cat_1</td>\n",
              "      <td>D</td>\n",
              "    </tr>\n",
              "  </tbody>\n",
              "</table>\n",
              "</div>\n",
              "      <button class=\"colab-df-convert\" onclick=\"convertToInteractive('df-592c18f0-5e01-49ad-8307-0993ffe94bfe')\"\n",
              "              title=\"Convert this dataframe to an interactive table.\"\n",
              "              style=\"display:none;\">\n",
              "        \n",
              "  <svg xmlns=\"http://www.w3.org/2000/svg\" height=\"24px\"viewBox=\"0 0 24 24\"\n",
              "       width=\"24px\">\n",
              "    <path d=\"M0 0h24v24H0V0z\" fill=\"none\"/>\n",
              "    <path d=\"M18.56 5.44l.94 2.06.94-2.06 2.06-.94-2.06-.94-.94-2.06-.94 2.06-2.06.94zm-11 1L8.5 8.5l.94-2.06 2.06-.94-2.06-.94L8.5 2.5l-.94 2.06-2.06.94zm10 10l.94 2.06.94-2.06 2.06-.94-2.06-.94-.94-2.06-.94 2.06-2.06.94z\"/><path d=\"M17.41 7.96l-1.37-1.37c-.4-.4-.92-.59-1.43-.59-.52 0-1.04.2-1.43.59L10.3 9.45l-7.72 7.72c-.78.78-.78 2.05 0 2.83L4 21.41c.39.39.9.59 1.41.59.51 0 1.02-.2 1.41-.59l7.78-7.78 2.81-2.81c.8-.78.8-2.07 0-2.86zM5.41 20L4 18.59l7.72-7.72 1.47 1.35L5.41 20z\"/>\n",
              "  </svg>\n",
              "      </button>\n",
              "      \n",
              "  <style>\n",
              "    .colab-df-container {\n",
              "      display:flex;\n",
              "      flex-wrap:wrap;\n",
              "      gap: 12px;\n",
              "    }\n",
              "\n",
              "    .colab-df-convert {\n",
              "      background-color: #E8F0FE;\n",
              "      border: none;\n",
              "      border-radius: 50%;\n",
              "      cursor: pointer;\n",
              "      display: none;\n",
              "      fill: #1967D2;\n",
              "      height: 32px;\n",
              "      padding: 0 0 0 0;\n",
              "      width: 32px;\n",
              "    }\n",
              "\n",
              "    .colab-df-convert:hover {\n",
              "      background-color: #E2EBFA;\n",
              "      box-shadow: 0px 1px 2px rgba(60, 64, 67, 0.3), 0px 1px 3px 1px rgba(60, 64, 67, 0.15);\n",
              "      fill: #174EA6;\n",
              "    }\n",
              "\n",
              "    [theme=dark] .colab-df-convert {\n",
              "      background-color: #3B4455;\n",
              "      fill: #D2E3FC;\n",
              "    }\n",
              "\n",
              "    [theme=dark] .colab-df-convert:hover {\n",
              "      background-color: #434B5C;\n",
              "      box-shadow: 0px 1px 3px 1px rgba(0, 0, 0, 0.15);\n",
              "      filter: drop-shadow(0px 1px 2px rgba(0, 0, 0, 0.3));\n",
              "      fill: #FFFFFF;\n",
              "    }\n",
              "  </style>\n",
              "\n",
              "      <script>\n",
              "        const buttonEl =\n",
              "          document.querySelector('#df-592c18f0-5e01-49ad-8307-0993ffe94bfe button.colab-df-convert');\n",
              "        buttonEl.style.display =\n",
              "          google.colab.kernel.accessAllowed ? 'block' : 'none';\n",
              "\n",
              "        async function convertToInteractive(key) {\n",
              "          const element = document.querySelector('#df-592c18f0-5e01-49ad-8307-0993ffe94bfe');\n",
              "          const dataTable =\n",
              "            await google.colab.kernel.invokeFunction('convertToInteractive',\n",
              "                                                     [key], {});\n",
              "          if (!dataTable) return;\n",
              "\n",
              "          const docLinkHtml = 'Like what you see? Visit the ' +\n",
              "            '<a target=\"_blank\" href=https://colab.research.google.com/notebooks/data_table.ipynb>data table notebook</a>'\n",
              "            + ' to learn more about interactive tables.';\n",
              "          element.innerHTML = '';\n",
              "          dataTable['output_type'] = 'display_data';\n",
              "          await google.colab.output.renderOutput(dataTable, element);\n",
              "          const docLink = document.createElement('div');\n",
              "          docLink.innerHTML = docLinkHtml;\n",
              "          element.appendChild(docLink);\n",
              "        }\n",
              "      </script>\n",
              "    </div>\n",
              "  </div>\n",
              "  "
            ]
          },
          "metadata": {},
          "execution_count": 60
        }
      ]
    },
    {
      "cell_type": "markdown",
      "source": [
        "# Preprocessing"
      ],
      "metadata": {
        "id": "rADQkDzqLusB"
      }
    },
    {
      "cell_type": "code",
      "source": [
        "print(\"train:\",train.isnull().sum())\n",
        "print(\"------------------\")\n",
        "print(\"test:\",test.isnull().sum())"
      ],
      "metadata": {
        "colab": {
          "base_uri": "https://localhost:8080/"
        },
        "id": "q7KnKfQHMgKU",
        "outputId": "fe9322e6-8b45-4911-9d1c-1adea5ef2db5"
      },
      "execution_count": 61,
      "outputs": [
        {
          "output_type": "stream",
          "name": "stdout",
          "text": [
            "train: Gender               0\n",
            "Ever_Married       121\n",
            "Age                  0\n",
            "Graduated           69\n",
            "Profession         105\n",
            "Work_Experience    725\n",
            "Spending_Score       0\n",
            "Family_Size        301\n",
            "Var_1               64\n",
            "Segmentation         0\n",
            "dtype: int64\n",
            "------------------\n",
            "test: Gender               0\n",
            "Ever_Married        69\n",
            "Age                  0\n",
            "Graduated           33\n",
            "Profession          57\n",
            "Work_Experience    373\n",
            "Spending_Score       0\n",
            "Family_Size        147\n",
            "Var_1               44\n",
            "dtype: int64\n"
          ]
        }
      ]
    },
    {
      "cell_type": "code",
      "source": [
        "train.dtypes"
      ],
      "metadata": {
        "colab": {
          "base_uri": "https://localhost:8080/"
        },
        "id": "YHPzJg8b75av",
        "outputId": "021c599d-4650-47cb-82d3-16354c4b6ada"
      },
      "execution_count": 62,
      "outputs": [
        {
          "output_type": "execute_result",
          "data": {
            "text/plain": [
              "Gender              object\n",
              "Ever_Married        object\n",
              "Age                  int64\n",
              "Graduated           object\n",
              "Profession          object\n",
              "Work_Experience    float64\n",
              "Spending_Score      object\n",
              "Family_Size        float64\n",
              "Var_1               object\n",
              "Segmentation        object\n",
              "dtype: object"
            ]
          },
          "metadata": {},
          "execution_count": 62
        }
      ]
    },
    {
      "cell_type": "code",
      "source": [
        "print(\"train:\",train.describe())\n",
        "print(\"------------------\")\n",
        "print(\"test:\",test.describe())"
      ],
      "metadata": {
        "colab": {
          "base_uri": "https://localhost:8080/"
        },
        "id": "dKAbXXJ4M3wR",
        "outputId": "67bbfc80-4a8f-42e6-a28d-d93d7911d1b0"
      },
      "execution_count": 63,
      "outputs": [
        {
          "output_type": "stream",
          "name": "stdout",
          "text": [
            "train:                Age  Work_Experience  Family_Size\n",
            "count  7165.000000      6440.000000  6864.000000\n",
            "mean     43.623308         2.610559     2.834062\n",
            "std      16.842847         3.387930     1.538093\n",
            "min      18.000000         0.000000     1.000000\n",
            "25%      30.000000         0.000000     2.000000\n",
            "50%      41.000000         1.000000     2.000000\n",
            "75%      53.000000         4.000000     4.000000\n",
            "max      89.000000        14.000000     9.000000\n",
            "------------------\n",
            "test:                Age  Work_Experience  Family_Size\n",
            "count  3530.000000      3157.000000  3383.000000\n",
            "mean     43.285552         2.638581     2.864322\n",
            "std      16.633943         3.397075     1.533070\n",
            "min      18.000000         0.000000     1.000000\n",
            "25%      30.000000         0.000000     2.000000\n",
            "50%      41.000000         1.000000     3.000000\n",
            "75%      52.000000         4.000000     4.000000\n",
            "max      89.000000        14.000000     9.000000\n"
          ]
        }
      ]
    },
    {
      "cell_type": "code",
      "source": [
        "print(\"train:\",train.shape)\n",
        "print(\"------------------\")\n",
        "print(\"test:\",test.shape)"
      ],
      "metadata": {
        "colab": {
          "base_uri": "https://localhost:8080/"
        },
        "id": "P94DDIIqOiXM",
        "outputId": "5d707822-5b17-42c6-de93-059200a35eab"
      },
      "execution_count": 64,
      "outputs": [
        {
          "output_type": "stream",
          "name": "stdout",
          "text": [
            "train: (7165, 10)\n",
            "------------------\n",
            "test: (3530, 9)\n"
          ]
        }
      ]
    },
    {
      "cell_type": "code",
      "source": [
        "train['Profession'].unique()"
      ],
      "metadata": {
        "colab": {
          "base_uri": "https://localhost:8080/"
        },
        "id": "YN0nYZvqUMh8",
        "outputId": "b22d5c90-498b-4b42-a09f-9e55aeae3a97"
      },
      "execution_count": 65,
      "outputs": [
        {
          "output_type": "execute_result",
          "data": {
            "text/plain": [
              "array(['Engineer', 'Doctor', 'Executive', 'Artist', 'Healthcare',\n",
              "       'Entertainment', 'Marketing', 'Lawyer', 'Homemaker', nan],\n",
              "      dtype=object)"
            ]
          },
          "metadata": {},
          "execution_count": 65
        }
      ]
    },
    {
      "cell_type": "code",
      "source": [
        "test['Profession'].unique()"
      ],
      "metadata": {
        "colab": {
          "base_uri": "https://localhost:8080/"
        },
        "id": "S5WMTe_oUWoV",
        "outputId": "bb0f8e0b-cc33-4d92-c502-725ad754787c"
      },
      "execution_count": 66,
      "outputs": [
        {
          "output_type": "execute_result",
          "data": {
            "text/plain": [
              "array(['Engineer', 'Healthcare', 'Artist', 'Lawyer', 'Executive',\n",
              "       'Entertainment', 'Homemaker', 'Doctor', 'Marketing', nan],\n",
              "      dtype=object)"
            ]
          },
          "metadata": {},
          "execution_count": 66
        }
      ]
    },
    {
      "cell_type": "code",
      "source": [
        "test"
      ],
      "metadata": {
        "colab": {
          "base_uri": "https://localhost:8080/",
          "height": 423
        },
        "id": "NV7G19EyyRXy",
        "outputId": "1bc65b71-a674-48fa-b747-07226faea7c8"
      },
      "execution_count": 67,
      "outputs": [
        {
          "output_type": "execute_result",
          "data": {
            "text/plain": [
              "      Gender Ever_Married  Age Graduated     Profession  Work_Experience  \\\n",
              "0     Female          Yes   37        No       Engineer              1.0   \n",
              "1     Female           No   21        No     Healthcare              2.0   \n",
              "2       Male           No   38       Yes         Artist              NaN   \n",
              "3       Male           No   26       Yes     Healthcare              0.0   \n",
              "4       Male          Yes   68       Yes         Lawyer              0.0   \n",
              "...      ...          ...  ...       ...            ...              ...   \n",
              "3525    Male          Yes   79       Yes         Artist              NaN   \n",
              "3526    Male          Yes   40       Yes  Entertainment              1.0   \n",
              "3527    Male          Yes   73       Yes         Artist              5.0   \n",
              "3528    Male           No   20        No     Healthcare              NaN   \n",
              "3529    Male          Yes   58       Yes         Doctor              1.0   \n",
              "\n",
              "     Spending_Score  Family_Size  Var_1  \n",
              "0           Average          6.0  Cat_4  \n",
              "1               Low          3.0  Cat_6  \n",
              "2               Low          1.0  Cat_6  \n",
              "3               Low          2.0  Cat_3  \n",
              "4               Low          2.0    NaN  \n",
              "...             ...          ...    ...  \n",
              "3525           High          2.0  Cat_6  \n",
              "3526        Average          2.0  Cat_3  \n",
              "3527           High          3.0  Cat_6  \n",
              "3528            Low          5.0  Cat_3  \n",
              "3529           High          2.0  Cat_6  \n",
              "\n",
              "[3530 rows x 9 columns]"
            ],
            "text/html": [
              "\n",
              "  <div id=\"df-57cee407-0f41-4aca-a09a-816edec605b6\">\n",
              "    <div class=\"colab-df-container\">\n",
              "      <div>\n",
              "<style scoped>\n",
              "    .dataframe tbody tr th:only-of-type {\n",
              "        vertical-align: middle;\n",
              "    }\n",
              "\n",
              "    .dataframe tbody tr th {\n",
              "        vertical-align: top;\n",
              "    }\n",
              "\n",
              "    .dataframe thead th {\n",
              "        text-align: right;\n",
              "    }\n",
              "</style>\n",
              "<table border=\"1\" class=\"dataframe\">\n",
              "  <thead>\n",
              "    <tr style=\"text-align: right;\">\n",
              "      <th></th>\n",
              "      <th>Gender</th>\n",
              "      <th>Ever_Married</th>\n",
              "      <th>Age</th>\n",
              "      <th>Graduated</th>\n",
              "      <th>Profession</th>\n",
              "      <th>Work_Experience</th>\n",
              "      <th>Spending_Score</th>\n",
              "      <th>Family_Size</th>\n",
              "      <th>Var_1</th>\n",
              "    </tr>\n",
              "  </thead>\n",
              "  <tbody>\n",
              "    <tr>\n",
              "      <th>0</th>\n",
              "      <td>Female</td>\n",
              "      <td>Yes</td>\n",
              "      <td>37</td>\n",
              "      <td>No</td>\n",
              "      <td>Engineer</td>\n",
              "      <td>1.0</td>\n",
              "      <td>Average</td>\n",
              "      <td>6.0</td>\n",
              "      <td>Cat_4</td>\n",
              "    </tr>\n",
              "    <tr>\n",
              "      <th>1</th>\n",
              "      <td>Female</td>\n",
              "      <td>No</td>\n",
              "      <td>21</td>\n",
              "      <td>No</td>\n",
              "      <td>Healthcare</td>\n",
              "      <td>2.0</td>\n",
              "      <td>Low</td>\n",
              "      <td>3.0</td>\n",
              "      <td>Cat_6</td>\n",
              "    </tr>\n",
              "    <tr>\n",
              "      <th>2</th>\n",
              "      <td>Male</td>\n",
              "      <td>No</td>\n",
              "      <td>38</td>\n",
              "      <td>Yes</td>\n",
              "      <td>Artist</td>\n",
              "      <td>NaN</td>\n",
              "      <td>Low</td>\n",
              "      <td>1.0</td>\n",
              "      <td>Cat_6</td>\n",
              "    </tr>\n",
              "    <tr>\n",
              "      <th>3</th>\n",
              "      <td>Male</td>\n",
              "      <td>No</td>\n",
              "      <td>26</td>\n",
              "      <td>Yes</td>\n",
              "      <td>Healthcare</td>\n",
              "      <td>0.0</td>\n",
              "      <td>Low</td>\n",
              "      <td>2.0</td>\n",
              "      <td>Cat_3</td>\n",
              "    </tr>\n",
              "    <tr>\n",
              "      <th>4</th>\n",
              "      <td>Male</td>\n",
              "      <td>Yes</td>\n",
              "      <td>68</td>\n",
              "      <td>Yes</td>\n",
              "      <td>Lawyer</td>\n",
              "      <td>0.0</td>\n",
              "      <td>Low</td>\n",
              "      <td>2.0</td>\n",
              "      <td>NaN</td>\n",
              "    </tr>\n",
              "    <tr>\n",
              "      <th>...</th>\n",
              "      <td>...</td>\n",
              "      <td>...</td>\n",
              "      <td>...</td>\n",
              "      <td>...</td>\n",
              "      <td>...</td>\n",
              "      <td>...</td>\n",
              "      <td>...</td>\n",
              "      <td>...</td>\n",
              "      <td>...</td>\n",
              "    </tr>\n",
              "    <tr>\n",
              "      <th>3525</th>\n",
              "      <td>Male</td>\n",
              "      <td>Yes</td>\n",
              "      <td>79</td>\n",
              "      <td>Yes</td>\n",
              "      <td>Artist</td>\n",
              "      <td>NaN</td>\n",
              "      <td>High</td>\n",
              "      <td>2.0</td>\n",
              "      <td>Cat_6</td>\n",
              "    </tr>\n",
              "    <tr>\n",
              "      <th>3526</th>\n",
              "      <td>Male</td>\n",
              "      <td>Yes</td>\n",
              "      <td>40</td>\n",
              "      <td>Yes</td>\n",
              "      <td>Entertainment</td>\n",
              "      <td>1.0</td>\n",
              "      <td>Average</td>\n",
              "      <td>2.0</td>\n",
              "      <td>Cat_3</td>\n",
              "    </tr>\n",
              "    <tr>\n",
              "      <th>3527</th>\n",
              "      <td>Male</td>\n",
              "      <td>Yes</td>\n",
              "      <td>73</td>\n",
              "      <td>Yes</td>\n",
              "      <td>Artist</td>\n",
              "      <td>5.0</td>\n",
              "      <td>High</td>\n",
              "      <td>3.0</td>\n",
              "      <td>Cat_6</td>\n",
              "    </tr>\n",
              "    <tr>\n",
              "      <th>3528</th>\n",
              "      <td>Male</td>\n",
              "      <td>No</td>\n",
              "      <td>20</td>\n",
              "      <td>No</td>\n",
              "      <td>Healthcare</td>\n",
              "      <td>NaN</td>\n",
              "      <td>Low</td>\n",
              "      <td>5.0</td>\n",
              "      <td>Cat_3</td>\n",
              "    </tr>\n",
              "    <tr>\n",
              "      <th>3529</th>\n",
              "      <td>Male</td>\n",
              "      <td>Yes</td>\n",
              "      <td>58</td>\n",
              "      <td>Yes</td>\n",
              "      <td>Doctor</td>\n",
              "      <td>1.0</td>\n",
              "      <td>High</td>\n",
              "      <td>2.0</td>\n",
              "      <td>Cat_6</td>\n",
              "    </tr>\n",
              "  </tbody>\n",
              "</table>\n",
              "<p>3530 rows × 9 columns</p>\n",
              "</div>\n",
              "      <button class=\"colab-df-convert\" onclick=\"convertToInteractive('df-57cee407-0f41-4aca-a09a-816edec605b6')\"\n",
              "              title=\"Convert this dataframe to an interactive table.\"\n",
              "              style=\"display:none;\">\n",
              "        \n",
              "  <svg xmlns=\"http://www.w3.org/2000/svg\" height=\"24px\"viewBox=\"0 0 24 24\"\n",
              "       width=\"24px\">\n",
              "    <path d=\"M0 0h24v24H0V0z\" fill=\"none\"/>\n",
              "    <path d=\"M18.56 5.44l.94 2.06.94-2.06 2.06-.94-2.06-.94-.94-2.06-.94 2.06-2.06.94zm-11 1L8.5 8.5l.94-2.06 2.06-.94-2.06-.94L8.5 2.5l-.94 2.06-2.06.94zm10 10l.94 2.06.94-2.06 2.06-.94-2.06-.94-.94-2.06-.94 2.06-2.06.94z\"/><path d=\"M17.41 7.96l-1.37-1.37c-.4-.4-.92-.59-1.43-.59-.52 0-1.04.2-1.43.59L10.3 9.45l-7.72 7.72c-.78.78-.78 2.05 0 2.83L4 21.41c.39.39.9.59 1.41.59.51 0 1.02-.2 1.41-.59l7.78-7.78 2.81-2.81c.8-.78.8-2.07 0-2.86zM5.41 20L4 18.59l7.72-7.72 1.47 1.35L5.41 20z\"/>\n",
              "  </svg>\n",
              "      </button>\n",
              "      \n",
              "  <style>\n",
              "    .colab-df-container {\n",
              "      display:flex;\n",
              "      flex-wrap:wrap;\n",
              "      gap: 12px;\n",
              "    }\n",
              "\n",
              "    .colab-df-convert {\n",
              "      background-color: #E8F0FE;\n",
              "      border: none;\n",
              "      border-radius: 50%;\n",
              "      cursor: pointer;\n",
              "      display: none;\n",
              "      fill: #1967D2;\n",
              "      height: 32px;\n",
              "      padding: 0 0 0 0;\n",
              "      width: 32px;\n",
              "    }\n",
              "\n",
              "    .colab-df-convert:hover {\n",
              "      background-color: #E2EBFA;\n",
              "      box-shadow: 0px 1px 2px rgba(60, 64, 67, 0.3), 0px 1px 3px 1px rgba(60, 64, 67, 0.15);\n",
              "      fill: #174EA6;\n",
              "    }\n",
              "\n",
              "    [theme=dark] .colab-df-convert {\n",
              "      background-color: #3B4455;\n",
              "      fill: #D2E3FC;\n",
              "    }\n",
              "\n",
              "    [theme=dark] .colab-df-convert:hover {\n",
              "      background-color: #434B5C;\n",
              "      box-shadow: 0px 1px 3px 1px rgba(0, 0, 0, 0.15);\n",
              "      filter: drop-shadow(0px 1px 2px rgba(0, 0, 0, 0.3));\n",
              "      fill: #FFFFFF;\n",
              "    }\n",
              "  </style>\n",
              "\n",
              "      <script>\n",
              "        const buttonEl =\n",
              "          document.querySelector('#df-57cee407-0f41-4aca-a09a-816edec605b6 button.colab-df-convert');\n",
              "        buttonEl.style.display =\n",
              "          google.colab.kernel.accessAllowed ? 'block' : 'none';\n",
              "\n",
              "        async function convertToInteractive(key) {\n",
              "          const element = document.querySelector('#df-57cee407-0f41-4aca-a09a-816edec605b6');\n",
              "          const dataTable =\n",
              "            await google.colab.kernel.invokeFunction('convertToInteractive',\n",
              "                                                     [key], {});\n",
              "          if (!dataTable) return;\n",
              "\n",
              "          const docLinkHtml = 'Like what you see? Visit the ' +\n",
              "            '<a target=\"_blank\" href=https://colab.research.google.com/notebooks/data_table.ipynb>data table notebook</a>'\n",
              "            + ' to learn more about interactive tables.';\n",
              "          element.innerHTML = '';\n",
              "          dataTable['output_type'] = 'display_data';\n",
              "          await google.colab.output.renderOutput(dataTable, element);\n",
              "          const docLink = document.createElement('div');\n",
              "          docLink.innerHTML = docLinkHtml;\n",
              "          element.appendChild(docLink);\n",
              "        }\n",
              "      </script>\n",
              "    </div>\n",
              "  </div>\n",
              "  "
            ]
          },
          "metadata": {},
          "execution_count": 67
        }
      ]
    },
    {
      "cell_type": "code",
      "source": [
        "train.isnull().sum()"
      ],
      "metadata": {
        "colab": {
          "base_uri": "https://localhost:8080/"
        },
        "id": "d4HLfG2H1MC_",
        "outputId": "78d12d42-fff7-4c96-e133-2bdfbf6368f7"
      },
      "execution_count": 68,
      "outputs": [
        {
          "output_type": "execute_result",
          "data": {
            "text/plain": [
              "Gender               0\n",
              "Ever_Married       121\n",
              "Age                  0\n",
              "Graduated           69\n",
              "Profession         105\n",
              "Work_Experience    725\n",
              "Spending_Score       0\n",
              "Family_Size        301\n",
              "Var_1               64\n",
              "Segmentation         0\n",
              "dtype: int64"
            ]
          },
          "metadata": {},
          "execution_count": 68
        }
      ]
    },
    {
      "cell_type": "code",
      "source": [
        "test.isnull().sum()"
      ],
      "metadata": {
        "colab": {
          "base_uri": "https://localhost:8080/"
        },
        "id": "FT_RDiNDfFv9",
        "outputId": "533b0ff3-7e7a-4fbb-e123-c90bc1aaf58f"
      },
      "execution_count": 69,
      "outputs": [
        {
          "output_type": "execute_result",
          "data": {
            "text/plain": [
              "Gender               0\n",
              "Ever_Married        69\n",
              "Age                  0\n",
              "Graduated           33\n",
              "Profession          57\n",
              "Work_Experience    373\n",
              "Spending_Score       0\n",
              "Family_Size        147\n",
              "Var_1               44\n",
              "dtype: int64"
            ]
          },
          "metadata": {},
          "execution_count": 69
        }
      ]
    },
    {
      "cell_type": "code",
      "source": [
        "from sklearn.preprocessing import LabelEncoder\n",
        "le =LabelEncoder()\n",
        "\n",
        "train['Spending_Score'] = le.fit_transform(train['Spending_Score'])#ordinal\n",
        "test['Spending_Score'] = le.fit_transform(test['Spending_Score'])\n",
        "\n",
        "train['Gender'] = le.fit_transform(train['Gender'])\n",
        "test['Gender'] = le.fit_transform(test['Gender'])\n",
        "\n",
        "train['Graduated'] = le.fit_transform(train['Graduated'])\n",
        "test['Graduated'] = le.fit_transform(test['Graduated'])\n",
        "\n",
        "train['Ever_Married'] = le.fit_transform(train['Ever_Married'])\n",
        "test['Ever_Married'] = le.fit_transform(test['Ever_Married'])\n",
        "\n",
        "train['Segmentation'] = le.fit_transform(train['Segmentation'])\n"
      ],
      "metadata": {
        "id": "nZgCaYAYRGIy"
      },
      "execution_count": 70,
      "outputs": []
    },
    {
      "cell_type": "code",
      "source": [
        "train=pd.concat((pd.get_dummies(train['Profession'] ),train),axis=1)\n",
        "del train['Profession']\n",
        "\n",
        "test=pd.concat((pd.get_dummies(test['Profession'] ),test),axis=1)\n",
        "del test['Profession']\n"
      ],
      "metadata": {
        "id": "55fG9jCPYDAP"
      },
      "execution_count": 71,
      "outputs": []
    },
    {
      "cell_type": "code",
      "source": [
        "train=pd.concat((pd.get_dummies(train['Var_1'] ),train),axis=1)\n",
        "del train['Var_1']\n",
        "\n",
        "test=pd.concat((pd.get_dummies(test['Var_1'] ),test),axis=1)\n",
        "del test['Var_1']"
      ],
      "metadata": {
        "id": "m_wDS6Mv1Dqr"
      },
      "execution_count": 72,
      "outputs": []
    },
    {
      "cell_type": "code",
      "source": [
        "train"
      ],
      "metadata": {
        "colab": {
          "base_uri": "https://localhost:8080/",
          "height": 487
        },
        "id": "doTj4YyLNBgi",
        "outputId": "346f42f8-89fc-4831-dae2-7e38315862d9"
      },
      "execution_count": 73,
      "outputs": [
        {
          "output_type": "execute_result",
          "data": {
            "text/plain": [
              "      Cat_1  Cat_2  Cat_3  Cat_4  Cat_5  Cat_6  Cat_7  Artist  Doctor  \\\n",
              "0         0      0      0      0      0      1      0       0       0   \n",
              "1         0      0      0      0      0      1      0       0       1   \n",
              "2         0      0      0      0      0      1      0       0       0   \n",
              "3         0      0      0      0      0      1      0       1       0   \n",
              "4         1      0      0      0      0      0      0       0       0   \n",
              "...     ...    ...    ...    ...    ...    ...    ...     ...     ...   \n",
              "7160      0      0      0      0      0      1      0       1       0   \n",
              "7161      0      0      0      0      0      1      0       1       0   \n",
              "7162      0      0      0      0      0      1      0       1       0   \n",
              "7163      0      0      0      0      0      1      0       0       0   \n",
              "7164      0      0      0      0      0      1      0       0       0   \n",
              "\n",
              "      Engineer  ...  Lawyer  Marketing  Gender  Ever_Married  Age  Graduated  \\\n",
              "0            1  ...       0          0       1             1   33          0   \n",
              "1            0  ...       0          0       0             0   42          1   \n",
              "2            0  ...       0          0       1             1   80          0   \n",
              "3            0  ...       0          0       0             1   66          1   \n",
              "4            0  ...       0          0       0             1   39          1   \n",
              "...        ...  ...     ...        ...     ...           ...  ...        ...   \n",
              "7160         0  ...       0          0       1             1   42          1   \n",
              "7161         0  ...       0          0       1             1   48          1   \n",
              "7162         0  ...       0          0       0             1   51          1   \n",
              "7163         1  ...       0          0       0             1   25          0   \n",
              "7164         0  ...       0          0       1             1   28          0   \n",
              "\n",
              "      Work_Experience  Spending_Score  Family_Size  Segmentation  \n",
              "0                 0.0               0          2.0             1  \n",
              "1                 5.0               2          1.0             1  \n",
              "2                 0.0               1          2.0             0  \n",
              "3                 0.0               0          3.0             2  \n",
              "4                 8.0               1          2.0             3  \n",
              "...               ...             ...          ...           ...  \n",
              "7160              0.0               0          5.0             2  \n",
              "7161              0.0               0          2.0             2  \n",
              "7162              8.0               0          2.0             2  \n",
              "7163              2.0               2          2.0             0  \n",
              "7164              0.0               0          3.0             3  \n",
              "\n",
              "[7165 rows x 24 columns]"
            ],
            "text/html": [
              "\n",
              "  <div id=\"df-e5faf156-79ae-4d22-8ad0-a3373895c8d6\">\n",
              "    <div class=\"colab-df-container\">\n",
              "      <div>\n",
              "<style scoped>\n",
              "    .dataframe tbody tr th:only-of-type {\n",
              "        vertical-align: middle;\n",
              "    }\n",
              "\n",
              "    .dataframe tbody tr th {\n",
              "        vertical-align: top;\n",
              "    }\n",
              "\n",
              "    .dataframe thead th {\n",
              "        text-align: right;\n",
              "    }\n",
              "</style>\n",
              "<table border=\"1\" class=\"dataframe\">\n",
              "  <thead>\n",
              "    <tr style=\"text-align: right;\">\n",
              "      <th></th>\n",
              "      <th>Cat_1</th>\n",
              "      <th>Cat_2</th>\n",
              "      <th>Cat_3</th>\n",
              "      <th>Cat_4</th>\n",
              "      <th>Cat_5</th>\n",
              "      <th>Cat_6</th>\n",
              "      <th>Cat_7</th>\n",
              "      <th>Artist</th>\n",
              "      <th>Doctor</th>\n",
              "      <th>Engineer</th>\n",
              "      <th>...</th>\n",
              "      <th>Lawyer</th>\n",
              "      <th>Marketing</th>\n",
              "      <th>Gender</th>\n",
              "      <th>Ever_Married</th>\n",
              "      <th>Age</th>\n",
              "      <th>Graduated</th>\n",
              "      <th>Work_Experience</th>\n",
              "      <th>Spending_Score</th>\n",
              "      <th>Family_Size</th>\n",
              "      <th>Segmentation</th>\n",
              "    </tr>\n",
              "  </thead>\n",
              "  <tbody>\n",
              "    <tr>\n",
              "      <th>0</th>\n",
              "      <td>0</td>\n",
              "      <td>0</td>\n",
              "      <td>0</td>\n",
              "      <td>0</td>\n",
              "      <td>0</td>\n",
              "      <td>1</td>\n",
              "      <td>0</td>\n",
              "      <td>0</td>\n",
              "      <td>0</td>\n",
              "      <td>1</td>\n",
              "      <td>...</td>\n",
              "      <td>0</td>\n",
              "      <td>0</td>\n",
              "      <td>1</td>\n",
              "      <td>1</td>\n",
              "      <td>33</td>\n",
              "      <td>0</td>\n",
              "      <td>0.0</td>\n",
              "      <td>0</td>\n",
              "      <td>2.0</td>\n",
              "      <td>1</td>\n",
              "    </tr>\n",
              "    <tr>\n",
              "      <th>1</th>\n",
              "      <td>0</td>\n",
              "      <td>0</td>\n",
              "      <td>0</td>\n",
              "      <td>0</td>\n",
              "      <td>0</td>\n",
              "      <td>1</td>\n",
              "      <td>0</td>\n",
              "      <td>0</td>\n",
              "      <td>1</td>\n",
              "      <td>0</td>\n",
              "      <td>...</td>\n",
              "      <td>0</td>\n",
              "      <td>0</td>\n",
              "      <td>0</td>\n",
              "      <td>0</td>\n",
              "      <td>42</td>\n",
              "      <td>1</td>\n",
              "      <td>5.0</td>\n",
              "      <td>2</td>\n",
              "      <td>1.0</td>\n",
              "      <td>1</td>\n",
              "    </tr>\n",
              "    <tr>\n",
              "      <th>2</th>\n",
              "      <td>0</td>\n",
              "      <td>0</td>\n",
              "      <td>0</td>\n",
              "      <td>0</td>\n",
              "      <td>0</td>\n",
              "      <td>1</td>\n",
              "      <td>0</td>\n",
              "      <td>0</td>\n",
              "      <td>0</td>\n",
              "      <td>0</td>\n",
              "      <td>...</td>\n",
              "      <td>0</td>\n",
              "      <td>0</td>\n",
              "      <td>1</td>\n",
              "      <td>1</td>\n",
              "      <td>80</td>\n",
              "      <td>0</td>\n",
              "      <td>0.0</td>\n",
              "      <td>1</td>\n",
              "      <td>2.0</td>\n",
              "      <td>0</td>\n",
              "    </tr>\n",
              "    <tr>\n",
              "      <th>3</th>\n",
              "      <td>0</td>\n",
              "      <td>0</td>\n",
              "      <td>0</td>\n",
              "      <td>0</td>\n",
              "      <td>0</td>\n",
              "      <td>1</td>\n",
              "      <td>0</td>\n",
              "      <td>1</td>\n",
              "      <td>0</td>\n",
              "      <td>0</td>\n",
              "      <td>...</td>\n",
              "      <td>0</td>\n",
              "      <td>0</td>\n",
              "      <td>0</td>\n",
              "      <td>1</td>\n",
              "      <td>66</td>\n",
              "      <td>1</td>\n",
              "      <td>0.0</td>\n",
              "      <td>0</td>\n",
              "      <td>3.0</td>\n",
              "      <td>2</td>\n",
              "    </tr>\n",
              "    <tr>\n",
              "      <th>4</th>\n",
              "      <td>1</td>\n",
              "      <td>0</td>\n",
              "      <td>0</td>\n",
              "      <td>0</td>\n",
              "      <td>0</td>\n",
              "      <td>0</td>\n",
              "      <td>0</td>\n",
              "      <td>0</td>\n",
              "      <td>0</td>\n",
              "      <td>0</td>\n",
              "      <td>...</td>\n",
              "      <td>0</td>\n",
              "      <td>0</td>\n",
              "      <td>0</td>\n",
              "      <td>1</td>\n",
              "      <td>39</td>\n",
              "      <td>1</td>\n",
              "      <td>8.0</td>\n",
              "      <td>1</td>\n",
              "      <td>2.0</td>\n",
              "      <td>3</td>\n",
              "    </tr>\n",
              "    <tr>\n",
              "      <th>...</th>\n",
              "      <td>...</td>\n",
              "      <td>...</td>\n",
              "      <td>...</td>\n",
              "      <td>...</td>\n",
              "      <td>...</td>\n",
              "      <td>...</td>\n",
              "      <td>...</td>\n",
              "      <td>...</td>\n",
              "      <td>...</td>\n",
              "      <td>...</td>\n",
              "      <td>...</td>\n",
              "      <td>...</td>\n",
              "      <td>...</td>\n",
              "      <td>...</td>\n",
              "      <td>...</td>\n",
              "      <td>...</td>\n",
              "      <td>...</td>\n",
              "      <td>...</td>\n",
              "      <td>...</td>\n",
              "      <td>...</td>\n",
              "      <td>...</td>\n",
              "    </tr>\n",
              "    <tr>\n",
              "      <th>7160</th>\n",
              "      <td>0</td>\n",
              "      <td>0</td>\n",
              "      <td>0</td>\n",
              "      <td>0</td>\n",
              "      <td>0</td>\n",
              "      <td>1</td>\n",
              "      <td>0</td>\n",
              "      <td>1</td>\n",
              "      <td>0</td>\n",
              "      <td>0</td>\n",
              "      <td>...</td>\n",
              "      <td>0</td>\n",
              "      <td>0</td>\n",
              "      <td>1</td>\n",
              "      <td>1</td>\n",
              "      <td>42</td>\n",
              "      <td>1</td>\n",
              "      <td>0.0</td>\n",
              "      <td>0</td>\n",
              "      <td>5.0</td>\n",
              "      <td>2</td>\n",
              "    </tr>\n",
              "    <tr>\n",
              "      <th>7161</th>\n",
              "      <td>0</td>\n",
              "      <td>0</td>\n",
              "      <td>0</td>\n",
              "      <td>0</td>\n",
              "      <td>0</td>\n",
              "      <td>1</td>\n",
              "      <td>0</td>\n",
              "      <td>1</td>\n",
              "      <td>0</td>\n",
              "      <td>0</td>\n",
              "      <td>...</td>\n",
              "      <td>0</td>\n",
              "      <td>0</td>\n",
              "      <td>1</td>\n",
              "      <td>1</td>\n",
              "      <td>48</td>\n",
              "      <td>1</td>\n",
              "      <td>0.0</td>\n",
              "      <td>0</td>\n",
              "      <td>2.0</td>\n",
              "      <td>2</td>\n",
              "    </tr>\n",
              "    <tr>\n",
              "      <th>7162</th>\n",
              "      <td>0</td>\n",
              "      <td>0</td>\n",
              "      <td>0</td>\n",
              "      <td>0</td>\n",
              "      <td>0</td>\n",
              "      <td>1</td>\n",
              "      <td>0</td>\n",
              "      <td>1</td>\n",
              "      <td>0</td>\n",
              "      <td>0</td>\n",
              "      <td>...</td>\n",
              "      <td>0</td>\n",
              "      <td>0</td>\n",
              "      <td>0</td>\n",
              "      <td>1</td>\n",
              "      <td>51</td>\n",
              "      <td>1</td>\n",
              "      <td>8.0</td>\n",
              "      <td>0</td>\n",
              "      <td>2.0</td>\n",
              "      <td>2</td>\n",
              "    </tr>\n",
              "    <tr>\n",
              "      <th>7163</th>\n",
              "      <td>0</td>\n",
              "      <td>0</td>\n",
              "      <td>0</td>\n",
              "      <td>0</td>\n",
              "      <td>0</td>\n",
              "      <td>1</td>\n",
              "      <td>0</td>\n",
              "      <td>0</td>\n",
              "      <td>0</td>\n",
              "      <td>1</td>\n",
              "      <td>...</td>\n",
              "      <td>0</td>\n",
              "      <td>0</td>\n",
              "      <td>0</td>\n",
              "      <td>1</td>\n",
              "      <td>25</td>\n",
              "      <td>0</td>\n",
              "      <td>2.0</td>\n",
              "      <td>2</td>\n",
              "      <td>2.0</td>\n",
              "      <td>0</td>\n",
              "    </tr>\n",
              "    <tr>\n",
              "      <th>7164</th>\n",
              "      <td>0</td>\n",
              "      <td>0</td>\n",
              "      <td>0</td>\n",
              "      <td>0</td>\n",
              "      <td>0</td>\n",
              "      <td>1</td>\n",
              "      <td>0</td>\n",
              "      <td>0</td>\n",
              "      <td>0</td>\n",
              "      <td>0</td>\n",
              "      <td>...</td>\n",
              "      <td>0</td>\n",
              "      <td>0</td>\n",
              "      <td>1</td>\n",
              "      <td>1</td>\n",
              "      <td>28</td>\n",
              "      <td>0</td>\n",
              "      <td>0.0</td>\n",
              "      <td>0</td>\n",
              "      <td>3.0</td>\n",
              "      <td>3</td>\n",
              "    </tr>\n",
              "  </tbody>\n",
              "</table>\n",
              "<p>7165 rows × 24 columns</p>\n",
              "</div>\n",
              "      <button class=\"colab-df-convert\" onclick=\"convertToInteractive('df-e5faf156-79ae-4d22-8ad0-a3373895c8d6')\"\n",
              "              title=\"Convert this dataframe to an interactive table.\"\n",
              "              style=\"display:none;\">\n",
              "        \n",
              "  <svg xmlns=\"http://www.w3.org/2000/svg\" height=\"24px\"viewBox=\"0 0 24 24\"\n",
              "       width=\"24px\">\n",
              "    <path d=\"M0 0h24v24H0V0z\" fill=\"none\"/>\n",
              "    <path d=\"M18.56 5.44l.94 2.06.94-2.06 2.06-.94-2.06-.94-.94-2.06-.94 2.06-2.06.94zm-11 1L8.5 8.5l.94-2.06 2.06-.94-2.06-.94L8.5 2.5l-.94 2.06-2.06.94zm10 10l.94 2.06.94-2.06 2.06-.94-2.06-.94-.94-2.06-.94 2.06-2.06.94z\"/><path d=\"M17.41 7.96l-1.37-1.37c-.4-.4-.92-.59-1.43-.59-.52 0-1.04.2-1.43.59L10.3 9.45l-7.72 7.72c-.78.78-.78 2.05 0 2.83L4 21.41c.39.39.9.59 1.41.59.51 0 1.02-.2 1.41-.59l7.78-7.78 2.81-2.81c.8-.78.8-2.07 0-2.86zM5.41 20L4 18.59l7.72-7.72 1.47 1.35L5.41 20z\"/>\n",
              "  </svg>\n",
              "      </button>\n",
              "      \n",
              "  <style>\n",
              "    .colab-df-container {\n",
              "      display:flex;\n",
              "      flex-wrap:wrap;\n",
              "      gap: 12px;\n",
              "    }\n",
              "\n",
              "    .colab-df-convert {\n",
              "      background-color: #E8F0FE;\n",
              "      border: none;\n",
              "      border-radius: 50%;\n",
              "      cursor: pointer;\n",
              "      display: none;\n",
              "      fill: #1967D2;\n",
              "      height: 32px;\n",
              "      padding: 0 0 0 0;\n",
              "      width: 32px;\n",
              "    }\n",
              "\n",
              "    .colab-df-convert:hover {\n",
              "      background-color: #E2EBFA;\n",
              "      box-shadow: 0px 1px 2px rgba(60, 64, 67, 0.3), 0px 1px 3px 1px rgba(60, 64, 67, 0.15);\n",
              "      fill: #174EA6;\n",
              "    }\n",
              "\n",
              "    [theme=dark] .colab-df-convert {\n",
              "      background-color: #3B4455;\n",
              "      fill: #D2E3FC;\n",
              "    }\n",
              "\n",
              "    [theme=dark] .colab-df-convert:hover {\n",
              "      background-color: #434B5C;\n",
              "      box-shadow: 0px 1px 3px 1px rgba(0, 0, 0, 0.15);\n",
              "      filter: drop-shadow(0px 1px 2px rgba(0, 0, 0, 0.3));\n",
              "      fill: #FFFFFF;\n",
              "    }\n",
              "  </style>\n",
              "\n",
              "      <script>\n",
              "        const buttonEl =\n",
              "          document.querySelector('#df-e5faf156-79ae-4d22-8ad0-a3373895c8d6 button.colab-df-convert');\n",
              "        buttonEl.style.display =\n",
              "          google.colab.kernel.accessAllowed ? 'block' : 'none';\n",
              "\n",
              "        async function convertToInteractive(key) {\n",
              "          const element = document.querySelector('#df-e5faf156-79ae-4d22-8ad0-a3373895c8d6');\n",
              "          const dataTable =\n",
              "            await google.colab.kernel.invokeFunction('convertToInteractive',\n",
              "                                                     [key], {});\n",
              "          if (!dataTable) return;\n",
              "\n",
              "          const docLinkHtml = 'Like what you see? Visit the ' +\n",
              "            '<a target=\"_blank\" href=https://colab.research.google.com/notebooks/data_table.ipynb>data table notebook</a>'\n",
              "            + ' to learn more about interactive tables.';\n",
              "          element.innerHTML = '';\n",
              "          dataTable['output_type'] = 'display_data';\n",
              "          await google.colab.output.renderOutput(dataTable, element);\n",
              "          const docLink = document.createElement('div');\n",
              "          docLink.innerHTML = docLinkHtml;\n",
              "          element.appendChild(docLink);\n",
              "        }\n",
              "      </script>\n",
              "    </div>\n",
              "  </div>\n",
              "  "
            ]
          },
          "metadata": {},
          "execution_count": 73
        }
      ]
    },
    {
      "cell_type": "code",
      "source": [
        "# imputer = KNNImputer(n_neighbors=5, weights='uniform', metric='nan_euclidean')\n",
        "# imputer.fit(train)\n",
        "\n",
        "\n",
        "# train= imputer.transform(train)\n",
        "# imputer.fit(test)\n",
        "# test= imputer.transform(test)\n",
        "# X_train =train[:,0:train.shape[1]-1]\n",
        "# Xx_test = test\n",
        "# y_train = train[:,train.shape[1]-1]\n",
        "\n",
        "\n",
        "!pip install fancyimpute\n",
        "from fancyimpute import KNN\n",
        "train_x = pd.DataFrame(KNN(k = 3).fit_transform(train), columns = train.columns)\n",
        "test_x = pd.DataFrame(KNN(k = 3).fit_transform(test), columns = test.columns)\n"
      ],
      "metadata": {
        "id": "6w1Y__6MQa6o",
        "colab": {
          "base_uri": "https://localhost:8080/"
        },
        "outputId": "5d8a5044-5ce8-4ace-fc7a-2b098ee579a2"
      },
      "execution_count": 74,
      "outputs": [
        {
          "output_type": "stream",
          "name": "stdout",
          "text": [
            "Looking in indexes: https://pypi.org/simple, https://us-python.pkg.dev/colab-wheels/public/simple/\n",
            "Requirement already satisfied: fancyimpute in /usr/local/lib/python3.7/dist-packages (0.7.0)\n",
            "Requirement already satisfied: cvxopt in /usr/local/lib/python3.7/dist-packages (from fancyimpute) (1.2.7)\n",
            "Requirement already satisfied: knnimpute>=0.1.0 in /usr/local/lib/python3.7/dist-packages (from fancyimpute) (0.1.0)\n",
            "Requirement already satisfied: cvxpy in /usr/local/lib/python3.7/dist-packages (from fancyimpute) (1.0.31)\n",
            "Requirement already satisfied: pytest in /usr/local/lib/python3.7/dist-packages (from fancyimpute) (3.6.4)\n",
            "Requirement already satisfied: nose in /usr/local/lib/python3.7/dist-packages (from fancyimpute) (1.3.7)\n",
            "Requirement already satisfied: scikit-learn>=0.24.2 in /usr/local/lib/python3.7/dist-packages (from fancyimpute) (1.0.2)\n",
            "Requirement already satisfied: six in /usr/local/lib/python3.7/dist-packages (from knnimpute>=0.1.0->fancyimpute) (1.15.0)\n",
            "Requirement already satisfied: numpy>=1.10 in /usr/local/lib/python3.7/dist-packages (from knnimpute>=0.1.0->fancyimpute) (1.21.6)\n",
            "Requirement already satisfied: joblib>=0.11 in /usr/local/lib/python3.7/dist-packages (from scikit-learn>=0.24.2->fancyimpute) (1.1.0)\n",
            "Requirement already satisfied: scipy>=1.1.0 in /usr/local/lib/python3.7/dist-packages (from scikit-learn>=0.24.2->fancyimpute) (1.4.1)\n",
            "Requirement already satisfied: threadpoolctl>=2.0.0 in /usr/local/lib/python3.7/dist-packages (from scikit-learn>=0.24.2->fancyimpute) (3.1.0)\n",
            "Requirement already satisfied: multiprocess in /usr/local/lib/python3.7/dist-packages (from cvxpy->fancyimpute) (0.70.12.2)\n",
            "Requirement already satisfied: ecos>=2 in /usr/local/lib/python3.7/dist-packages (from cvxpy->fancyimpute) (2.0.10)\n",
            "Requirement already satisfied: scs>=1.1.3 in /usr/local/lib/python3.7/dist-packages (from cvxpy->fancyimpute) (3.2.0)\n",
            "Requirement already satisfied: osqp>=0.4.1 in /usr/local/lib/python3.7/dist-packages (from cvxpy->fancyimpute) (0.6.2.post0)\n",
            "Requirement already satisfied: qdldl in /usr/local/lib/python3.7/dist-packages (from osqp>=0.4.1->cvxpy->fancyimpute) (0.1.5.post2)\n",
            "Requirement already satisfied: dill>=0.3.4 in /usr/local/lib/python3.7/dist-packages (from multiprocess->cvxpy->fancyimpute) (0.3.5.1)\n",
            "Requirement already satisfied: pluggy<0.8,>=0.5 in /usr/local/lib/python3.7/dist-packages (from pytest->fancyimpute) (0.7.1)\n",
            "Requirement already satisfied: attrs>=17.4.0 in /usr/local/lib/python3.7/dist-packages (from pytest->fancyimpute) (21.4.0)\n",
            "Requirement already satisfied: more-itertools>=4.0.0 in /usr/local/lib/python3.7/dist-packages (from pytest->fancyimpute) (8.13.0)\n",
            "Requirement already satisfied: setuptools in /usr/local/lib/python3.7/dist-packages (from pytest->fancyimpute) (57.4.0)\n",
            "Requirement already satisfied: py>=1.5.0 in /usr/local/lib/python3.7/dist-packages (from pytest->fancyimpute) (1.11.0)\n",
            "Requirement already satisfied: atomicwrites>=1.0 in /usr/local/lib/python3.7/dist-packages (from pytest->fancyimpute) (1.4.0)\n",
            "Imputing row 1/7165 with 0 missing, elapsed time: 17.694\n",
            "Imputing row 101/7165 with 0 missing, elapsed time: 17.697\n",
            "Imputing row 201/7165 with 0 missing, elapsed time: 17.698\n",
            "Imputing row 301/7165 with 1 missing, elapsed time: 17.700\n",
            "Imputing row 401/7165 with 0 missing, elapsed time: 17.701\n",
            "Imputing row 501/7165 with 0 missing, elapsed time: 17.703\n",
            "Imputing row 601/7165 with 0 missing, elapsed time: 17.706\n",
            "Imputing row 701/7165 with 0 missing, elapsed time: 17.707\n",
            "Imputing row 801/7165 with 0 missing, elapsed time: 17.709\n",
            "Imputing row 901/7165 with 0 missing, elapsed time: 17.711\n",
            "Imputing row 1001/7165 with 0 missing, elapsed time: 17.713\n",
            "Imputing row 1101/7165 with 1 missing, elapsed time: 17.715\n",
            "Imputing row 1201/7165 with 0 missing, elapsed time: 17.717\n",
            "Imputing row 1301/7165 with 1 missing, elapsed time: 17.719\n",
            "Imputing row 1401/7165 with 0 missing, elapsed time: 17.721\n",
            "Imputing row 1501/7165 with 0 missing, elapsed time: 17.723\n",
            "Imputing row 1601/7165 with 0 missing, elapsed time: 17.724\n",
            "Imputing row 1701/7165 with 0 missing, elapsed time: 17.726\n",
            "Imputing row 1801/7165 with 0 missing, elapsed time: 17.728\n",
            "Imputing row 1901/7165 with 0 missing, elapsed time: 17.730\n",
            "Imputing row 2001/7165 with 0 missing, elapsed time: 17.732\n",
            "Imputing row 2101/7165 with 0 missing, elapsed time: 17.733\n",
            "Imputing row 2201/7165 with 0 missing, elapsed time: 17.735\n",
            "Imputing row 2301/7165 with 0 missing, elapsed time: 17.737\n",
            "Imputing row 2401/7165 with 1 missing, elapsed time: 17.739\n",
            "Imputing row 2501/7165 with 0 missing, elapsed time: 17.740\n",
            "Imputing row 2601/7165 with 0 missing, elapsed time: 17.742\n",
            "Imputing row 2701/7165 with 0 missing, elapsed time: 17.743\n",
            "Imputing row 2801/7165 with 0 missing, elapsed time: 17.745\n",
            "Imputing row 2901/7165 with 1 missing, elapsed time: 17.747\n",
            "Imputing row 3001/7165 with 0 missing, elapsed time: 17.748\n",
            "Imputing row 3101/7165 with 0 missing, elapsed time: 17.750\n",
            "Imputing row 3201/7165 with 0 missing, elapsed time: 17.751\n",
            "Imputing row 3301/7165 with 0 missing, elapsed time: 17.753\n",
            "Imputing row 3401/7165 with 0 missing, elapsed time: 17.755\n",
            "Imputing row 3501/7165 with 0 missing, elapsed time: 17.757\n",
            "Imputing row 3601/7165 with 0 missing, elapsed time: 17.759\n",
            "Imputing row 3701/7165 with 0 missing, elapsed time: 17.761\n",
            "Imputing row 3801/7165 with 2 missing, elapsed time: 17.763\n",
            "Imputing row 3901/7165 with 0 missing, elapsed time: 17.764\n",
            "Imputing row 4001/7165 with 0 missing, elapsed time: 17.766\n",
            "Imputing row 4101/7165 with 0 missing, elapsed time: 17.768\n",
            "Imputing row 4201/7165 with 1 missing, elapsed time: 17.770\n",
            "Imputing row 4301/7165 with 0 missing, elapsed time: 17.772\n",
            "Imputing row 4401/7165 with 0 missing, elapsed time: 17.775\n",
            "Imputing row 4501/7165 with 0 missing, elapsed time: 17.778\n",
            "Imputing row 4601/7165 with 0 missing, elapsed time: 17.780\n",
            "Imputing row 4701/7165 with 0 missing, elapsed time: 17.784\n",
            "Imputing row 4801/7165 with 0 missing, elapsed time: 17.787\n",
            "Imputing row 4901/7165 with 0 missing, elapsed time: 17.788\n",
            "Imputing row 5001/7165 with 0 missing, elapsed time: 17.790\n",
            "Imputing row 5101/7165 with 0 missing, elapsed time: 17.794\n",
            "Imputing row 5201/7165 with 0 missing, elapsed time: 17.796\n",
            "Imputing row 5301/7165 with 0 missing, elapsed time: 17.798\n",
            "Imputing row 5401/7165 with 0 missing, elapsed time: 17.799\n",
            "Imputing row 5501/7165 with 1 missing, elapsed time: 17.803\n",
            "Imputing row 5601/7165 with 0 missing, elapsed time: 17.805\n",
            "Imputing row 5701/7165 with 0 missing, elapsed time: 17.808\n",
            "Imputing row 5801/7165 with 0 missing, elapsed time: 17.809\n",
            "Imputing row 5901/7165 with 0 missing, elapsed time: 17.811\n",
            "Imputing row 6001/7165 with 0 missing, elapsed time: 17.813\n",
            "Imputing row 6101/7165 with 0 missing, elapsed time: 17.814\n",
            "Imputing row 6201/7165 with 0 missing, elapsed time: 17.816\n",
            "Imputing row 6301/7165 with 0 missing, elapsed time: 17.817\n",
            "Imputing row 6401/7165 with 0 missing, elapsed time: 17.819\n",
            "Imputing row 6501/7165 with 0 missing, elapsed time: 17.821\n",
            "Imputing row 6601/7165 with 0 missing, elapsed time: 17.823\n",
            "Imputing row 6701/7165 with 0 missing, elapsed time: 17.824\n",
            "Imputing row 6801/7165 with 0 missing, elapsed time: 17.825\n",
            "Imputing row 6901/7165 with 0 missing, elapsed time: 17.828\n",
            "Imputing row 7001/7165 with 1 missing, elapsed time: 17.830\n",
            "Imputing row 7101/7165 with 0 missing, elapsed time: 17.832\n",
            "Imputing row 1/3530 with 0 missing, elapsed time: 3.127\n",
            "Imputing row 101/3530 with 1 missing, elapsed time: 3.129\n",
            "Imputing row 201/3530 with 0 missing, elapsed time: 3.131\n",
            "Imputing row 301/3530 with 0 missing, elapsed time: 3.133\n",
            "Imputing row 401/3530 with 0 missing, elapsed time: 3.134\n",
            "Imputing row 501/3530 with 0 missing, elapsed time: 3.136\n",
            "Imputing row 601/3530 with 1 missing, elapsed time: 3.138\n",
            "Imputing row 701/3530 with 0 missing, elapsed time: 3.140\n",
            "Imputing row 801/3530 with 0 missing, elapsed time: 3.141\n",
            "Imputing row 901/3530 with 0 missing, elapsed time: 3.143\n",
            "Imputing row 1001/3530 with 0 missing, elapsed time: 3.144\n",
            "Imputing row 1101/3530 with 0 missing, elapsed time: 3.146\n",
            "Imputing row 1201/3530 with 1 missing, elapsed time: 3.147\n",
            "Imputing row 1301/3530 with 0 missing, elapsed time: 3.149\n",
            "Imputing row 1401/3530 with 0 missing, elapsed time: 3.150\n",
            "Imputing row 1501/3530 with 0 missing, elapsed time: 3.152\n",
            "Imputing row 1601/3530 with 0 missing, elapsed time: 3.153\n",
            "Imputing row 1701/3530 with 0 missing, elapsed time: 3.155\n",
            "Imputing row 1801/3530 with 0 missing, elapsed time: 3.157\n",
            "Imputing row 1901/3530 with 1 missing, elapsed time: 3.158\n",
            "Imputing row 2001/3530 with 0 missing, elapsed time: 3.160\n",
            "Imputing row 2101/3530 with 1 missing, elapsed time: 3.161\n",
            "Imputing row 2201/3530 with 0 missing, elapsed time: 3.163\n",
            "Imputing row 2301/3530 with 0 missing, elapsed time: 3.164\n",
            "Imputing row 2401/3530 with 0 missing, elapsed time: 3.166\n",
            "Imputing row 2501/3530 with 0 missing, elapsed time: 3.167\n",
            "Imputing row 2601/3530 with 0 missing, elapsed time: 3.168\n",
            "Imputing row 2701/3530 with 0 missing, elapsed time: 3.170\n",
            "Imputing row 2801/3530 with 1 missing, elapsed time: 3.171\n",
            "Imputing row 2901/3530 with 0 missing, elapsed time: 3.173\n",
            "Imputing row 3001/3530 with 0 missing, elapsed time: 3.174\n",
            "Imputing row 3101/3530 with 0 missing, elapsed time: 3.176\n",
            "Imputing row 3201/3530 with 0 missing, elapsed time: 3.177\n",
            "Imputing row 3301/3530 with 0 missing, elapsed time: 3.179\n",
            "Imputing row 3401/3530 with 0 missing, elapsed time: 3.180\n",
            "Imputing row 3501/3530 with 1 missing, elapsed time: 3.181\n"
          ]
        }
      ]
    },
    {
      "cell_type": "code",
      "source": [
        "\n",
        "train.isnull().sum()"
      ],
      "metadata": {
        "colab": {
          "base_uri": "https://localhost:8080/"
        },
        "id": "NGEKmOgg6ylx",
        "outputId": "8edd22c3-bc8e-4a67-8507-30d2470d378e"
      },
      "execution_count": 75,
      "outputs": [
        {
          "output_type": "execute_result",
          "data": {
            "text/plain": [
              "Cat_1                0\n",
              "Cat_2                0\n",
              "Cat_3                0\n",
              "Cat_4                0\n",
              "Cat_5                0\n",
              "Cat_6                0\n",
              "Cat_7                0\n",
              "Artist               0\n",
              "Doctor               0\n",
              "Engineer             0\n",
              "Entertainment        0\n",
              "Executive            0\n",
              "Healthcare           0\n",
              "Homemaker            0\n",
              "Lawyer               0\n",
              "Marketing            0\n",
              "Gender               0\n",
              "Ever_Married         0\n",
              "Age                  0\n",
              "Graduated            0\n",
              "Work_Experience    725\n",
              "Spending_Score       0\n",
              "Family_Size        301\n",
              "Segmentation         0\n",
              "dtype: int64"
            ]
          },
          "metadata": {},
          "execution_count": 75
        }
      ]
    },
    {
      "cell_type": "code",
      "source": [
        "numeric_var = ['Segmentation','Age', 'Work_Experience', 'Family_Size', 'Spending_Score']\n",
        "Data_Day_cor = train.loc[:, numeric_var]\n",
        "correlation_result = Data_Day_cor.corr()"
      ],
      "metadata": {
        "id": "lEifLvtU314H"
      },
      "execution_count": 76,
      "outputs": []
    },
    {
      "cell_type": "code",
      "source": [
        "plt.figure(figsize=(12,8))\n",
        "heatmap = sns.heatmap(correlation_result,annot=True)"
      ],
      "metadata": {
        "id": "d6ViEtrt4c-1",
        "colab": {
          "base_uri": "https://localhost:8080/",
          "height": 488
        },
        "outputId": "6dca218e-af12-418e-8264-3c0d01e592f7"
      },
      "execution_count": 77,
      "outputs": [
        {
          "output_type": "display_data",
          "data": {
            "text/plain": [
              "<Figure size 864x576 with 2 Axes>"
            ],
            "image/png": "[encoded data removed]"
          },
          "metadata": {
            "needs_background": "light"
          }
        }
      ]
    },
    {
      "cell_type": "code",
      "source": [
        "X_train=train.drop(['Segmentation','Work_Experience'],axis=1)\n",
        "Xx_test=test.drop(['Work_Experience'],axis=1)\n",
        "y_train=train['Segmentation']"
      ],
      "metadata": {
        "id": "ndQwyd0y-HfC"
      },
      "execution_count": 78,
      "outputs": []
    },
    {
      "cell_type": "code",
      "source": [
        "X_train_x=train_x.drop(['Segmentation','Work_Experience'],axis=1)\n",
        "Xx_test_x=test_x.drop(['Work_Experience'],axis=1)\n",
        "y_train_x=train_x['Segmentation']"
      ],
      "metadata": {
        "id": "Xk7b_DkAZC-j"
      },
      "execution_count": 79,
      "outputs": []
    },
    {
      "cell_type": "code",
      "source": [
        "X_train, X_test, y_train, y_test = train_test_split(X_train, y_train, test_size = 0.2, random_state=42)"
      ],
      "metadata": {
        "id": "FXjRZDDr4eeS"
      },
      "execution_count": 80,
      "outputs": []
    },
    {
      "cell_type": "code",
      "source": [
        "X_train_x, X_test_x, y_train_x, y_test_x = train_test_split(X_train_x, y_train_x, test_size = 0.2, random_state=42)"
      ],
      "metadata": {
        "id": "TbscBXGiZYvD"
      },
      "execution_count": 81,
      "outputs": []
    },
    {
      "cell_type": "code",
      "source": [
        "from sklearn.tree import DecisionTreeClassifier\n",
        "from sklearn.ensemble import RandomForestClassifier\n",
        "from sklearn.naive_bayes import GaussianNB\n",
        "from sklearn.neighbors import KNeighborsClassifier\n",
        "from sklearn.svm import SVC\n",
        "from sklearn.neural_network import MLPClassifier\n",
        "from sklearn.ensemble import AdaBoostClassifier\n",
        "from sklearn.ensemble import GradientBoostingClassifier\n",
        "\n",
        "from sklearn.ensemble import ExtraTreesClassifier\n",
        "from sklearn.linear_model import LogisticRegression\n",
        "from sklearn.model_selection import train_test_split\n",
        "from sklearn.metrics import accuracy_score\n",
        "\n",
        "from sklearn.preprocessing import LabelEncoder\n",
        "from xgboost import XGBClassifier\n",
        "from catboost import CatBoostClassifier\n",
        "from sklearn.metrics import accuracy_score\n",
        "from sklearn.metrics import classification_report"
      ],
      "metadata": {
        "id": "ZOuQjiXrljxs"
      },
      "execution_count": 82,
      "outputs": []
    },
    {
      "cell_type": "code",
      "source": [
        "classifiers = [ ['ExtraTreesClassifier :', ExtraTreesClassifier()],\n",
        "               ['DecisionTree :',DecisionTreeClassifier()],\n",
        "               ['RandomForest :',RandomForestClassifier()], \n",
        "               ['AdaBoostClassifier :', AdaBoostClassifier()],\n",
        "               ['GradientBoostingClassifier: ', GradientBoostingClassifier()],\n",
        "               ['XGB :', XGBClassifier()],\n",
        "               ['CatBoost :', CatBoostClassifier(logging_level='Silent')]]\n",
        "\n",
        "predictions_df = pd.DataFrame()\n",
        "predictions_df['action'] = y_test\n",
        "\n",
        "for name,classifier in classifiers:\n",
        "    classifier = classifier\n",
        "    classifier.fit(X_train_x, y_train_x.ravel())\n",
        "    predictions = classifier.predict(X_test_x)\n",
        "    predictions_df[name.strip(\" :\")] = predictions\n",
        "    print(name, accuracy_score(y_test, predictions))"
      ],
      "metadata": {
        "id": "lf-wdFs0lC4A",
        "colab": {
          "base_uri": "https://localhost:8080/"
        },
        "outputId": "eeb36dc4-4a16-4d85-ff55-3d1be432af67"
      },
      "execution_count": 83,
      "outputs": [
        {
          "output_type": "stream",
          "name": "stdout",
          "text": [
            "ExtraTreesClassifier : 0.36985345429169575\n",
            "DecisionTree : 0.35519888346127004\n",
            "RandomForest : 0.377529658060014\n",
            "AdaBoostClassifier : 0.45638520586182835\n",
            "GradientBoostingClassifier:  0.479413817166783\n",
            "XGB : 0.47592463363572923\n",
            "CatBoost : 0.4466154919748779\n"
          ]
        }
      ]
    },
    {
      "cell_type": "code",
      "source": [
        "gbc = GradientBoostingClassifier()\n",
        "parameters = {\n",
        "    \"n_estimators\":[500,100],\n",
        "    \"max_depth\":[5,7,9],\n",
        "    \"learning_rate\":[0.01,0.1]\n",
        "}\n",
        "from sklearn.model_selection import GridSearchCV\n",
        "\n",
        "cv = GridSearchCV(gbc,parameters,cv=10)\n",
        "cv.fit(X_train_x,y_train_x)\n",
        "grad_sumit=cv.predict(Xx_test)\n"
      ],
      "metadata": {
        "id": "w8cMz5Yumr0u",
        "colab": {
          "base_uri": "https://localhost:8080/",
          "height": 381
        },
        "outputId": "d507df02-2781-4361-c51f-ff5c7d1bf77f"
      },
      "execution_count": 28,
      "outputs": [
        {
          "output_type": "error",
          "ename": "KeyboardInterrupt",
          "evalue": "ignored",
          "traceback": [
            "\u001b[0;31m---------------------------------------------------------------------------\u001b[0m",
            "\u001b[0;31mKeyboardInterrupt\u001b[0m                         Traceback (most recent call last)",
            "\u001b[0;32m<ipython-input-28-8169a7e92693>\u001b[0m in \u001b[0;36m<module>\u001b[0;34m()\u001b[0m\n\u001b[1;32m      8\u001b[0m \u001b[0;34m\u001b[0m\u001b[0m\n\u001b[1;32m      9\u001b[0m \u001b[0mcv\u001b[0m \u001b[0;34m=\u001b[0m \u001b[0mGridSearchCV\u001b[0m\u001b[0;34m(\u001b[0m\u001b[0mgbc\u001b[0m\u001b[0;34m,\u001b[0m\u001b[0mparameters\u001b[0m\u001b[0;34m,\u001b[0m\u001b[0mcv\u001b[0m\u001b[0;34m=\u001b[0m\u001b[0;36m10\u001b[0m\u001b[0;34m)\u001b[0m\u001b[0;34m\u001b[0m\u001b[0;34m\u001b[0m\u001b[0m\n\u001b[0;32m---> 10\u001b[0;31m \u001b[0mcv\u001b[0m\u001b[0;34m.\u001b[0m\u001b[0mfit\u001b[0m\u001b[0;34m(\u001b[0m\u001b[0mX_train_x\u001b[0m\u001b[0;34m,\u001b[0m\u001b[0my_train_x\u001b[0m\u001b[0;34m)\u001b[0m\u001b[0;34m\u001b[0m\u001b[0;34m\u001b[0m\u001b[0m\n\u001b[0m\u001b[1;32m     11\u001b[0m \u001b[0mgrad_sumit\u001b[0m\u001b[0;34m=\u001b[0m\u001b[0mcv\u001b[0m\u001b[0;34m.\u001b[0m\u001b[0mpredict\u001b[0m\u001b[0;34m(\u001b[0m\u001b[0mXx_test\u001b[0m\u001b[0;34m)\u001b[0m\u001b[0;34m\u001b[0m\u001b[0;34m\u001b[0m\u001b[0m\n",
            "\u001b[0;32m/usr/local/lib/python3.7/dist-packages/sklearn/model_selection/_search.py\u001b[0m in \u001b[0;36mfit\u001b[0;34m(self, X, y, groups, **fit_params)\u001b[0m\n\u001b[1;32m    889\u001b[0m                 \u001b[0;32mreturn\u001b[0m \u001b[0mresults\u001b[0m\u001b[0;34m\u001b[0m\u001b[0;34m\u001b[0m\u001b[0m\n\u001b[1;32m    890\u001b[0m \u001b[0;34m\u001b[0m\u001b[0m\n\u001b[0;32m--> 891\u001b[0;31m             \u001b[0mself\u001b[0m\u001b[0;34m.\u001b[0m\u001b[0m_run_search\u001b[0m\u001b[0;34m(\u001b[0m\u001b[0mevaluate_candidates\u001b[0m\u001b[0;34m)\u001b[0m\u001b[0;34m\u001b[0m\u001b[0;34m\u001b[0m\u001b[0m\n\u001b[0m\u001b[1;32m    892\u001b[0m \u001b[0;34m\u001b[0m\u001b[0m\n\u001b[1;32m    893\u001b[0m             \u001b[0;31m# multimetric is determined here because in the case of a callable\u001b[0m\u001b[0;34m\u001b[0m\u001b[0;34m\u001b[0m\u001b[0;34m\u001b[0m\u001b[0m\n",
            "\u001b[0;32m/usr/local/lib/python3.7/dist-packages/sklearn/model_selection/_search.py\u001b[0m in \u001b[0;36m_run_search\u001b[0;34m(self, evaluate_candidates)\u001b[0m\n\u001b[1;32m   1390\u001b[0m     \u001b[0;32mdef\u001b[0m \u001b[0m_run_search\u001b[0m\u001b[0;34m(\u001b[0m\u001b[0mself\u001b[0m\u001b[0;34m,\u001b[0m \u001b[0mevaluate_candidates\u001b[0m\u001b[0;34m)\u001b[0m\u001b[0;34m:\u001b[0m\u001b[0;34m\u001b[0m\u001b[0;34m\u001b[0m\u001b[0m\n\u001b[1;32m   1391\u001b[0m         \u001b[0;34m\"\"\"Search all candidates in param_grid\"\"\"\u001b[0m\u001b[0;34m\u001b[0m\u001b[0;34m\u001b[0m\u001b[0m\n\u001b[0;32m-> 1392\u001b[0;31m         \u001b[0mevaluate_candidates\u001b[0m\u001b[0;34m(\u001b[0m\u001b[0mParameterGrid\u001b[0m\u001b[0;34m(\u001b[0m\u001b[0mself\u001b[0m\u001b[0;34m.\u001b[0m\u001b[0mparam_grid\u001b[0m\u001b[0;34m)\u001b[0m\u001b[0;34m)\u001b[0m\u001b[0;34m\u001b[0m\u001b[0;34m\u001b[0m\u001b[0m\n\u001b[0m\u001b[1;32m   1393\u001b[0m \u001b[0;34m\u001b[0m\u001b[0m\n\u001b[1;32m   1394\u001b[0m \u001b[0;34m\u001b[0m\u001b[0m\n",
            "\u001b[0;32m/usr/local/lib/python3.7/dist-packages/sklearn/model_selection/_search.py\u001b[0m in \u001b[0;36mevaluate_candidates\u001b[0;34m(candidate_params, cv, more_results)\u001b[0m\n\u001b[1;32m    849\u001b[0m                     )\n\u001b[1;32m    850\u001b[0m                     for (cand_idx, parameters), (split_idx, (train, test)) in product(\n\u001b[0;32m--> 851\u001b[0;31m                         \u001b[0menumerate\u001b[0m\u001b[0;34m(\u001b[0m\u001b[0mcandidate_params\u001b[0m\u001b[0;34m)\u001b[0m\u001b[0;34m,\u001b[0m \u001b[0menumerate\u001b[0m\u001b[0;34m(\u001b[0m\u001b[0mcv\u001b[0m\u001b[0;34m.\u001b[0m\u001b[0msplit\u001b[0m\u001b[0;34m(\u001b[0m\u001b[0mX\u001b[0m\u001b[0;34m,\u001b[0m \u001b[0my\u001b[0m\u001b[0;34m,\u001b[0m \u001b[0mgroups\u001b[0m\u001b[0;34m)\u001b[0m\u001b[0;34m)\u001b[0m\u001b[0;34m\u001b[0m\u001b[0;34m\u001b[0m\u001b[0m\n\u001b[0m\u001b[1;32m    852\u001b[0m                     )\n\u001b[1;32m    853\u001b[0m                 )\n",
            "\u001b[0;32m/usr/local/lib/python3.7/dist-packages/joblib/parallel.py\u001b[0m in \u001b[0;36m__call__\u001b[0;34m(self, iterable)\u001b[0m\n\u001b[1;32m   1044\u001b[0m                 \u001b[0mself\u001b[0m\u001b[0;34m.\u001b[0m\u001b[0m_iterating\u001b[0m \u001b[0;34m=\u001b[0m \u001b[0mself\u001b[0m\u001b[0;34m.\u001b[0m\u001b[0m_original_iterator\u001b[0m \u001b[0;32mis\u001b[0m \u001b[0;32mnot\u001b[0m \u001b[0;32mNone\u001b[0m\u001b[0;34m\u001b[0m\u001b[0;34m\u001b[0m\u001b[0m\n\u001b[1;32m   1045\u001b[0m \u001b[0;34m\u001b[0m\u001b[0m\n\u001b[0;32m-> 1046\u001b[0;31m             \u001b[0;32mwhile\u001b[0m \u001b[0mself\u001b[0m\u001b[0;34m.\u001b[0m\u001b[0mdispatch_one_batch\u001b[0m\u001b[0;34m(\u001b[0m\u001b[0miterator\u001b[0m\u001b[0;34m)\u001b[0m\u001b[0;34m:\u001b[0m\u001b[0;34m\u001b[0m\u001b[0;34m\u001b[0m\u001b[0m\n\u001b[0m\u001b[1;32m   1047\u001b[0m                 \u001b[0;32mpass\u001b[0m\u001b[0;34m\u001b[0m\u001b[0;34m\u001b[0m\u001b[0m\n\u001b[1;32m   1048\u001b[0m \u001b[0;34m\u001b[0m\u001b[0m\n",
            "\u001b[0;32m/usr/local/lib/python3.7/dist-packages/joblib/parallel.py\u001b[0m in \u001b[0;36mdispatch_one_batch\u001b[0;34m(self, iterator)\u001b[0m\n\u001b[1;32m    859\u001b[0m                 \u001b[0;32mreturn\u001b[0m \u001b[0;32mFalse\u001b[0m\u001b[0;34m\u001b[0m\u001b[0;34m\u001b[0m\u001b[0m\n\u001b[1;32m    860\u001b[0m             \u001b[0;32melse\u001b[0m\u001b[0;34m:\u001b[0m\u001b[0;34m\u001b[0m\u001b[0;34m\u001b[0m\u001b[0m\n\u001b[0;32m--> 861\u001b[0;31m                 \u001b[0mself\u001b[0m\u001b[0;34m.\u001b[0m\u001b[0m_dispatch\u001b[0m\u001b[0;34m(\u001b[0m\u001b[0mtasks\u001b[0m\u001b[0;34m)\u001b[0m\u001b[0;34m\u001b[0m\u001b[0;34m\u001b[0m\u001b[0m\n\u001b[0m\u001b[1;32m    862\u001b[0m                 \u001b[0;32mreturn\u001b[0m \u001b[0;32mTrue\u001b[0m\u001b[0;34m\u001b[0m\u001b[0;34m\u001b[0m\u001b[0m\n\u001b[1;32m    863\u001b[0m \u001b[0;34m\u001b[0m\u001b[0m\n",
            "\u001b[0;32m/usr/local/lib/python3.7/dist-packages/joblib/parallel.py\u001b[0m in \u001b[0;36m_dispatch\u001b[0;34m(self, batch)\u001b[0m\n\u001b[1;32m    777\u001b[0m         \u001b[0;32mwith\u001b[0m \u001b[0mself\u001b[0m\u001b[0;34m.\u001b[0m\u001b[0m_lock\u001b[0m\u001b[0;34m:\u001b[0m\u001b[0;34m\u001b[0m\u001b[0;34m\u001b[0m\u001b[0m\n\u001b[1;32m    778\u001b[0m             \u001b[0mjob_idx\u001b[0m \u001b[0;34m=\u001b[0m \u001b[0mlen\u001b[0m\u001b[0;34m(\u001b[0m\u001b[0mself\u001b[0m\u001b[0;34m.\u001b[0m\u001b[0m_jobs\u001b[0m\u001b[0;34m)\u001b[0m\u001b[0;34m\u001b[0m\u001b[0;34m\u001b[0m\u001b[0m\n\u001b[0;32m--> 779\u001b[0;31m             \u001b[0mjob\u001b[0m \u001b[0;34m=\u001b[0m \u001b[0mself\u001b[0m\u001b[0;34m.\u001b[0m\u001b[0m_backend\u001b[0m\u001b[0;34m.\u001b[0m\u001b[0mapply_async\u001b[0m\u001b[0;34m(\u001b[0m\u001b[0mbatch\u001b[0m\u001b[0;34m,\u001b[0m \u001b[0mcallback\u001b[0m\u001b[0;34m=\u001b[0m\u001b[0mcb\u001b[0m\u001b[0;34m)\u001b[0m\u001b[0;34m\u001b[0m\u001b[0;34m\u001b[0m\u001b[0m\n\u001b[0m\u001b[1;32m    780\u001b[0m             \u001b[0;31m# A job can complete so quickly than its callback is\u001b[0m\u001b[0;34m\u001b[0m\u001b[0;34m\u001b[0m\u001b[0;34m\u001b[0m\u001b[0m\n\u001b[1;32m    781\u001b[0m             \u001b[0;31m# called before we get here, causing self._jobs to\u001b[0m\u001b[0;34m\u001b[0m\u001b[0;34m\u001b[0m\u001b[0;34m\u001b[0m\u001b[0m\n",
            "\u001b[0;32m/usr/local/lib/python3.7/dist-packages/joblib/_parallel_backends.py\u001b[0m in \u001b[0;36mapply_async\u001b[0;34m(self, func, callback)\u001b[0m\n\u001b[1;32m    206\u001b[0m     \u001b[0;32mdef\u001b[0m \u001b[0mapply_async\u001b[0m\u001b[0;34m(\u001b[0m\u001b[0mself\u001b[0m\u001b[0;34m,\u001b[0m \u001b[0mfunc\u001b[0m\u001b[0;34m,\u001b[0m \u001b[0mcallback\u001b[0m\u001b[0;34m=\u001b[0m\u001b[0;32mNone\u001b[0m\u001b[0;34m)\u001b[0m\u001b[0;34m:\u001b[0m\u001b[0;34m\u001b[0m\u001b[0;34m\u001b[0m\u001b[0m\n\u001b[1;32m    207\u001b[0m         \u001b[0;34m\"\"\"Schedule a func to be run\"\"\"\u001b[0m\u001b[0;34m\u001b[0m\u001b[0;34m\u001b[0m\u001b[0m\n\u001b[0;32m--> 208\u001b[0;31m         \u001b[0mresult\u001b[0m \u001b[0;34m=\u001b[0m \u001b[0mImmediateResult\u001b[0m\u001b[0;34m(\u001b[0m\u001b[0mfunc\u001b[0m\u001b[0;34m)\u001b[0m\u001b[0;34m\u001b[0m\u001b[0;34m\u001b[0m\u001b[0m\n\u001b[0m\u001b[1;32m    209\u001b[0m         \u001b[0;32mif\u001b[0m \u001b[0mcallback\u001b[0m\u001b[0;34m:\u001b[0m\u001b[0;34m\u001b[0m\u001b[0;34m\u001b[0m\u001b[0m\n\u001b[1;32m    210\u001b[0m             \u001b[0mcallback\u001b[0m\u001b[0;34m(\u001b[0m\u001b[0mresult\u001b[0m\u001b[0;34m)\u001b[0m\u001b[0;34m\u001b[0m\u001b[0;34m\u001b[0m\u001b[0m\n",
            "\u001b[0;32m/usr/local/lib/python3.7/dist-packages/joblib/_parallel_backends.py\u001b[0m in \u001b[0;36m__init__\u001b[0;34m(self, batch)\u001b[0m\n\u001b[1;32m    570\u001b[0m         \u001b[0;31m# Don't delay the application, to avoid keeping the input\u001b[0m\u001b[0;34m\u001b[0m\u001b[0;34m\u001b[0m\u001b[0;34m\u001b[0m\u001b[0m\n\u001b[1;32m    571\u001b[0m         \u001b[0;31m# arguments in memory\u001b[0m\u001b[0;34m\u001b[0m\u001b[0;34m\u001b[0m\u001b[0;34m\u001b[0m\u001b[0m\n\u001b[0;32m--> 572\u001b[0;31m         \u001b[0mself\u001b[0m\u001b[0;34m.\u001b[0m\u001b[0mresults\u001b[0m \u001b[0;34m=\u001b[0m \u001b[0mbatch\u001b[0m\u001b[0;34m(\u001b[0m\u001b[0;34m)\u001b[0m\u001b[0;34m\u001b[0m\u001b[0;34m\u001b[0m\u001b[0m\n\u001b[0m\u001b[1;32m    573\u001b[0m \u001b[0;34m\u001b[0m\u001b[0m\n\u001b[1;32m    574\u001b[0m     \u001b[0;32mdef\u001b[0m \u001b[0mget\u001b[0m\u001b[0;34m(\u001b[0m\u001b[0mself\u001b[0m\u001b[0;34m)\u001b[0m\u001b[0;34m:\u001b[0m\u001b[0;34m\u001b[0m\u001b[0;34m\u001b[0m\u001b[0m\n",
            "\u001b[0;32m/usr/local/lib/python3.7/dist-packages/joblib/parallel.py\u001b[0m in \u001b[0;36m__call__\u001b[0;34m(self)\u001b[0m\n\u001b[1;32m    261\u001b[0m         \u001b[0;32mwith\u001b[0m \u001b[0mparallel_backend\u001b[0m\u001b[0;34m(\u001b[0m\u001b[0mself\u001b[0m\u001b[0;34m.\u001b[0m\u001b[0m_backend\u001b[0m\u001b[0;34m,\u001b[0m \u001b[0mn_jobs\u001b[0m\u001b[0;34m=\u001b[0m\u001b[0mself\u001b[0m\u001b[0;34m.\u001b[0m\u001b[0m_n_jobs\u001b[0m\u001b[0;34m)\u001b[0m\u001b[0;34m:\u001b[0m\u001b[0;34m\u001b[0m\u001b[0;34m\u001b[0m\u001b[0m\n\u001b[1;32m    262\u001b[0m             return [func(*args, **kwargs)\n\u001b[0;32m--> 263\u001b[0;31m                     for func, args, kwargs in self.items]\n\u001b[0m\u001b[1;32m    264\u001b[0m \u001b[0;34m\u001b[0m\u001b[0m\n\u001b[1;32m    265\u001b[0m     \u001b[0;32mdef\u001b[0m \u001b[0m__reduce__\u001b[0m\u001b[0;34m(\u001b[0m\u001b[0mself\u001b[0m\u001b[0;34m)\u001b[0m\u001b[0;34m:\u001b[0m\u001b[0;34m\u001b[0m\u001b[0;34m\u001b[0m\u001b[0m\n",
            "\u001b[0;32m/usr/local/lib/python3.7/dist-packages/joblib/parallel.py\u001b[0m in \u001b[0;36m<listcomp>\u001b[0;34m(.0)\u001b[0m\n\u001b[1;32m    261\u001b[0m         \u001b[0;32mwith\u001b[0m \u001b[0mparallel_backend\u001b[0m\u001b[0;34m(\u001b[0m\u001b[0mself\u001b[0m\u001b[0;34m.\u001b[0m\u001b[0m_backend\u001b[0m\u001b[0;34m,\u001b[0m \u001b[0mn_jobs\u001b[0m\u001b[0;34m=\u001b[0m\u001b[0mself\u001b[0m\u001b[0;34m.\u001b[0m\u001b[0m_n_jobs\u001b[0m\u001b[0;34m)\u001b[0m\u001b[0;34m:\u001b[0m\u001b[0;34m\u001b[0m\u001b[0;34m\u001b[0m\u001b[0m\n\u001b[1;32m    262\u001b[0m             return [func(*args, **kwargs)\n\u001b[0;32m--> 263\u001b[0;31m                     for func, args, kwargs in self.items]\n\u001b[0m\u001b[1;32m    264\u001b[0m \u001b[0;34m\u001b[0m\u001b[0m\n\u001b[1;32m    265\u001b[0m     \u001b[0;32mdef\u001b[0m \u001b[0m__reduce__\u001b[0m\u001b[0;34m(\u001b[0m\u001b[0mself\u001b[0m\u001b[0;34m)\u001b[0m\u001b[0;34m:\u001b[0m\u001b[0;34m\u001b[0m\u001b[0;34m\u001b[0m\u001b[0m\n",
            "\u001b[0;32m/usr/local/lib/python3.7/dist-packages/sklearn/utils/fixes.py\u001b[0m in \u001b[0;36m__call__\u001b[0;34m(self, *args, **kwargs)\u001b[0m\n\u001b[1;32m    214\u001b[0m     \u001b[0;32mdef\u001b[0m \u001b[0m__call__\u001b[0m\u001b[0;34m(\u001b[0m\u001b[0mself\u001b[0m\u001b[0;34m,\u001b[0m \u001b[0;34m*\u001b[0m\u001b[0margs\u001b[0m\u001b[0;34m,\u001b[0m \u001b[0;34m**\u001b[0m\u001b[0mkwargs\u001b[0m\u001b[0;34m)\u001b[0m\u001b[0;34m:\u001b[0m\u001b[0;34m\u001b[0m\u001b[0;34m\u001b[0m\u001b[0m\n\u001b[1;32m    215\u001b[0m         \u001b[0;32mwith\u001b[0m \u001b[0mconfig_context\u001b[0m\u001b[0;34m(\u001b[0m\u001b[0;34m**\u001b[0m\u001b[0mself\u001b[0m\u001b[0;34m.\u001b[0m\u001b[0mconfig\u001b[0m\u001b[0;34m)\u001b[0m\u001b[0;34m:\u001b[0m\u001b[0;34m\u001b[0m\u001b[0;34m\u001b[0m\u001b[0m\n\u001b[0;32m--> 216\u001b[0;31m             \u001b[0;32mreturn\u001b[0m \u001b[0mself\u001b[0m\u001b[0;34m.\u001b[0m\u001b[0mfunction\u001b[0m\u001b[0;34m(\u001b[0m\u001b[0;34m*\u001b[0m\u001b[0margs\u001b[0m\u001b[0;34m,\u001b[0m \u001b[0;34m**\u001b[0m\u001b[0mkwargs\u001b[0m\u001b[0;34m)\u001b[0m\u001b[0;34m\u001b[0m\u001b[0;34m\u001b[0m\u001b[0m\n\u001b[0m\u001b[1;32m    217\u001b[0m \u001b[0;34m\u001b[0m\u001b[0m\n\u001b[1;32m    218\u001b[0m \u001b[0;34m\u001b[0m\u001b[0m\n",
            "\u001b[0;32m/usr/local/lib/python3.7/dist-packages/sklearn/model_selection/_validation.py\u001b[0m in \u001b[0;36m_fit_and_score\u001b[0;34m(estimator, X, y, scorer, train, test, verbose, parameters, fit_params, return_train_score, return_parameters, return_n_test_samples, return_times, return_estimator, split_progress, candidate_progress, error_score)\u001b[0m\n\u001b[1;32m    678\u001b[0m             \u001b[0mestimator\u001b[0m\u001b[0;34m.\u001b[0m\u001b[0mfit\u001b[0m\u001b[0;34m(\u001b[0m\u001b[0mX_train\u001b[0m\u001b[0;34m,\u001b[0m \u001b[0;34m**\u001b[0m\u001b[0mfit_params\u001b[0m\u001b[0;34m)\u001b[0m\u001b[0;34m\u001b[0m\u001b[0;34m\u001b[0m\u001b[0m\n\u001b[1;32m    679\u001b[0m         \u001b[0;32melse\u001b[0m\u001b[0;34m:\u001b[0m\u001b[0;34m\u001b[0m\u001b[0;34m\u001b[0m\u001b[0m\n\u001b[0;32m--> 680\u001b[0;31m             \u001b[0mestimator\u001b[0m\u001b[0;34m.\u001b[0m\u001b[0mfit\u001b[0m\u001b[0;34m(\u001b[0m\u001b[0mX_train\u001b[0m\u001b[0;34m,\u001b[0m \u001b[0my_train\u001b[0m\u001b[0;34m,\u001b[0m \u001b[0;34m**\u001b[0m\u001b[0mfit_params\u001b[0m\u001b[0;34m)\u001b[0m\u001b[0;34m\u001b[0m\u001b[0;34m\u001b[0m\u001b[0m\n\u001b[0m\u001b[1;32m    681\u001b[0m \u001b[0;34m\u001b[0m\u001b[0m\n\u001b[1;32m    682\u001b[0m     \u001b[0;32mexcept\u001b[0m \u001b[0mException\u001b[0m\u001b[0;34m:\u001b[0m\u001b[0;34m\u001b[0m\u001b[0;34m\u001b[0m\u001b[0m\n",
            "\u001b[0;32m/usr/local/lib/python3.7/dist-packages/sklearn/ensemble/_gb.py\u001b[0m in \u001b[0;36mfit\u001b[0;34m(self, X, y, sample_weight, monitor)\u001b[0m\n\u001b[1;32m    594\u001b[0m             \u001b[0msample_weight_val\u001b[0m\u001b[0;34m,\u001b[0m\u001b[0;34m\u001b[0m\u001b[0;34m\u001b[0m\u001b[0m\n\u001b[1;32m    595\u001b[0m             \u001b[0mbegin_at_stage\u001b[0m\u001b[0;34m,\u001b[0m\u001b[0;34m\u001b[0m\u001b[0;34m\u001b[0m\u001b[0m\n\u001b[0;32m--> 596\u001b[0;31m             \u001b[0mmonitor\u001b[0m\u001b[0;34m,\u001b[0m\u001b[0;34m\u001b[0m\u001b[0;34m\u001b[0m\u001b[0m\n\u001b[0m\u001b[1;32m    597\u001b[0m         )\n\u001b[1;32m    598\u001b[0m \u001b[0;34m\u001b[0m\u001b[0m\n",
            "\u001b[0;32m/usr/local/lib/python3.7/dist-packages/sklearn/ensemble/_gb.py\u001b[0m in \u001b[0;36m_fit_stages\u001b[0;34m(self, X, y, raw_predictions, sample_weight, random_state, X_val, y_val, sample_weight_val, begin_at_stage, monitor)\u001b[0m\n\u001b[1;32m    670\u001b[0m                 \u001b[0mrandom_state\u001b[0m\u001b[0;34m,\u001b[0m\u001b[0;34m\u001b[0m\u001b[0;34m\u001b[0m\u001b[0m\n\u001b[1;32m    671\u001b[0m                 \u001b[0mX_csc\u001b[0m\u001b[0;34m,\u001b[0m\u001b[0;34m\u001b[0m\u001b[0;34m\u001b[0m\u001b[0m\n\u001b[0;32m--> 672\u001b[0;31m                 \u001b[0mX_csr\u001b[0m\u001b[0;34m,\u001b[0m\u001b[0;34m\u001b[0m\u001b[0;34m\u001b[0m\u001b[0m\n\u001b[0m\u001b[1;32m    673\u001b[0m             )\n\u001b[1;32m    674\u001b[0m \u001b[0;34m\u001b[0m\u001b[0m\n",
            "\u001b[0;32m/usr/local/lib/python3.7/dist-packages/sklearn/ensemble/_gb.py\u001b[0m in \u001b[0;36m_fit_stage\u001b[0;34m(self, i, X, y, raw_predictions, sample_weight, sample_mask, random_state, X_csc, X_csr)\u001b[0m\n\u001b[1;32m    256\u001b[0m                 \u001b[0msample_mask\u001b[0m\u001b[0;34m,\u001b[0m\u001b[0;34m\u001b[0m\u001b[0;34m\u001b[0m\u001b[0m\n\u001b[1;32m    257\u001b[0m                 \u001b[0mlearning_rate\u001b[0m\u001b[0;34m=\u001b[0m\u001b[0mself\u001b[0m\u001b[0;34m.\u001b[0m\u001b[0mlearning_rate\u001b[0m\u001b[0;34m,\u001b[0m\u001b[0;34m\u001b[0m\u001b[0;34m\u001b[0m\u001b[0m\n\u001b[0;32m--> 258\u001b[0;31m                 \u001b[0mk\u001b[0m\u001b[0;34m=\u001b[0m\u001b[0mk\u001b[0m\u001b[0;34m,\u001b[0m\u001b[0;34m\u001b[0m\u001b[0;34m\u001b[0m\u001b[0m\n\u001b[0m\u001b[1;32m    259\u001b[0m             )\n\u001b[1;32m    260\u001b[0m \u001b[0;34m\u001b[0m\u001b[0m\n",
            "\u001b[0;32m/usr/local/lib/python3.7/dist-packages/sklearn/ensemble/_gb_losses.py\u001b[0m in \u001b[0;36mupdate_terminal_regions\u001b[0;34m(self, tree, X, y, residual, raw_predictions, sample_weight, sample_mask, learning_rate, k)\u001b[0m\n\u001b[1;32m    126\u001b[0m                 \u001b[0my\u001b[0m\u001b[0;34m,\u001b[0m\u001b[0;34m\u001b[0m\u001b[0;34m\u001b[0m\u001b[0m\n\u001b[1;32m    127\u001b[0m                 \u001b[0mresidual\u001b[0m\u001b[0;34m,\u001b[0m\u001b[0;34m\u001b[0m\u001b[0;34m\u001b[0m\u001b[0m\n\u001b[0;32m--> 128\u001b[0;31m                 \u001b[0mraw_predictions\u001b[0m\u001b[0;34m[\u001b[0m\u001b[0;34m:\u001b[0m\u001b[0;34m,\u001b[0m \u001b[0mk\u001b[0m\u001b[0;34m]\u001b[0m\u001b[0;34m,\u001b[0m\u001b[0;34m\u001b[0m\u001b[0;34m\u001b[0m\u001b[0m\n\u001b[0m\u001b[1;32m    129\u001b[0m                 \u001b[0msample_weight\u001b[0m\u001b[0;34m,\u001b[0m\u001b[0;34m\u001b[0m\u001b[0;34m\u001b[0m\u001b[0m\n\u001b[1;32m    130\u001b[0m             )\n",
            "\u001b[0;31mKeyboardInterrupt\u001b[0m: "
          ]
        }
      ]
    },
    {
      "cell_type": "code",
      "source": [
        "print(\"gsearch1.best_score_\",cv.best_score_)"
      ],
      "metadata": {
        "id": "Pm5thTAQrgIs"
      },
      "execution_count": null,
      "outputs": []
    },
    {
      "cell_type": "code",
      "source": [
        "gred=GradientBoostingClassifier(n_estimators= 75)"
      ],
      "metadata": {
        "id": "UrG3UQ86p9vH"
      },
      "execution_count": null,
      "outputs": []
    },
    {
      "cell_type": "code",
      "source": [
        "gred.fit(X_train,y_train)\n",
        "pred = gred.predict(X_test)\n",
        "from sklearn.metrics import accuracy_score\n",
        "\n",
        "print(\"Val Acc:\",   accuracy_score(pred,   y_test))"
      ],
      "metadata": {
        "id": "_6jyzqsCqpnt"
      },
      "execution_count": null,
      "outputs": []
    },
    {
      "cell_type": "code",
      "source": [
        "predgred = gred.predict(Xx_test)"
      ],
      "metadata": {
        "id": "mkA0gjqjsNel"
      },
      "execution_count": null,
      "outputs": []
    },
    {
      "cell_type": "code",
      "source": [
        "def display(results):\n",
        "    print(f'Best parameters are: {results.best_params_}')\n",
        "    print(\"\\n\")\n",
        "    mean_score = results.cv_results_['mean_test_score']\n",
        "    std_score = results.cv_results_['std_test_score']\n",
        "    params = results.cv_results_['params']\n",
        "    for mean,std,params in zip(mean_score,std_score,params):\n",
        "        print(f'{round(mean,3)} + or -{round(std,3)} for the {params}')\n",
        "display(cv)"
      ],
      "metadata": {
        "id": "2DgVkED5nHzi"
      },
      "execution_count": null,
      "outputs": []
    },
    {
      "cell_type": "code",
      "source": [
        "grad_=cv.predict(X_test)"
      ],
      "metadata": {
        "id": "Rt-T-beVnzoD"
      },
      "execution_count": null,
      "outputs": []
    },
    {
      "cell_type": "code",
      "source": [
        "cm = confusion_matrix(grad_,y_test)"
      ],
      "metadata": {
        "id": "Bw-CHKbUn7Zl"
      },
      "execution_count": null,
      "outputs": []
    },
    {
      "cell_type": "code",
      "source": [
        "cm"
      ],
      "metadata": {
        "id": "Np4PHIjrBBHc"
      },
      "execution_count": null,
      "outputs": []
    },
    {
      "cell_type": "code",
      "source": [
        "# from catboost import CatBoostClassifier, Pool\n",
        "# import catboost as cb\n",
        "# from sklearn.model_selection import cross_val_score\n",
        "# from sklearn.model_selection import RepeatedKFold\n",
        "# model = CatBoostClassifier(iterations=200)\n",
        "\n",
        "# model.fit(X_train,y_train)\n",
        "# preds_class = model.predict(X_test)\n"
      ],
      "metadata": {
        "id": "n69plZDC4lOv"
      },
      "execution_count": null,
      "outputs": []
    },
    {
      "cell_type": "code",
      "source": [
        "# from catboost import CatBoostClassifier, Pool\n",
        "# import catboost as cb\n",
        "# model = CatBoost()\n",
        "\n",
        "# grid = {'learning_rate': [0.03, 0.1],\n",
        "#         'depth': [4, 6, 10],\n",
        "#         'l2_leaf_reg': [1, 3, 5, 7, 9]}\n",
        "\n",
        "# grid_search_result = model.grid_search(grid, \n",
        "#                                        X=X_train, \n",
        "#                                        y=y_train, \n",
        "#                                        plot=True)"
      ],
      "metadata": {
        "id": "IqARQ5HBRNSe"
      },
      "execution_count": null,
      "outputs": []
    },
    {
      "cell_type": "markdown",
      "source": [
        "### CatBoost"
      ],
      "metadata": {
        "id": "hdhNM9Qz-2vs"
      }
    },
    {
      "cell_type": "code",
      "source": [
        "\n",
        "import catboost as cb\n",
        "from catboost import CatBoostClassifier, Pool\n",
        "\n",
        "\n",
        "\n"
      ],
      "metadata": {
        "id": "slozqtx35tAb"
      },
      "execution_count": 84,
      "outputs": []
    },
    {
      "cell_type": "code",
      "source": [
        "params = {'depth':[6,8,9,10],\n",
        "        'iterations':[250,100],\n",
        "\n",
        "        'max_ctr_complexity':[3,4,5] }\n",
        "\n",
        "\n",
        "model = CatBoostClassifier()\n",
        "\n",
        "grid = GridSearchCV(estimator=model, param_grid = parameters, cv = 10, n_jobs=-1)\n"
      ],
      "metadata": {
        "id": "knlsimNis87e"
      },
      "execution_count": null,
      "outputs": []
    },
    {
      "cell_type": "code",
      "source": [
        "grid.fit(X_train, y_train)\n",
        "print(\"gsearch1.best_params_\",grid.best_params_)\n",
        "print(\"gsearch1.best_score_\",grid.best_score_)"
      ],
      "metadata": {
        "colab": {
          "base_uri": "https://localhost:8080/"
        },
        "id": "pohtsHx5tOsu",
        "outputId": "8ae32b61-46e8-468f-be31-d39232600832"
      },
      "execution_count": null,
      "outputs": [
        {
          "output_type": "stream",
          "name": "stdout",
          "text": [
            "0:\tlearn: 1.3741700\ttotal: 4.5ms\tremaining: 895ms\n",
            "1:\tlearn: 1.3635306\ttotal: 9.39ms\tremaining: 930ms\n",
            "2:\tlearn: 1.3535931\ttotal: 13.6ms\tremaining: 895ms\n",
            "3:\tlearn: 1.3465196\ttotal: 17.1ms\tremaining: 837ms\n",
            "4:\tlearn: 1.3384106\ttotal: 20.7ms\tremaining: 808ms\n",
            "5:\tlearn: 1.3302308\ttotal: 24.9ms\tremaining: 804ms\n",
            "6:\tlearn: 1.3231837\ttotal: 28.7ms\tremaining: 793ms\n",
            "7:\tlearn: 1.3157963\ttotal: 32.7ms\tremaining: 785ms\n",
            "8:\tlearn: 1.3090870\ttotal: 36.8ms\tremaining: 782ms\n",
            "9:\tlearn: 1.3026361\ttotal: 40.8ms\tremaining: 775ms\n",
            "10:\tlearn: 1.2962554\ttotal: 44.8ms\tremaining: 770ms\n",
            "11:\tlearn: 1.2902406\ttotal: 48.9ms\tremaining: 766ms\n",
            "12:\tlearn: 1.2846411\ttotal: 53ms\tremaining: 762ms\n",
            "13:\tlearn: 1.2793765\ttotal: 56.9ms\tremaining: 757ms\n",
            "14:\tlearn: 1.2739253\ttotal: 60.9ms\tremaining: 752ms\n",
            "15:\tlearn: 1.2697513\ttotal: 64.9ms\tremaining: 747ms\n",
            "16:\tlearn: 1.2651699\ttotal: 69ms\tremaining: 743ms\n",
            "17:\tlearn: 1.2603955\ttotal: 73.2ms\tremaining: 740ms\n",
            "18:\tlearn: 1.2563573\ttotal: 77.3ms\tremaining: 736ms\n",
            "19:\tlearn: 1.2523230\ttotal: 81.5ms\tremaining: 733ms\n",
            "20:\tlearn: 1.2477708\ttotal: 85.7ms\tremaining: 731ms\n",
            "21:\tlearn: 1.2438807\ttotal: 90.1ms\tremaining: 729ms\n",
            "22:\tlearn: 1.2405011\ttotal: 93.9ms\tremaining: 723ms\n",
            "23:\tlearn: 1.2370911\ttotal: 98ms\tremaining: 718ms\n",
            "24:\tlearn: 1.2346033\ttotal: 102ms\tremaining: 714ms\n",
            "25:\tlearn: 1.2314516\ttotal: 106ms\tremaining: 710ms\n",
            "26:\tlearn: 1.2292673\ttotal: 110ms\tremaining: 702ms\n",
            "27:\tlearn: 1.2266927\ttotal: 113ms\tremaining: 697ms\n",
            "28:\tlearn: 1.2234600\ttotal: 117ms\tremaining: 692ms\n",
            "29:\tlearn: 1.2204788\ttotal: 121ms\tremaining: 688ms\n",
            "30:\tlearn: 1.2179649\ttotal: 125ms\tremaining: 684ms\n",
            "31:\tlearn: 1.2153306\ttotal: 130ms\tremaining: 680ms\n",
            "32:\tlearn: 1.2130920\ttotal: 134ms\tremaining: 678ms\n",
            "33:\tlearn: 1.2103160\ttotal: 138ms\tremaining: 675ms\n",
            "34:\tlearn: 1.2077939\ttotal: 143ms\tremaining: 672ms\n",
            "35:\tlearn: 1.2056127\ttotal: 147ms\tremaining: 670ms\n",
            "36:\tlearn: 1.2037652\ttotal: 151ms\tremaining: 665ms\n",
            "37:\tlearn: 1.2015152\ttotal: 155ms\tremaining: 661ms\n",
            "38:\tlearn: 1.1993808\ttotal: 159ms\tremaining: 658ms\n",
            "39:\tlearn: 1.1973383\ttotal: 164ms\tremaining: 656ms\n",
            "40:\tlearn: 1.1955381\ttotal: 168ms\tremaining: 652ms\n",
            "41:\tlearn: 1.1946617\ttotal: 171ms\tremaining: 645ms\n",
            "42:\tlearn: 1.1928034\ttotal: 176ms\tremaining: 642ms\n",
            "43:\tlearn: 1.1913915\ttotal: 180ms\tremaining: 638ms\n",
            "44:\tlearn: 1.1905210\ttotal: 183ms\tremaining: 632ms\n",
            "45:\tlearn: 1.1890561\ttotal: 190ms\tremaining: 637ms\n",
            "46:\tlearn: 1.1871569\ttotal: 194ms\tremaining: 633ms\n",
            "47:\tlearn: 1.1859558\ttotal: 202ms\tremaining: 639ms\n",
            "48:\tlearn: 1.1844471\ttotal: 209ms\tremaining: 645ms\n",
            "49:\tlearn: 1.1827568\ttotal: 213ms\tremaining: 639ms\n",
            "50:\tlearn: 1.1811845\ttotal: 217ms\tremaining: 634ms\n",
            "51:\tlearn: 1.1800406\ttotal: 221ms\tremaining: 629ms\n",
            "52:\tlearn: 1.1790610\ttotal: 225ms\tremaining: 623ms\n",
            "53:\tlearn: 1.1778454\ttotal: 229ms\tremaining: 619ms\n",
            "54:\tlearn: 1.1764487\ttotal: 233ms\tremaining: 614ms\n",
            "55:\tlearn: 1.1761153\ttotal: 236ms\tremaining: 607ms\n",
            "56:\tlearn: 1.1749910\ttotal: 241ms\tremaining: 604ms\n",
            "57:\tlearn: 1.1739678\ttotal: 245ms\tremaining: 599ms\n",
            "58:\tlearn: 1.1726949\ttotal: 250ms\tremaining: 597ms\n",
            "59:\tlearn: 1.1717623\ttotal: 254ms\tremaining: 593ms\n",
            "60:\tlearn: 1.1707242\ttotal: 258ms\tremaining: 588ms\n",
            "61:\tlearn: 1.1698537\ttotal: 262ms\tremaining: 583ms\n",
            "62:\tlearn: 1.1686752\ttotal: 266ms\tremaining: 579ms\n",
            "63:\tlearn: 1.1679819\ttotal: 270ms\tremaining: 574ms\n",
            "64:\tlearn: 1.1669897\ttotal: 275ms\tremaining: 572ms\n",
            "65:\tlearn: 1.1659749\ttotal: 280ms\tremaining: 568ms\n",
            "66:\tlearn: 1.1649786\ttotal: 284ms\tremaining: 563ms\n",
            "67:\tlearn: 1.1637834\ttotal: 288ms\tremaining: 559ms\n",
            "68:\tlearn: 1.1626250\ttotal: 292ms\tremaining: 555ms\n",
            "69:\tlearn: 1.1616022\ttotal: 296ms\tremaining: 551ms\n",
            "70:\tlearn: 1.1608203\ttotal: 300ms\tremaining: 546ms\n",
            "71:\tlearn: 1.1601318\ttotal: 304ms\tremaining: 541ms\n",
            "72:\tlearn: 1.1592725\ttotal: 309ms\tremaining: 537ms\n",
            "73:\tlearn: 1.1586640\ttotal: 313ms\tremaining: 532ms\n",
            "74:\tlearn: 1.1578717\ttotal: 317ms\tremaining: 528ms\n",
            "75:\tlearn: 1.1573215\ttotal: 321ms\tremaining: 523ms\n",
            "76:\tlearn: 1.1563928\ttotal: 325ms\tremaining: 519ms\n",
            "77:\tlearn: 1.1557539\ttotal: 329ms\tremaining: 515ms\n",
            "78:\tlearn: 1.1549270\ttotal: 333ms\tremaining: 510ms\n",
            "79:\tlearn: 1.1543117\ttotal: 337ms\tremaining: 506ms\n",
            "80:\tlearn: 1.1534063\ttotal: 341ms\tremaining: 502ms\n",
            "81:\tlearn: 1.1526441\ttotal: 345ms\tremaining: 497ms\n",
            "82:\tlearn: 1.1519033\ttotal: 349ms\tremaining: 492ms\n",
            "83:\tlearn: 1.1510569\ttotal: 353ms\tremaining: 488ms\n",
            "84:\tlearn: 1.1503341\ttotal: 357ms\tremaining: 483ms\n",
            "85:\tlearn: 1.1496152\ttotal: 361ms\tremaining: 479ms\n",
            "86:\tlearn: 1.1488528\ttotal: 365ms\tremaining: 474ms\n",
            "87:\tlearn: 1.1481329\ttotal: 369ms\tremaining: 469ms\n",
            "88:\tlearn: 1.1475669\ttotal: 373ms\tremaining: 465ms\n",
            "89:\tlearn: 1.1468922\ttotal: 377ms\tremaining: 461ms\n",
            "90:\tlearn: 1.1462643\ttotal: 381ms\tremaining: 457ms\n",
            "91:\tlearn: 1.1456199\ttotal: 385ms\tremaining: 452ms\n",
            "92:\tlearn: 1.1449246\ttotal: 389ms\tremaining: 448ms\n",
            "93:\tlearn: 1.1445324\ttotal: 394ms\tremaining: 445ms\n",
            "94:\tlearn: 1.1437985\ttotal: 401ms\tremaining: 443ms\n",
            "95:\tlearn: 1.1435450\ttotal: 404ms\tremaining: 438ms\n",
            "96:\tlearn: 1.1429133\ttotal: 409ms\tremaining: 434ms\n",
            "97:\tlearn: 1.1424484\ttotal: 413ms\tremaining: 430ms\n",
            "98:\tlearn: 1.1418560\ttotal: 417ms\tremaining: 425ms\n",
            "99:\tlearn: 1.1412082\ttotal: 421ms\tremaining: 421ms\n",
            "100:\tlearn: 1.1407008\ttotal: 425ms\tremaining: 417ms\n",
            "101:\tlearn: 1.1400727\ttotal: 429ms\tremaining: 412ms\n",
            "102:\tlearn: 1.1394569\ttotal: 433ms\tremaining: 408ms\n",
            "103:\tlearn: 1.1387559\ttotal: 437ms\tremaining: 404ms\n",
            "104:\tlearn: 1.1382643\ttotal: 441ms\tremaining: 399ms\n",
            "105:\tlearn: 1.1377318\ttotal: 446ms\tremaining: 395ms\n",
            "106:\tlearn: 1.1370935\ttotal: 450ms\tremaining: 391ms\n",
            "107:\tlearn: 1.1366278\ttotal: 456ms\tremaining: 388ms\n",
            "108:\tlearn: 1.1362163\ttotal: 461ms\tremaining: 385ms\n",
            "109:\tlearn: 1.1360753\ttotal: 464ms\tremaining: 380ms\n",
            "110:\tlearn: 1.1355350\ttotal: 468ms\tremaining: 376ms\n",
            "111:\tlearn: 1.1349733\ttotal: 472ms\tremaining: 371ms\n",
            "112:\tlearn: 1.1342943\ttotal: 477ms\tremaining: 367ms\n",
            "113:\tlearn: 1.1338021\ttotal: 481ms\tremaining: 363ms\n",
            "114:\tlearn: 1.1331479\ttotal: 485ms\tremaining: 358ms\n",
            "115:\tlearn: 1.1327557\ttotal: 489ms\tremaining: 354ms\n",
            "116:\tlearn: 1.1320423\ttotal: 493ms\tremaining: 350ms\n",
            "117:\tlearn: 1.1313908\ttotal: 497ms\tremaining: 345ms\n",
            "118:\tlearn: 1.1310358\ttotal: 501ms\tremaining: 341ms\n",
            "119:\tlearn: 1.1307330\ttotal: 505ms\tremaining: 336ms\n",
            "120:\tlearn: 1.1302522\ttotal: 509ms\tremaining: 332ms\n",
            "121:\tlearn: 1.1298090\ttotal: 512ms\tremaining: 328ms\n",
            "122:\tlearn: 1.1291863\ttotal: 516ms\tremaining: 323ms\n",
            "123:\tlearn: 1.1286363\ttotal: 520ms\tremaining: 319ms\n",
            "124:\tlearn: 1.1280582\ttotal: 525ms\tremaining: 315ms\n",
            "125:\tlearn: 1.1275951\ttotal: 529ms\tremaining: 310ms\n",
            "126:\tlearn: 1.1272991\ttotal: 533ms\tremaining: 306ms\n",
            "127:\tlearn: 1.1269149\ttotal: 537ms\tremaining: 302ms\n",
            "128:\tlearn: 1.1265046\ttotal: 541ms\tremaining: 298ms\n",
            "129:\tlearn: 1.1259948\ttotal: 545ms\tremaining: 293ms\n",
            "130:\tlearn: 1.1255534\ttotal: 548ms\tremaining: 289ms\n",
            "131:\tlearn: 1.1253203\ttotal: 552ms\tremaining: 284ms\n",
            "132:\tlearn: 1.1248406\ttotal: 556ms\tremaining: 280ms\n",
            "133:\tlearn: 1.1245557\ttotal: 560ms\tremaining: 276ms\n",
            "134:\tlearn: 1.1242025\ttotal: 564ms\tremaining: 271ms\n",
            "135:\tlearn: 1.1239140\ttotal: 568ms\tremaining: 267ms\n",
            "136:\tlearn: 1.1234532\ttotal: 572ms\tremaining: 263ms\n",
            "137:\tlearn: 1.1230082\ttotal: 575ms\tremaining: 259ms\n",
            "138:\tlearn: 1.1225836\ttotal: 579ms\tremaining: 254ms\n",
            "139:\tlearn: 1.1222322\ttotal: 584ms\tremaining: 250ms\n",
            "140:\tlearn: 1.1218427\ttotal: 588ms\tremaining: 246ms\n",
            "141:\tlearn: 1.1213599\ttotal: 598ms\tremaining: 244ms\n",
            "142:\tlearn: 1.1209190\ttotal: 603ms\tremaining: 240ms\n",
            "143:\tlearn: 1.1205096\ttotal: 607ms\tremaining: 236ms\n",
            "144:\tlearn: 1.1201377\ttotal: 611ms\tremaining: 232ms\n",
            "145:\tlearn: 1.1197353\ttotal: 615ms\tremaining: 228ms\n",
            "146:\tlearn: 1.1193860\ttotal: 619ms\tremaining: 223ms\n",
            "147:\tlearn: 1.1189240\ttotal: 623ms\tremaining: 219ms\n",
            "148:\tlearn: 1.1185764\ttotal: 628ms\tremaining: 215ms\n",
            "149:\tlearn: 1.1181724\ttotal: 632ms\tremaining: 211ms\n",
            "150:\tlearn: 1.1177598\ttotal: 636ms\tremaining: 206ms\n",
            "151:\tlearn: 1.1176928\ttotal: 639ms\tremaining: 202ms\n",
            "152:\tlearn: 1.1172416\ttotal: 646ms\tremaining: 198ms\n",
            "153:\tlearn: 1.1168744\ttotal: 654ms\tremaining: 195ms\n",
            "154:\tlearn: 1.1168678\ttotal: 661ms\tremaining: 192ms\n",
            "155:\tlearn: 1.1164979\ttotal: 665ms\tremaining: 188ms\n",
            "156:\tlearn: 1.1160107\ttotal: 669ms\tremaining: 183ms\n",
            "157:\tlearn: 1.1155998\ttotal: 673ms\tremaining: 179ms\n",
            "158:\tlearn: 1.1152044\ttotal: 677ms\tremaining: 175ms\n",
            "159:\tlearn: 1.1147771\ttotal: 682ms\tremaining: 170ms\n",
            "160:\tlearn: 1.1144719\ttotal: 686ms\tremaining: 166ms\n",
            "161:\tlearn: 1.1139778\ttotal: 690ms\tremaining: 162ms\n",
            "162:\tlearn: 1.1135527\ttotal: 694ms\tremaining: 158ms\n",
            "163:\tlearn: 1.1133947\ttotal: 697ms\tremaining: 153ms\n",
            "164:\tlearn: 1.1130103\ttotal: 701ms\tremaining: 149ms\n",
            "165:\tlearn: 1.1126899\ttotal: 705ms\tremaining: 144ms\n",
            "166:\tlearn: 1.1121717\ttotal: 709ms\tremaining: 140ms\n",
            "167:\tlearn: 1.1116670\ttotal: 714ms\tremaining: 136ms\n",
            "168:\tlearn: 1.1112314\ttotal: 718ms\tremaining: 132ms\n",
            "169:\tlearn: 1.1109332\ttotal: 722ms\tremaining: 127ms\n",
            "170:\tlearn: 1.1104408\ttotal: 727ms\tremaining: 123ms\n",
            "171:\tlearn: 1.1100944\ttotal: 731ms\tremaining: 119ms\n",
            "172:\tlearn: 1.1097136\ttotal: 735ms\tremaining: 115ms\n",
            "173:\tlearn: 1.1092978\ttotal: 739ms\tremaining: 110ms\n",
            "174:\tlearn: 1.1090289\ttotal: 743ms\tremaining: 106ms\n",
            "175:\tlearn: 1.1085818\ttotal: 747ms\tremaining: 102ms\n",
            "176:\tlearn: 1.1082277\ttotal: 751ms\tremaining: 97.6ms\n",
            "177:\tlearn: 1.1081630\ttotal: 754ms\tremaining: 93.2ms\n",
            "178:\tlearn: 1.1077663\ttotal: 759ms\tremaining: 89ms\n",
            "179:\tlearn: 1.1072722\ttotal: 763ms\tremaining: 84.8ms\n",
            "180:\tlearn: 1.1069806\ttotal: 767ms\tremaining: 80.6ms\n",
            "181:\tlearn: 1.1067063\ttotal: 773ms\tremaining: 76.4ms\n",
            "182:\tlearn: 1.1064085\ttotal: 778ms\tremaining: 72.3ms\n",
            "183:\tlearn: 1.1061370\ttotal: 783ms\tremaining: 68.1ms\n",
            "184:\tlearn: 1.1059009\ttotal: 789ms\tremaining: 64ms\n",
            "185:\tlearn: 1.1055454\ttotal: 794ms\tremaining: 59.8ms\n",
            "186:\tlearn: 1.1050958\ttotal: 798ms\tremaining: 55.5ms\n",
            "187:\tlearn: 1.1048071\ttotal: 801ms\tremaining: 51.2ms\n",
            "188:\tlearn: 1.1044665\ttotal: 805ms\tremaining: 46.9ms\n",
            "189:\tlearn: 1.1041909\ttotal: 809ms\tremaining: 42.6ms\n",
            "190:\tlearn: 1.1038906\ttotal: 813ms\tremaining: 38.3ms\n",
            "191:\tlearn: 1.1035565\ttotal: 817ms\tremaining: 34ms\n",
            "192:\tlearn: 1.1032880\ttotal: 821ms\tremaining: 29.8ms\n",
            "193:\tlearn: 1.1029070\ttotal: 825ms\tremaining: 25.5ms\n",
            "194:\tlearn: 1.1026203\ttotal: 829ms\tremaining: 21.2ms\n",
            "195:\tlearn: 1.1023209\ttotal: 832ms\tremaining: 17ms\n",
            "196:\tlearn: 1.1022767\ttotal: 836ms\tremaining: 12.7ms\n",
            "197:\tlearn: 1.1019256\ttotal: 840ms\tremaining: 8.48ms\n",
            "198:\tlearn: 1.1016756\ttotal: 843ms\tremaining: 4.24ms\n",
            "199:\tlearn: 1.1013572\ttotal: 848ms\tremaining: 0us\n",
            "gsearch1.best_params_ {'depth': 6, 'iterations': 200, 'l2_leaf_reg': 0.5, 'learning_rate': 0.03}\n",
            "gsearch1.best_score_ 0.4883022906519267\n"
          ]
        }
      ]
    },
    {
      "cell_type": "code",
      "source": [
        "import catboost as cb\n",
        "catmodel=cb.CatBoostClassifier(depth=6,n_estimators =200,l2_leaf_reg=0.5,learning_rate= 0.03)\n",
        "catmodel.fit(X_train,y_train)"
      ],
      "metadata": {
        "id": "Ps1nG57zCr9Y",
        "colab": {
          "base_uri": "https://localhost:8080/"
        },
        "outputId": "3fd34c7e-ac89-427e-9385-1bdfdc9dcfe6"
      },
      "execution_count": 85,
      "outputs": [
        {
          "output_type": "stream",
          "name": "stdout",
          "text": [
            "0:\tlearn: 1.3750078\ttotal: 11.1ms\tremaining: 2.2s\n",
            "1:\tlearn: 1.3651379\ttotal: 25.5ms\tremaining: 2.52s\n",
            "2:\tlearn: 1.3549892\ttotal: 38.2ms\tremaining: 2.51s\n",
            "3:\tlearn: 1.3453837\ttotal: 59.4ms\tremaining: 2.91s\n",
            "4:\tlearn: 1.3366286\ttotal: 70.9ms\tremaining: 2.76s\n",
            "5:\tlearn: 1.3280311\ttotal: 81.8ms\tremaining: 2.65s\n",
            "6:\tlearn: 1.3201534\ttotal: 95.7ms\tremaining: 2.64s\n",
            "7:\tlearn: 1.3123576\ttotal: 110ms\tremaining: 2.63s\n",
            "8:\tlearn: 1.3057190\ttotal: 123ms\tremaining: 2.61s\n",
            "9:\tlearn: 1.3002749\ttotal: 136ms\tremaining: 2.59s\n",
            "10:\tlearn: 1.2939288\ttotal: 148ms\tremaining: 2.54s\n",
            "11:\tlearn: 1.2886841\ttotal: 159ms\tremaining: 2.49s\n",
            "12:\tlearn: 1.2829927\ttotal: 171ms\tremaining: 2.46s\n",
            "13:\tlearn: 1.2776104\ttotal: 185ms\tremaining: 2.46s\n",
            "14:\tlearn: 1.2722525\ttotal: 192ms\tremaining: 2.37s\n",
            "15:\tlearn: 1.2677324\ttotal: 208ms\tremaining: 2.4s\n",
            "16:\tlearn: 1.2634132\ttotal: 224ms\tremaining: 2.41s\n",
            "17:\tlearn: 1.2589990\ttotal: 236ms\tremaining: 2.38s\n",
            "18:\tlearn: 1.2547529\ttotal: 248ms\tremaining: 2.37s\n",
            "19:\tlearn: 1.2507051\ttotal: 257ms\tremaining: 2.31s\n",
            "20:\tlearn: 1.2472176\ttotal: 271ms\tremaining: 2.31s\n",
            "21:\tlearn: 1.2436098\ttotal: 283ms\tremaining: 2.29s\n",
            "22:\tlearn: 1.2402653\ttotal: 294ms\tremaining: 2.26s\n",
            "23:\tlearn: 1.2365353\ttotal: 300ms\tremaining: 2.2s\n",
            "24:\tlearn: 1.2336239\ttotal: 304ms\tremaining: 2.13s\n",
            "25:\tlearn: 1.2302937\ttotal: 311ms\tremaining: 2.08s\n",
            "26:\tlearn: 1.2274596\ttotal: 316ms\tremaining: 2.02s\n",
            "27:\tlearn: 1.2247512\ttotal: 321ms\tremaining: 1.97s\n",
            "28:\tlearn: 1.2222029\ttotal: 325ms\tremaining: 1.92s\n",
            "29:\tlearn: 1.2194691\ttotal: 330ms\tremaining: 1.87s\n",
            "30:\tlearn: 1.2167664\ttotal: 335ms\tremaining: 1.82s\n",
            "31:\tlearn: 1.2145946\ttotal: 345ms\tremaining: 1.81s\n",
            "32:\tlearn: 1.2124548\ttotal: 352ms\tremaining: 1.78s\n",
            "33:\tlearn: 1.2107122\ttotal: 357ms\tremaining: 1.74s\n",
            "34:\tlearn: 1.2083777\ttotal: 361ms\tremaining: 1.7s\n",
            "35:\tlearn: 1.2060335\ttotal: 366ms\tremaining: 1.67s\n",
            "36:\tlearn: 1.2039629\ttotal: 372ms\tremaining: 1.64s\n",
            "37:\tlearn: 1.2021545\ttotal: 377ms\tremaining: 1.61s\n",
            "38:\tlearn: 1.2002427\ttotal: 382ms\tremaining: 1.57s\n",
            "39:\tlearn: 1.1985675\ttotal: 389ms\tremaining: 1.56s\n",
            "40:\tlearn: 1.1968606\ttotal: 400ms\tremaining: 1.55s\n",
            "41:\tlearn: 1.1953524\ttotal: 410ms\tremaining: 1.54s\n",
            "42:\tlearn: 1.1935667\ttotal: 429ms\tremaining: 1.56s\n",
            "43:\tlearn: 1.1919600\ttotal: 440ms\tremaining: 1.56s\n",
            "44:\tlearn: 1.1898414\ttotal: 451ms\tremaining: 1.55s\n",
            "45:\tlearn: 1.1879775\ttotal: 465ms\tremaining: 1.56s\n",
            "46:\tlearn: 1.1863533\ttotal: 470ms\tremaining: 1.53s\n",
            "47:\tlearn: 1.1847449\ttotal: 475ms\tremaining: 1.5s\n",
            "48:\tlearn: 1.1834348\ttotal: 480ms\tremaining: 1.48s\n",
            "49:\tlearn: 1.1821324\ttotal: 484ms\tremaining: 1.45s\n",
            "50:\tlearn: 1.1809891\ttotal: 489ms\tremaining: 1.43s\n",
            "51:\tlearn: 1.1798707\ttotal: 497ms\tremaining: 1.41s\n",
            "52:\tlearn: 1.1787001\ttotal: 501ms\tremaining: 1.39s\n",
            "53:\tlearn: 1.1773803\ttotal: 506ms\tremaining: 1.37s\n",
            "54:\tlearn: 1.1764115\ttotal: 511ms\tremaining: 1.35s\n",
            "55:\tlearn: 1.1756382\ttotal: 516ms\tremaining: 1.32s\n",
            "56:\tlearn: 1.1745799\ttotal: 523ms\tremaining: 1.31s\n",
            "57:\tlearn: 1.1735944\ttotal: 527ms\tremaining: 1.29s\n",
            "58:\tlearn: 1.1726059\ttotal: 532ms\tremaining: 1.27s\n",
            "59:\tlearn: 1.1715312\ttotal: 541ms\tremaining: 1.26s\n",
            "60:\tlearn: 1.1705115\ttotal: 552ms\tremaining: 1.26s\n",
            "61:\tlearn: 1.1697308\ttotal: 562ms\tremaining: 1.25s\n",
            "62:\tlearn: 1.1689748\ttotal: 596ms\tremaining: 1.3s\n",
            "63:\tlearn: 1.1679318\ttotal: 604ms\tremaining: 1.28s\n",
            "64:\tlearn: 1.1671732\ttotal: 614ms\tremaining: 1.27s\n",
            "65:\tlearn: 1.1661887\ttotal: 633ms\tremaining: 1.28s\n",
            "66:\tlearn: 1.1655326\ttotal: 656ms\tremaining: 1.3s\n",
            "67:\tlearn: 1.1649209\ttotal: 674ms\tremaining: 1.31s\n",
            "68:\tlearn: 1.1640407\ttotal: 695ms\tremaining: 1.32s\n",
            "69:\tlearn: 1.1628185\ttotal: 717ms\tremaining: 1.33s\n",
            "70:\tlearn: 1.1618625\ttotal: 739ms\tremaining: 1.34s\n",
            "71:\tlearn: 1.1609405\ttotal: 750ms\tremaining: 1.33s\n",
            "72:\tlearn: 1.1598185\ttotal: 763ms\tremaining: 1.33s\n",
            "73:\tlearn: 1.1586265\ttotal: 776ms\tremaining: 1.32s\n",
            "74:\tlearn: 1.1577560\ttotal: 787ms\tremaining: 1.31s\n",
            "75:\tlearn: 1.1574688\ttotal: 796ms\tremaining: 1.3s\n",
            "76:\tlearn: 1.1568927\ttotal: 802ms\tremaining: 1.28s\n",
            "77:\tlearn: 1.1559354\ttotal: 808ms\tremaining: 1.26s\n",
            "78:\tlearn: 1.1552200\ttotal: 813ms\tremaining: 1.25s\n",
            "79:\tlearn: 1.1545718\ttotal: 819ms\tremaining: 1.23s\n",
            "80:\tlearn: 1.1538172\ttotal: 824ms\tremaining: 1.21s\n",
            "81:\tlearn: 1.1531564\ttotal: 830ms\tremaining: 1.19s\n",
            "82:\tlearn: 1.1524316\ttotal: 835ms\tremaining: 1.18s\n",
            "83:\tlearn: 1.1516525\ttotal: 841ms\tremaining: 1.16s\n",
            "84:\tlearn: 1.1508183\ttotal: 847ms\tremaining: 1.15s\n",
            "85:\tlearn: 1.1501246\ttotal: 853ms\tremaining: 1.13s\n",
            "86:\tlearn: 1.1493332\ttotal: 859ms\tremaining: 1.11s\n",
            "87:\tlearn: 1.1487654\ttotal: 864ms\tremaining: 1.1s\n",
            "88:\tlearn: 1.1478189\ttotal: 870ms\tremaining: 1.08s\n",
            "89:\tlearn: 1.1471353\ttotal: 875ms\tremaining: 1.07s\n",
            "90:\tlearn: 1.1464860\ttotal: 891ms\tremaining: 1.07s\n",
            "91:\tlearn: 1.1456719\ttotal: 897ms\tremaining: 1.05s\n",
            "92:\tlearn: 1.1451648\ttotal: 902ms\tremaining: 1.04s\n",
            "93:\tlearn: 1.1443408\ttotal: 908ms\tremaining: 1.02s\n",
            "94:\tlearn: 1.1438241\ttotal: 921ms\tremaining: 1.02s\n",
            "95:\tlearn: 1.1432011\ttotal: 932ms\tremaining: 1.01s\n",
            "96:\tlearn: 1.1425843\ttotal: 942ms\tremaining: 1s\n",
            "97:\tlearn: 1.1420081\ttotal: 947ms\tremaining: 986ms\n",
            "98:\tlearn: 1.1412924\ttotal: 952ms\tremaining: 971ms\n",
            "99:\tlearn: 1.1407288\ttotal: 956ms\tremaining: 956ms\n",
            "100:\tlearn: 1.1400534\ttotal: 960ms\tremaining: 941ms\n",
            "101:\tlearn: 1.1393888\ttotal: 964ms\tremaining: 926ms\n",
            "102:\tlearn: 1.1390168\ttotal: 967ms\tremaining: 911ms\n",
            "103:\tlearn: 1.1385784\ttotal: 971ms\tremaining: 897ms\n",
            "104:\tlearn: 1.1380277\ttotal: 978ms\tremaining: 885ms\n",
            "105:\tlearn: 1.1374104\ttotal: 982ms\tremaining: 871ms\n",
            "106:\tlearn: 1.1366771\ttotal: 986ms\tremaining: 857ms\n",
            "107:\tlearn: 1.1361706\ttotal: 990ms\tremaining: 843ms\n",
            "108:\tlearn: 1.1355244\ttotal: 994ms\tremaining: 830ms\n",
            "109:\tlearn: 1.1350883\ttotal: 998ms\tremaining: 816ms\n",
            "110:\tlearn: 1.1347456\ttotal: 1s\tremaining: 803ms\n",
            "111:\tlearn: 1.1344872\ttotal: 1s\tremaining: 790ms\n",
            "112:\tlearn: 1.1338327\ttotal: 1.01s\tremaining: 777ms\n",
            "113:\tlearn: 1.1335231\ttotal: 1.01s\tremaining: 766ms\n",
            "114:\tlearn: 1.1328530\ttotal: 1.03s\tremaining: 761ms\n",
            "115:\tlearn: 1.1326296\ttotal: 1.03s\tremaining: 749ms\n",
            "116:\tlearn: 1.1320797\ttotal: 1.04s\tremaining: 737ms\n",
            "117:\tlearn: 1.1316228\ttotal: 1.04s\tremaining: 725ms\n",
            "118:\tlearn: 1.1310398\ttotal: 1.05s\tremaining: 713ms\n",
            "119:\tlearn: 1.1304695\ttotal: 1.05s\tremaining: 701ms\n",
            "120:\tlearn: 1.1301668\ttotal: 1.05s\tremaining: 689ms\n",
            "121:\tlearn: 1.1296381\ttotal: 1.06s\tremaining: 677ms\n",
            "122:\tlearn: 1.1291992\ttotal: 1.06s\tremaining: 666ms\n",
            "123:\tlearn: 1.1288434\ttotal: 1.07s\tremaining: 654ms\n",
            "124:\tlearn: 1.1283759\ttotal: 1.07s\tremaining: 643ms\n",
            "125:\tlearn: 1.1280214\ttotal: 1.08s\tremaining: 635ms\n",
            "126:\tlearn: 1.1274984\ttotal: 1.09s\tremaining: 624ms\n",
            "127:\tlearn: 1.1271203\ttotal: 1.09s\tremaining: 613ms\n",
            "128:\tlearn: 1.1266534\ttotal: 1.09s\tremaining: 602ms\n",
            "129:\tlearn: 1.1262392\ttotal: 1.1s\tremaining: 591ms\n",
            "130:\tlearn: 1.1258349\ttotal: 1.1s\tremaining: 580ms\n",
            "131:\tlearn: 1.1254952\ttotal: 1.1s\tremaining: 570ms\n",
            "132:\tlearn: 1.1250026\ttotal: 1.11s\tremaining: 559ms\n",
            "133:\tlearn: 1.1245501\ttotal: 1.11s\tremaining: 549ms\n",
            "134:\tlearn: 1.1241110\ttotal: 1.12s\tremaining: 538ms\n",
            "135:\tlearn: 1.1235682\ttotal: 1.12s\tremaining: 528ms\n",
            "136:\tlearn: 1.1231943\ttotal: 1.13s\tremaining: 521ms\n",
            "137:\tlearn: 1.1226834\ttotal: 1.14s\tremaining: 511ms\n",
            "138:\tlearn: 1.1223017\ttotal: 1.14s\tremaining: 501ms\n",
            "139:\tlearn: 1.1216815\ttotal: 1.15s\tremaining: 491ms\n",
            "140:\tlearn: 1.1213044\ttotal: 1.15s\tremaining: 481ms\n",
            "141:\tlearn: 1.1209739\ttotal: 1.15s\tremaining: 471ms\n",
            "142:\tlearn: 1.1206131\ttotal: 1.16s\tremaining: 462ms\n",
            "143:\tlearn: 1.1203589\ttotal: 1.17s\tremaining: 454ms\n",
            "144:\tlearn: 1.1198638\ttotal: 1.17s\tremaining: 444ms\n",
            "145:\tlearn: 1.1195373\ttotal: 1.17s\tremaining: 434ms\n",
            "146:\tlearn: 1.1191974\ttotal: 1.18s\tremaining: 425ms\n",
            "147:\tlearn: 1.1188239\ttotal: 1.18s\tremaining: 415ms\n",
            "148:\tlearn: 1.1184712\ttotal: 1.19s\tremaining: 406ms\n",
            "149:\tlearn: 1.1180757\ttotal: 1.19s\tremaining: 396ms\n",
            "150:\tlearn: 1.1176734\ttotal: 1.19s\tremaining: 387ms\n",
            "151:\tlearn: 1.1171504\ttotal: 1.2s\tremaining: 378ms\n",
            "152:\tlearn: 1.1167058\ttotal: 1.2s\tremaining: 369ms\n",
            "153:\tlearn: 1.1162652\ttotal: 1.21s\tremaining: 360ms\n",
            "154:\tlearn: 1.1159277\ttotal: 1.21s\tremaining: 351ms\n",
            "155:\tlearn: 1.1156159\ttotal: 1.21s\tremaining: 342ms\n",
            "156:\tlearn: 1.1152582\ttotal: 1.22s\tremaining: 334ms\n",
            "157:\tlearn: 1.1147503\ttotal: 1.22s\tremaining: 325ms\n",
            "158:\tlearn: 1.1143293\ttotal: 1.23s\tremaining: 316ms\n",
            "159:\tlearn: 1.1140231\ttotal: 1.23s\tremaining: 308ms\n",
            "160:\tlearn: 1.1135942\ttotal: 1.23s\tremaining: 299ms\n",
            "161:\tlearn: 1.1133645\ttotal: 1.24s\tremaining: 290ms\n",
            "162:\tlearn: 1.1128972\ttotal: 1.24s\tremaining: 282ms\n",
            "163:\tlearn: 1.1126427\ttotal: 1.25s\tremaining: 274ms\n",
            "164:\tlearn: 1.1120801\ttotal: 1.25s\tremaining: 265ms\n",
            "165:\tlearn: 1.1117806\ttotal: 1.25s\tremaining: 257ms\n",
            "166:\tlearn: 1.1114990\ttotal: 1.26s\tremaining: 249ms\n",
            "167:\tlearn: 1.1111095\ttotal: 1.26s\tremaining: 241ms\n",
            "168:\tlearn: 1.1107027\ttotal: 1.27s\tremaining: 232ms\n",
            "169:\tlearn: 1.1103775\ttotal: 1.27s\tremaining: 224ms\n",
            "170:\tlearn: 1.1099117\ttotal: 1.28s\tremaining: 217ms\n",
            "171:\tlearn: 1.1095475\ttotal: 1.28s\tremaining: 209ms\n",
            "172:\tlearn: 1.1091197\ttotal: 1.29s\tremaining: 201ms\n",
            "173:\tlearn: 1.1087519\ttotal: 1.29s\tremaining: 193ms\n",
            "174:\tlearn: 1.1084766\ttotal: 1.3s\tremaining: 185ms\n",
            "175:\tlearn: 1.1084579\ttotal: 1.3s\tremaining: 177ms\n",
            "176:\tlearn: 1.1081707\ttotal: 1.3s\tremaining: 169ms\n",
            "177:\tlearn: 1.1078733\ttotal: 1.31s\tremaining: 162ms\n",
            "178:\tlearn: 1.1076323\ttotal: 1.31s\tremaining: 154ms\n",
            "179:\tlearn: 1.1073135\ttotal: 1.31s\tremaining: 146ms\n",
            "180:\tlearn: 1.1070767\ttotal: 1.32s\tremaining: 138ms\n",
            "181:\tlearn: 1.1067699\ttotal: 1.32s\tremaining: 131ms\n",
            "182:\tlearn: 1.1065083\ttotal: 1.33s\tremaining: 123ms\n",
            "183:\tlearn: 1.1063006\ttotal: 1.33s\tremaining: 116ms\n",
            "184:\tlearn: 1.1059717\ttotal: 1.33s\tremaining: 108ms\n",
            "185:\tlearn: 1.1055076\ttotal: 1.34s\tremaining: 101ms\n",
            "186:\tlearn: 1.1052018\ttotal: 1.34s\tremaining: 93.4ms\n",
            "187:\tlearn: 1.1046703\ttotal: 1.35s\tremaining: 86ms\n",
            "188:\tlearn: 1.1043791\ttotal: 1.35s\tremaining: 78.7ms\n",
            "189:\tlearn: 1.1039284\ttotal: 1.35s\tremaining: 71.3ms\n",
            "190:\tlearn: 1.1035466\ttotal: 1.36s\tremaining: 64.3ms\n",
            "191:\tlearn: 1.1029643\ttotal: 1.37s\tremaining: 57ms\n",
            "192:\tlearn: 1.1025403\ttotal: 1.37s\tremaining: 49.8ms\n",
            "193:\tlearn: 1.1020731\ttotal: 1.38s\tremaining: 42.5ms\n",
            "194:\tlearn: 1.1016832\ttotal: 1.38s\tremaining: 35.4ms\n",
            "195:\tlearn: 1.1013571\ttotal: 1.38s\tremaining: 28.2ms\n",
            "196:\tlearn: 1.1012819\ttotal: 1.39s\tremaining: 21.1ms\n",
            "197:\tlearn: 1.1010733\ttotal: 1.39s\tremaining: 14.1ms\n",
            "198:\tlearn: 1.1007226\ttotal: 1.4s\tremaining: 7.01ms\n",
            "199:\tlearn: 1.1004970\ttotal: 1.4s\tremaining: 0us\n"
          ]
        },
        {
          "output_type": "execute_result",
          "data": {
            "text/plain": [
              "<catboost.core.CatBoostClassifier at 0x7f8467afb610>"
            ]
          },
          "metadata": {},
          "execution_count": 85
        }
      ]
    },
    {
      "cell_type": "code",
      "source": [
        "preds_cat = catmodel.predict(X_test)\n",
        "# catmodel.best_svc.best_params_\n",
        "from sklearn.metrics import accuracy_score\n",
        "print(\"Val Acc:\",   accuracy_score(preds_cat,   y_test))"
      ],
      "metadata": {
        "id": "Q65ugABdTo_c",
        "colab": {
          "base_uri": "https://localhost:8080/"
        },
        "outputId": "f8acdd73-d7d1-4f90-824b-d4090c473e82"
      },
      "execution_count": 86,
      "outputs": [
        {
          "output_type": "stream",
          "name": "stdout",
          "text": [
            "Val Acc: 0.4961618981158409\n"
          ]
        }
      ]
    },
    {
      "cell_type": "code",
      "source": [
        "from sklearn.metrics import confusion_matrix,accuracy_score,mean_squared_error\n",
        "cm = confusion_matrix(preds_cat,y_test)\n",
        "\n",
        "cm"
      ],
      "metadata": {
        "id": "5KUgFwwS7toL",
        "colab": {
          "base_uri": "https://localhost:8080/"
        },
        "outputId": "efa1f211-a180-423d-97d2-0523eff2a979"
      },
      "execution_count": 87,
      "outputs": [
        {
          "output_type": "execute_result",
          "data": {
            "text/plain": [
              "array([[182, 104,  56,  92],\n",
              "       [ 57,  90,  39,  26],\n",
              "       [ 55, 104, 174,  24],\n",
              "       [ 78,  50,  37, 265]])"
            ]
          },
          "metadata": {},
          "execution_count": 87
        }
      ]
    },
    {
      "cell_type": "code",
      "source": [
        "preds_cat_submit = catmodel.predict(Xx_test)"
      ],
      "metadata": {
        "id": "cKEhYenLiaTt"
      },
      "execution_count": 88,
      "outputs": []
    },
    {
      "cell_type": "code",
      "source": [
        "cm\n",
        "#48 accuracy"
      ],
      "metadata": {
        "id": "Bbx-6d4l9CDx",
        "colab": {
          "base_uri": "https://localhost:8080/"
        },
        "outputId": "eab86cb0-4aa0-4345-b08f-794534618a2c"
      },
      "execution_count": 89,
      "outputs": [
        {
          "output_type": "execute_result",
          "data": {
            "text/plain": [
              "array([[182, 104,  56,  92],\n",
              "       [ 57,  90,  39,  26],\n",
              "       [ 55, 104, 174,  24],\n",
              "       [ 78,  50,  37, 265]])"
            ]
          },
          "metadata": {},
          "execution_count": 89
        }
      ]
    },
    {
      "cell_type": "code",
      "source": [
        "preds_sub = catmodel.predict(Xx_test)"
      ],
      "metadata": {
        "id": "LSOdyf9P9ZfE"
      },
      "execution_count": 90,
      "outputs": []
    },
    {
      "cell_type": "markdown",
      "source": [
        "### LGBM"
      ],
      "metadata": {
        "id": "M86h3skaXRSc"
      }
    },
    {
      "cell_type": "code",
      "source": [
        "from sklearn.model_selection import GridSearchCV\n",
        "import lightgbm as lgb\n",
        "lgb=lgb.LGBMClassifier()\n",
        "#Define the parameters\n",
        "parameters = {'num_leaves':[20,40,60,80,100], 'min_child_samples':[5,10,15],'max_depth':[-1,5,10,20],\n",
        "             'learning_rate':[0.05,0.1,0.2],'reg_alpha':[0,0.01,0.03]}\n",
        "#Define the scoring\n",
        "clf=GridSearchCV(lgb,parameters,scoring='accuracy')\n",
        "clf.fit(X=X_train, y=y_train)\n",
        "print(clf.best_params_)\n",
        "predicted=clf.predict(X_test)\n",
        "print('Classification of the result is:')\n",
        "print(accuracy_score(y_test, predicted))\n",
        "\n"
      ],
      "metadata": {
        "id": "Hez5WIsHO09c"
      },
      "execution_count": null,
      "outputs": []
    },
    {
      "cell_type": "code",
      "source": [
        "import lightgbm as lgb\n",
        "lgb_model = lgb.LGBMClassifier(\n",
        "                                   boosting_type='gbdt', \n",
        "                                   max_depth=20, \n",
        "                                   learning_rate=0.15, \n",
        "                                   objective='multiclass', # Multi Class Classification\n",
        "                                   random_state=100,  \n",
        "                                   n_estimators=200 ,\n",
        "                                   reg_alpha=0, \n",
        "                                   reg_lambda=1, \n",
        "                                   n_jobs=-1\n",
        "                                 )\n",
        "cv = RepeatedKFold(n_splits=10, n_repeats=3, random_state=1)\n",
        "scores_cat = cross_val_score(lgb_model, X_train, y_train, scoring='neg_mean_absolute_error', cv=cv, n_jobs=-1)"
      ],
      "metadata": {
        "id": "etUFqnZZ-RD7"
      },
      "execution_count": null,
      "outputs": []
    },
    {
      "cell_type": "code",
      "source": [
        "# CV: 1\n",
        "from sklearn.model_selection import StratifiedKFold, KFold\n",
        "from lightgbm import LGBMClassifier\n",
        "kfold = KFold(n_splits=5, random_state=27, shuffle=True)\n",
        "scores = list()\n",
        "for train, test in kfold.split():\n",
        "    x_train, x_test = df_train_dum.iloc[train], df_train_dum.iloc[test]\n",
        "    y_train, y_test = Y[train], Y[test]\n",
        "    \n",
        "    model = LGBMClassifier(random_state=100, max_depth=3, n_estimators=200, learning_rate=0.1)\n",
        "    model.fit(x_train, y_train, categorical_feature=cat_feats_inds)\n",
        "    preds = model.predict(x_test)\n",
        "    \n",
        "    score = accuracy_score(y_test, preds)\n",
        "    scores.append(score)\n",
        "    print(\"Score: \", score)\n",
        "first_fold = sum(scores)/len(scores)\n",
        "print(\"\\nAverage Score: \", first_fold, \"\\n\\n\")\n",
        "\n",
        "# CV: 2\n",
        "kfold = StratifiedKFold(n_splits=10, random_state=27, shuffle=True)\n",
        "scores = list()\n",
        "for train, test in kfold.split(df_train_dum, Y):\n",
        "    x_train, x_test = df_train_dum.iloc[train], df_train_dum.iloc[test]\n",
        "    y_train, y_test = Y[train], Y[test]\n",
        "    \n",
        "    model = LGBMClassifier(random_state=100, max_depth=3, n_estimators=200, learning_rate=0.1)\n",
        "    model.fit(x_train, y_train, categorical_feature=cat_feats_inds)\n",
        "    preds = model.predict(x_test)\n",
        "    \n",
        "    score = accuracy_score(y_test, preds)\n",
        "    scores.append(score)\n",
        "    print(\"Score: \", score)\n",
        "    \n",
        "second_fold = sum(scores)/len(scores)\n",
        "print(\"\\nAverage Score: \", second_fold)\n",
        "print(\"\\n\\nFinal Average: \", first_fold*0.5 + second_fold*0.5)"
      ],
      "metadata": {
        "id": "dWhQSjQp6b8c"
      },
      "execution_count": null,
      "outputs": []
    },
    {
      "cell_type": "code",
      "source": [
        "#kaggle\n",
        "lgb_model = lgb.LGBMClassifier(\n",
        "                                   boosting_type='gbdt', \n",
        "                                   max_depth=15, \n",
        "                                   learning_rate=0.15, \n",
        "                                   objective='multiclass', # Multi Class Classification\n",
        "                                   random_state=100,  \n",
        "                                   n_estimators=100 ,\n",
        "                                   reg_alpha=0, \n",
        "                                   reg_lambda=1, \n",
        "                                   n_jobs=-1\n",
        "                                 )"
      ],
      "metadata": {
        "id": "58y9FKqrwX6T"
      },
      "execution_count": 91,
      "outputs": []
    },
    {
      "cell_type": "code",
      "source": [
        "lgb_model.fit(X=X_train, y=y_train)\n"
      ],
      "metadata": {
        "id": "iRxmj1PfKx0H",
        "colab": {
          "base_uri": "https://localhost:8080/"
        },
        "outputId": "5078f8df-1fc2-480e-f5a1-67fb9c6d293a"
      },
      "execution_count": 92,
      "outputs": [
        {
          "output_type": "execute_result",
          "data": {
            "text/plain": [
              "LGBMClassifier(learning_rate=0.15, max_depth=15, objective='multiclass',\n",
              "               random_state=100, reg_alpha=0, reg_lambda=1)"
            ]
          },
          "metadata": {},
          "execution_count": 92
        }
      ]
    },
    {
      "cell_type": "code",
      "source": [
        "preds_lgbm = lgb_model.predict(Xx_test)"
      ],
      "metadata": {
        "id": "7Y9wGhmvYhRI"
      },
      "execution_count": 93,
      "outputs": []
    },
    {
      "cell_type": "code",
      "source": [
        "preds_lgbm_t = lgb_model.predict(X_test)"
      ],
      "metadata": {
        "id": "LRkpjddtui0V"
      },
      "execution_count": 94,
      "outputs": []
    },
    {
      "cell_type": "code",
      "source": [
        "from sklearn.metrics import confusion_matrix,accuracy_score,mean_squared_error\n",
        "cm = confusion_matrix(preds_lgbm_t,y_test)"
      ],
      "metadata": {
        "id": "NDoWq0f29oQv"
      },
      "execution_count": 95,
      "outputs": []
    },
    {
      "cell_type": "code",
      "source": [
        "cm"
      ],
      "metadata": {
        "id": "L8iLOqvVYa7x",
        "colab": {
          "base_uri": "https://localhost:8080/"
        },
        "outputId": "70ad3bc9-0cb6-4a94-8cef-0562692f75d6"
      },
      "execution_count": 96,
      "outputs": [
        {
          "output_type": "execute_result",
          "data": {
            "text/plain": [
              "array([[155, 106,  56,  89],\n",
              "       [ 62,  82,  46,  29],\n",
              "       [ 56, 104, 161,  29],\n",
              "       [ 99,  56,  43, 260]])"
            ]
          },
          "metadata": {},
          "execution_count": 96
        }
      ]
    },
    {
      "cell_type": "code",
      "source": [
        "accuracy_score(y_test, preds_lgbm_t)"
      ],
      "metadata": {
        "id": "8XA3s7jxvj_W",
        "colab": {
          "base_uri": "https://localhost:8080/"
        },
        "outputId": "e576fbbb-88e2-4358-de0e-29dcc5b54695"
      },
      "execution_count": 97,
      "outputs": [
        {
          "output_type": "execute_result",
          "data": {
            "text/plain": [
              "0.45917655268667135"
            ]
          },
          "metadata": {},
          "execution_count": 97
        }
      ]
    },
    {
      "cell_type": "markdown",
      "source": [
        "### ExtraTree"
      ],
      "metadata": {
        "id": "kaY9PaZj_aU0"
      }
    },
    {
      "cell_type": "code",
      "source": [
        "# from sklearn.ensemble import ExtraTreesClassifier\n",
        "# xtra_tree= ExtraTreesClassifier(n_estimators = 5,\n",
        "#                                         criterion ='entropy', max_features = 2)\n",
        "  \n",
        "# # Training the model\n",
        "# xtra_tree.fit(X_train, y_train)\n",
        "  \n",
        "# # Computing the importance of each feature\n",
        "# feature_importance = xtra_tree.feature_importances_\n",
        "  \n",
        "# # Normalizing the individual importances\n",
        "# feature_importance_normalized = np.std([tree.feature_importances_ for tree in \n",
        "#                                         xtra_tree.estimators_],\n",
        "#                                         axis = 0)\n",
        "from sklearn.ensemble import ExtraTreesClassifier\n",
        "from sklearn.datasets import make_classification\n",
        "\n",
        "clf = ExtraTreesClassifier(n_estimators=500, random_state=0)\n",
        "clf.fit(X_train_x, y_train_x)\n",
        "#ExtraTreesClassifier(random_state=0)"
      ],
      "metadata": {
        "id": "OdODWw32wLgf",
        "colab": {
          "base_uri": "https://localhost:8080/"
        },
        "outputId": "69886c52-ef80-4594-a0aa-21d972742ee6"
      },
      "execution_count": 98,
      "outputs": [
        {
          "output_type": "execute_result",
          "data": {
            "text/plain": [
              "ExtraTreesClassifier(n_estimators=500, random_state=0)"
            ]
          },
          "metadata": {},
          "execution_count": 98
        }
      ]
    },
    {
      "cell_type": "code",
      "source": [
        "y_train.shape\n",
        "xtree=clf.predict(X_test_x)"
      ],
      "metadata": {
        "id": "w4Exu3uMMUZD"
      },
      "execution_count": 49,
      "outputs": []
    },
    {
      "cell_type": "code",
      "source": [
        "from sklearn.metrics import confusion_matrix,accuracy_score,mean_squared_error\n",
        "cm = confusion_matrix(xtree,y_test)\n",
        "cm"
      ],
      "metadata": {
        "colab": {
          "base_uri": "https://localhost:8080/"
        },
        "id": "03BQTjiR8dCa",
        "outputId": "89aa7f1a-5309-4c4d-b0e6-c5ec92a9b2a3"
      },
      "execution_count": 99,
      "outputs": [
        {
          "output_type": "execute_result",
          "data": {
            "text/plain": [
              "array([[130, 101,  68,  95],\n",
              "       [ 95,  85,  96,  47],\n",
              "       [ 59, 105,  99,  53],\n",
              "       [ 88,  57,  43, 212]])"
            ]
          },
          "metadata": {},
          "execution_count": 99
        }
      ]
    },
    {
      "cell_type": "markdown",
      "source": [
        "### XGBoost"
      ],
      "metadata": {
        "id": "r2Qi-5ZH_hrg"
      }
    },
    {
      "cell_type": "code",
      "source": [
        "grid = {\n",
        "        'min_child_weight': [1, 5, 10],\n",
        "        'gamma': [0.5, 1, 1.5, 2, 5],\n",
        "        'subsample': [0.6, 0.8, 1.0],\n",
        "        'colsample_bytree': [0.6, 0.8, 1.0],\n",
        "        'max_depth': [3, 4, 5]}\n",
        "\n",
        "modelXg = XGBClassifier()       \n",
        "gs = GridSearchCV(estimator=modelXg, param_grid = parameters, cv = 10, n_jobs=-1)\n",
        "gs.fit(X_train, y_train)\n",
        "print(\"gsearch1.best_params_\",gs.best_params_)\n",
        "print(\"gsearch1.best_score_\",gs.best_score_)"
      ],
      "metadata": {
        "id": "twZuZzzlqDuS"
      },
      "execution_count": null,
      "outputs": []
    },
    {
      "cell_type": "code",
      "source": [
        "modelXg = XGBClassifier(\n",
        "                        learning_rate=0.011, n_estimators=500, max_depth=5,min_child_weight=100,\n",
        "                        nthread=-1, subsample=0.8, colsample_bytree=0.7, scoring = 'accuracy',seed=7)\n",
        "modelXg.fit(X_train, y_train)\n",
        "predXg=modelXg.predict(X_test)\n",
        "accuracy_score(y_test, predXg)"
      ],
      "metadata": {
        "id": "RIaFK7FF_k4u",
        "colab": {
          "base_uri": "https://localhost:8080/"
        },
        "outputId": "ddd28fab-d6ad-4743-aaad-3179a19c7106"
      },
      "execution_count": 100,
      "outputs": [
        {
          "output_type": "execute_result",
          "data": {
            "text/plain": [
              "0.4856943475226797"
            ]
          },
          "metadata": {},
          "execution_count": 100
        }
      ]
    },
    {
      "cell_type": "code",
      "source": [
        "from sklearn.metrics import confusion_matrix,accuracy_score,mean_squared_error\n",
        "cm = confusion_matrix(predXg,y_test)\n",
        "cm"
      ],
      "metadata": {
        "colab": {
          "base_uri": "https://localhost:8080/"
        },
        "id": "BxUcKnbX5PzV",
        "outputId": "edc6a934-a379-44fc-e007-f174e34af6aa"
      },
      "execution_count": 101,
      "outputs": [
        {
          "output_type": "execute_result",
          "data": {
            "text/plain": [
              "array([[188, 112,  55, 104],\n",
              "       [ 44,  74,  37,  18],\n",
              "       [ 62, 110, 176,  27],\n",
              "       [ 78,  52,  38, 258]])"
            ]
          },
          "metadata": {},
          "execution_count": 101
        }
      ]
    },
    {
      "cell_type": "code",
      "source": [
        "predxg_submit = modelXg.predict(Xx_test)"
      ],
      "metadata": {
        "id": "lKN6JD57bW6_"
      },
      "execution_count": 102,
      "outputs": []
    },
    {
      "cell_type": "markdown",
      "source": [
        "### Voting"
      ],
      "metadata": {
        "id": "EpCcVpZ1_enV"
      }
    },
    {
      "cell_type": "code",
      "source": [
        "from sklearn.ensemble import VotingClassifier\n",
        "\n",
        "\n",
        "classifiers = [ ['XGB :', modelXg],\n",
        "               ['CatBoost :',catmodel ]]\n",
        "vc = VotingClassifier(estimators=classifiers,voting='soft')\n",
        "\n",
        "vc.fit(X_train,y_train)\n",
        "\n",
        "y_pred_voting = vc.predict(X_test)\n",
        "\n"
      ],
      "metadata": {
        "id": "7ZMwNbY_eQib",
        "colab": {
          "base_uri": "https://localhost:8080/"
        },
        "outputId": "a4f666f3-2a82-4f33-b939-b7b0517fae3c"
      },
      "execution_count": 103,
      "outputs": [
        {
          "output_type": "stream",
          "name": "stdout",
          "text": [
            "0:\tlearn: 1.3750078\ttotal: 5.14ms\tremaining: 1.02s\n",
            "1:\tlearn: 1.3651379\ttotal: 10.1ms\tremaining: 1s\n",
            "2:\tlearn: 1.3549892\ttotal: 14.3ms\tremaining: 939ms\n",
            "3:\tlearn: 1.3453837\ttotal: 18.5ms\tremaining: 906ms\n",
            "4:\tlearn: 1.3366286\ttotal: 22.7ms\tremaining: 884ms\n",
            "5:\tlearn: 1.3280311\ttotal: 26.6ms\tremaining: 860ms\n",
            "6:\tlearn: 1.3201534\ttotal: 30.8ms\tremaining: 850ms\n",
            "7:\tlearn: 1.3123576\ttotal: 35.1ms\tremaining: 842ms\n",
            "8:\tlearn: 1.3057190\ttotal: 39.3ms\tremaining: 835ms\n",
            "9:\tlearn: 1.3002749\ttotal: 43.2ms\tremaining: 821ms\n",
            "10:\tlearn: 1.2939288\ttotal: 47.3ms\tremaining: 812ms\n",
            "11:\tlearn: 1.2886841\ttotal: 51.7ms\tremaining: 810ms\n",
            "12:\tlearn: 1.2829927\ttotal: 55.8ms\tremaining: 803ms\n",
            "13:\tlearn: 1.2776104\ttotal: 60ms\tremaining: 797ms\n",
            "14:\tlearn: 1.2722525\ttotal: 64.1ms\tremaining: 791ms\n",
            "15:\tlearn: 1.2677324\ttotal: 68.3ms\tremaining: 785ms\n",
            "16:\tlearn: 1.2634132\ttotal: 72.3ms\tremaining: 779ms\n",
            "17:\tlearn: 1.2589990\ttotal: 76.5ms\tremaining: 774ms\n",
            "18:\tlearn: 1.2547529\ttotal: 80.7ms\tremaining: 769ms\n",
            "19:\tlearn: 1.2507051\ttotal: 84.9ms\tremaining: 764ms\n",
            "20:\tlearn: 1.2472176\ttotal: 88.9ms\tremaining: 758ms\n",
            "21:\tlearn: 1.2436098\ttotal: 93.2ms\tremaining: 754ms\n",
            "22:\tlearn: 1.2402653\ttotal: 97.6ms\tremaining: 751ms\n",
            "23:\tlearn: 1.2365353\ttotal: 102ms\tremaining: 748ms\n",
            "24:\tlearn: 1.2336239\ttotal: 106ms\tremaining: 742ms\n",
            "25:\tlearn: 1.2302937\ttotal: 111ms\tremaining: 740ms\n",
            "26:\tlearn: 1.2274596\ttotal: 115ms\tremaining: 735ms\n",
            "27:\tlearn: 1.2247512\ttotal: 119ms\tremaining: 732ms\n",
            "28:\tlearn: 1.2222029\ttotal: 124ms\tremaining: 729ms\n",
            "29:\tlearn: 1.2194691\ttotal: 128ms\tremaining: 726ms\n",
            "30:\tlearn: 1.2167664\ttotal: 132ms\tremaining: 721ms\n",
            "31:\tlearn: 1.2145946\ttotal: 136ms\tremaining: 716ms\n",
            "32:\tlearn: 1.2124548\ttotal: 140ms\tremaining: 711ms\n",
            "33:\tlearn: 1.2107122\ttotal: 145ms\tremaining: 706ms\n",
            "34:\tlearn: 1.2083777\ttotal: 149ms\tremaining: 701ms\n",
            "35:\tlearn: 1.2060335\ttotal: 153ms\tremaining: 696ms\n",
            "36:\tlearn: 1.2039629\ttotal: 157ms\tremaining: 692ms\n",
            "37:\tlearn: 1.2021545\ttotal: 161ms\tremaining: 686ms\n",
            "38:\tlearn: 1.2002427\ttotal: 165ms\tremaining: 680ms\n",
            "39:\tlearn: 1.1985675\ttotal: 169ms\tremaining: 674ms\n",
            "40:\tlearn: 1.1968606\ttotal: 173ms\tremaining: 669ms\n",
            "41:\tlearn: 1.1953524\ttotal: 176ms\tremaining: 664ms\n",
            "42:\tlearn: 1.1935667\ttotal: 180ms\tremaining: 659ms\n",
            "43:\tlearn: 1.1919600\ttotal: 184ms\tremaining: 654ms\n",
            "44:\tlearn: 1.1898414\ttotal: 189ms\tremaining: 650ms\n",
            "45:\tlearn: 1.1879775\ttotal: 198ms\tremaining: 663ms\n",
            "46:\tlearn: 1.1863533\ttotal: 208ms\tremaining: 678ms\n",
            "47:\tlearn: 1.1847449\ttotal: 218ms\tremaining: 692ms\n",
            "48:\tlearn: 1.1834348\ttotal: 223ms\tremaining: 686ms\n",
            "49:\tlearn: 1.1821324\ttotal: 227ms\tremaining: 680ms\n",
            "50:\tlearn: 1.1809891\ttotal: 230ms\tremaining: 673ms\n",
            "51:\tlearn: 1.1798707\ttotal: 235ms\tremaining: 668ms\n",
            "52:\tlearn: 1.1787001\ttotal: 239ms\tremaining: 662ms\n",
            "53:\tlearn: 1.1773803\ttotal: 243ms\tremaining: 657ms\n",
            "54:\tlearn: 1.1764115\ttotal: 247ms\tremaining: 652ms\n",
            "55:\tlearn: 1.1756382\ttotal: 251ms\tremaining: 645ms\n",
            "56:\tlearn: 1.1745799\ttotal: 255ms\tremaining: 640ms\n",
            "57:\tlearn: 1.1735944\ttotal: 259ms\tremaining: 635ms\n",
            "58:\tlearn: 1.1726059\ttotal: 263ms\tremaining: 629ms\n",
            "59:\tlearn: 1.1715312\ttotal: 267ms\tremaining: 624ms\n",
            "60:\tlearn: 1.1705115\ttotal: 271ms\tremaining: 618ms\n",
            "61:\tlearn: 1.1697308\ttotal: 275ms\tremaining: 613ms\n",
            "62:\tlearn: 1.1689748\ttotal: 280ms\tremaining: 608ms\n",
            "63:\tlearn: 1.1679318\ttotal: 283ms\tremaining: 602ms\n",
            "64:\tlearn: 1.1671732\ttotal: 287ms\tremaining: 596ms\n",
            "65:\tlearn: 1.1661887\ttotal: 291ms\tremaining: 591ms\n",
            "66:\tlearn: 1.1655326\ttotal: 295ms\tremaining: 586ms\n",
            "67:\tlearn: 1.1649209\ttotal: 299ms\tremaining: 580ms\n",
            "68:\tlearn: 1.1640407\ttotal: 303ms\tremaining: 575ms\n",
            "69:\tlearn: 1.1628185\ttotal: 307ms\tremaining: 571ms\n",
            "70:\tlearn: 1.1618625\ttotal: 312ms\tremaining: 566ms\n",
            "71:\tlearn: 1.1609405\ttotal: 316ms\tremaining: 561ms\n",
            "72:\tlearn: 1.1598185\ttotal: 320ms\tremaining: 556ms\n",
            "73:\tlearn: 1.1586265\ttotal: 324ms\tremaining: 552ms\n",
            "74:\tlearn: 1.1577560\ttotal: 328ms\tremaining: 547ms\n",
            "75:\tlearn: 1.1574688\ttotal: 332ms\tremaining: 541ms\n",
            "76:\tlearn: 1.1568927\ttotal: 335ms\tremaining: 536ms\n",
            "77:\tlearn: 1.1559354\ttotal: 339ms\tremaining: 531ms\n",
            "78:\tlearn: 1.1552200\ttotal: 344ms\tremaining: 526ms\n",
            "79:\tlearn: 1.1545718\ttotal: 348ms\tremaining: 522ms\n",
            "80:\tlearn: 1.1538172\ttotal: 352ms\tremaining: 518ms\n",
            "81:\tlearn: 1.1531564\ttotal: 356ms\tremaining: 513ms\n",
            "82:\tlearn: 1.1524316\ttotal: 360ms\tremaining: 508ms\n",
            "83:\tlearn: 1.1516525\ttotal: 365ms\tremaining: 503ms\n",
            "84:\tlearn: 1.1508183\ttotal: 369ms\tremaining: 499ms\n",
            "85:\tlearn: 1.1501246\ttotal: 373ms\tremaining: 495ms\n",
            "86:\tlearn: 1.1493332\ttotal: 377ms\tremaining: 490ms\n",
            "87:\tlearn: 1.1487654\ttotal: 381ms\tremaining: 485ms\n",
            "88:\tlearn: 1.1478189\ttotal: 385ms\tremaining: 481ms\n",
            "89:\tlearn: 1.1471353\ttotal: 392ms\tremaining: 479ms\n",
            "90:\tlearn: 1.1464860\ttotal: 398ms\tremaining: 476ms\n",
            "91:\tlearn: 1.1456719\ttotal: 402ms\tremaining: 472ms\n",
            "92:\tlearn: 1.1451648\ttotal: 406ms\tremaining: 467ms\n",
            "93:\tlearn: 1.1443408\ttotal: 410ms\tremaining: 462ms\n",
            "94:\tlearn: 1.1438241\ttotal: 414ms\tremaining: 458ms\n",
            "95:\tlearn: 1.1432011\ttotal: 418ms\tremaining: 453ms\n",
            "96:\tlearn: 1.1425843\ttotal: 422ms\tremaining: 449ms\n",
            "97:\tlearn: 1.1420081\ttotal: 427ms\tremaining: 444ms\n",
            "98:\tlearn: 1.1412924\ttotal: 432ms\tremaining: 441ms\n",
            "99:\tlearn: 1.1407288\ttotal: 436ms\tremaining: 436ms\n",
            "100:\tlearn: 1.1400534\ttotal: 440ms\tremaining: 432ms\n",
            "101:\tlearn: 1.1393888\ttotal: 444ms\tremaining: 427ms\n",
            "102:\tlearn: 1.1390168\ttotal: 448ms\tremaining: 422ms\n",
            "103:\tlearn: 1.1385784\ttotal: 451ms\tremaining: 417ms\n",
            "104:\tlearn: 1.1380277\ttotal: 455ms\tremaining: 412ms\n",
            "105:\tlearn: 1.1374104\ttotal: 459ms\tremaining: 407ms\n",
            "106:\tlearn: 1.1366771\ttotal: 464ms\tremaining: 403ms\n",
            "107:\tlearn: 1.1361706\ttotal: 468ms\tremaining: 399ms\n",
            "108:\tlearn: 1.1355244\ttotal: 472ms\tremaining: 394ms\n",
            "109:\tlearn: 1.1350883\ttotal: 476ms\tremaining: 389ms\n",
            "110:\tlearn: 1.1347456\ttotal: 480ms\tremaining: 385ms\n",
            "111:\tlearn: 1.1344872\ttotal: 484ms\tremaining: 381ms\n",
            "112:\tlearn: 1.1338327\ttotal: 488ms\tremaining: 376ms\n",
            "113:\tlearn: 1.1335231\ttotal: 492ms\tremaining: 371ms\n",
            "114:\tlearn: 1.1328530\ttotal: 496ms\tremaining: 367ms\n",
            "115:\tlearn: 1.1326296\ttotal: 500ms\tremaining: 362ms\n",
            "116:\tlearn: 1.1320797\ttotal: 505ms\tremaining: 358ms\n",
            "117:\tlearn: 1.1316228\ttotal: 509ms\tremaining: 353ms\n",
            "118:\tlearn: 1.1310398\ttotal: 513ms\tremaining: 349ms\n",
            "119:\tlearn: 1.1304695\ttotal: 517ms\tremaining: 345ms\n",
            "120:\tlearn: 1.1301668\ttotal: 521ms\tremaining: 340ms\n",
            "121:\tlearn: 1.1296381\ttotal: 525ms\tremaining: 336ms\n",
            "122:\tlearn: 1.1291992\ttotal: 530ms\tremaining: 332ms\n",
            "123:\tlearn: 1.1288434\ttotal: 534ms\tremaining: 327ms\n",
            "124:\tlearn: 1.1283759\ttotal: 538ms\tremaining: 323ms\n",
            "125:\tlearn: 1.1280214\ttotal: 542ms\tremaining: 318ms\n",
            "126:\tlearn: 1.1274984\ttotal: 547ms\tremaining: 315ms\n",
            "127:\tlearn: 1.1271203\ttotal: 552ms\tremaining: 310ms\n",
            "128:\tlearn: 1.1266534\ttotal: 556ms\tremaining: 306ms\n",
            "129:\tlearn: 1.1262392\ttotal: 560ms\tremaining: 301ms\n",
            "130:\tlearn: 1.1258349\ttotal: 563ms\tremaining: 297ms\n",
            "131:\tlearn: 1.1254952\ttotal: 567ms\tremaining: 292ms\n",
            "132:\tlearn: 1.1250026\ttotal: 572ms\tremaining: 288ms\n",
            "133:\tlearn: 1.1245501\ttotal: 575ms\tremaining: 283ms\n",
            "134:\tlearn: 1.1241110\ttotal: 582ms\tremaining: 280ms\n",
            "135:\tlearn: 1.1235682\ttotal: 593ms\tremaining: 279ms\n",
            "136:\tlearn: 1.1231943\ttotal: 597ms\tremaining: 274ms\n",
            "137:\tlearn: 1.1226834\ttotal: 600ms\tremaining: 270ms\n",
            "138:\tlearn: 1.1223017\ttotal: 604ms\tremaining: 265ms\n",
            "139:\tlearn: 1.1216815\ttotal: 609ms\tremaining: 261ms\n",
            "140:\tlearn: 1.1213044\ttotal: 612ms\tremaining: 256ms\n",
            "141:\tlearn: 1.1209739\ttotal: 616ms\tremaining: 251ms\n",
            "142:\tlearn: 1.1206131\ttotal: 619ms\tremaining: 247ms\n",
            "143:\tlearn: 1.1203589\ttotal: 623ms\tremaining: 242ms\n",
            "144:\tlearn: 1.1198638\ttotal: 627ms\tremaining: 238ms\n",
            "145:\tlearn: 1.1195373\ttotal: 631ms\tremaining: 233ms\n",
            "146:\tlearn: 1.1191974\ttotal: 634ms\tremaining: 229ms\n",
            "147:\tlearn: 1.1188239\ttotal: 639ms\tremaining: 224ms\n",
            "148:\tlearn: 1.1184712\ttotal: 643ms\tremaining: 220ms\n",
            "149:\tlearn: 1.1180757\ttotal: 647ms\tremaining: 216ms\n",
            "150:\tlearn: 1.1176734\ttotal: 654ms\tremaining: 212ms\n",
            "151:\tlearn: 1.1171504\ttotal: 658ms\tremaining: 208ms\n",
            "152:\tlearn: 1.1167058\ttotal: 662ms\tremaining: 203ms\n",
            "153:\tlearn: 1.1162652\ttotal: 667ms\tremaining: 199ms\n",
            "154:\tlearn: 1.1159277\ttotal: 671ms\tremaining: 195ms\n",
            "155:\tlearn: 1.1156159\ttotal: 674ms\tremaining: 190ms\n",
            "156:\tlearn: 1.1152582\ttotal: 678ms\tremaining: 186ms\n",
            "157:\tlearn: 1.1147503\ttotal: 683ms\tremaining: 181ms\n",
            "158:\tlearn: 1.1143293\ttotal: 687ms\tremaining: 177ms\n",
            "159:\tlearn: 1.1140231\ttotal: 691ms\tremaining: 173ms\n",
            "160:\tlearn: 1.1135942\ttotal: 695ms\tremaining: 168ms\n",
            "161:\tlearn: 1.1133645\ttotal: 699ms\tremaining: 164ms\n",
            "162:\tlearn: 1.1128972\ttotal: 705ms\tremaining: 160ms\n",
            "163:\tlearn: 1.1126427\ttotal: 710ms\tremaining: 156ms\n",
            "164:\tlearn: 1.1120801\ttotal: 714ms\tremaining: 151ms\n",
            "165:\tlearn: 1.1117806\ttotal: 718ms\tremaining: 147ms\n",
            "166:\tlearn: 1.1114990\ttotal: 722ms\tremaining: 143ms\n",
            "167:\tlearn: 1.1111095\ttotal: 726ms\tremaining: 138ms\n",
            "168:\tlearn: 1.1107027\ttotal: 730ms\tremaining: 134ms\n",
            "169:\tlearn: 1.1103775\ttotal: 734ms\tremaining: 130ms\n",
            "170:\tlearn: 1.1099117\ttotal: 738ms\tremaining: 125ms\n",
            "171:\tlearn: 1.1095475\ttotal: 742ms\tremaining: 121ms\n",
            "172:\tlearn: 1.1091197\ttotal: 746ms\tremaining: 116ms\n",
            "173:\tlearn: 1.1087519\ttotal: 750ms\tremaining: 112ms\n",
            "174:\tlearn: 1.1084766\ttotal: 754ms\tremaining: 108ms\n",
            "175:\tlearn: 1.1084579\ttotal: 757ms\tremaining: 103ms\n",
            "176:\tlearn: 1.1081707\ttotal: 761ms\tremaining: 98.9ms\n",
            "177:\tlearn: 1.1078733\ttotal: 765ms\tremaining: 94.5ms\n",
            "178:\tlearn: 1.1076323\ttotal: 769ms\tremaining: 90.2ms\n",
            "179:\tlearn: 1.1073135\ttotal: 776ms\tremaining: 86.2ms\n",
            "180:\tlearn: 1.1070767\ttotal: 780ms\tremaining: 81.8ms\n",
            "181:\tlearn: 1.1067699\ttotal: 784ms\tremaining: 77.5ms\n",
            "182:\tlearn: 1.1065083\ttotal: 788ms\tremaining: 73.2ms\n",
            "183:\tlearn: 1.1063006\ttotal: 792ms\tremaining: 68.8ms\n",
            "184:\tlearn: 1.1059717\ttotal: 796ms\tremaining: 64.5ms\n",
            "185:\tlearn: 1.1055076\ttotal: 800ms\tremaining: 60.2ms\n",
            "186:\tlearn: 1.1052018\ttotal: 804ms\tremaining: 55.9ms\n",
            "187:\tlearn: 1.1046703\ttotal: 809ms\tremaining: 51.6ms\n",
            "188:\tlearn: 1.1043791\ttotal: 813ms\tremaining: 47.3ms\n",
            "189:\tlearn: 1.1039284\ttotal: 817ms\tremaining: 43ms\n",
            "190:\tlearn: 1.1035466\ttotal: 821ms\tremaining: 38.7ms\n",
            "191:\tlearn: 1.1029643\ttotal: 825ms\tremaining: 34.4ms\n",
            "192:\tlearn: 1.1025403\ttotal: 829ms\tremaining: 30.1ms\n",
            "193:\tlearn: 1.1020731\ttotal: 833ms\tremaining: 25.8ms\n",
            "194:\tlearn: 1.1016832\ttotal: 837ms\tremaining: 21.5ms\n",
            "195:\tlearn: 1.1013571\ttotal: 841ms\tremaining: 17.2ms\n",
            "196:\tlearn: 1.1012819\ttotal: 844ms\tremaining: 12.9ms\n",
            "197:\tlearn: 1.1010733\ttotal: 848ms\tremaining: 8.57ms\n",
            "198:\tlearn: 1.1007226\ttotal: 853ms\tremaining: 4.28ms\n",
            "199:\tlearn: 1.1004970\ttotal: 857ms\tremaining: 0us\n"
          ]
        }
      ]
    },
    {
      "cell_type": "code",
      "source": [
        "y_pred_voting = vc.predict(X_test_x)"
      ],
      "metadata": {
        "id": "qaH6TxAAB8Hq"
      },
      "execution_count": 107,
      "outputs": []
    },
    {
      "cell_type": "code",
      "source": [
        "accuracy_score(y_test_x, y_pred_voting)"
      ],
      "metadata": {
        "id": "VlKds0lJu_CK",
        "colab": {
          "base_uri": "https://localhost:8080/"
        },
        "outputId": "c9d619f9-fc5c-4893-c33c-6bc55033c0c7"
      },
      "execution_count": 108,
      "outputs": [
        {
          "output_type": "execute_result",
          "data": {
            "text/plain": [
              "0.4926727145847872"
            ]
          },
          "metadata": {},
          "execution_count": 108
        }
      ]
    },
    {
      "cell_type": "code",
      "source": [
        "pre =preds_cat_submit\n",
        "pre = pd.DataFrame(pre)\n",
        "pre=pre.replace(0,'A')\n",
        "pre=pre.replace(1,'B')\n",
        "pre=pre.replace(2,'C')\n",
        "pre=pre.replace(3,'D')"
      ],
      "metadata": {
        "id": "9NI88YebPc6g"
      },
      "execution_count": 109,
      "outputs": []
    },
    {
      "cell_type": "code",
      "source": [
        "pre[0]"
      ],
      "metadata": {
        "id": "G_feTo6oc2z4"
      },
      "execution_count": null,
      "outputs": []
    },
    {
      "cell_type": "code",
      "source": [
        ""
      ],
      "metadata": {
        "id": "9LY4RvVI9DFl"
      },
      "execution_count": null,
      "outputs": []
    },
    {
      "cell_type": "code",
      "source": [
        "submission"
      ],
      "metadata": {
        "id": "zphpJqKBCUZH"
      },
      "execution_count": null,
      "outputs": []
    },
    {
      "cell_type": "code",
      "source": [
        "submission = {'ID':ID,'Segmentation':pre[0]}\n",
        "submission = pd.DataFrame(submission)\n",
        "submission.to_csv(\"Submission_cat_filltrain_final\", index=False)"
      ],
      "metadata": {
        "id": "ACULwmYe9WfL"
      },
      "execution_count": 110,
      "outputs": []
    },
    {
      "cell_type": "code",
      "source": [
        "raw_train = pd.read_csv(\"train.csv\")\n",
        "raw_test = pd.read_csv('test.csv')"
      ],
      "metadata": {
        "id": "kU4Kdh6KC1f8"
      },
      "execution_count": null,
      "outputs": []
    },
    {
      "cell_type": "code",
      "source": [
        "raw_train.columns\n"
      ],
      "metadata": {
        "colab": {
          "base_uri": "https://localhost:8080/"
        },
        "id": "mJEuYKmBlXjk",
        "outputId": "36b7b306-f4af-435f-f3ad-f5787a897462"
      },
      "execution_count": null,
      "outputs": [
        {
          "output_type": "execute_result",
          "data": {
            "text/plain": [
              "Index(['ID', 'Gender', 'Ever_Married', 'Age', 'Graduated', 'Profession',\n",
              "       'Work_Experience', 'Spending_Score', 'Family_Size', 'Var_1',\n",
              "       'Segmentation'],\n",
              "      dtype='object')"
            ]
          },
          "metadata": {},
          "execution_count": 49
        }
      ]
    },
    {
      "cell_type": "code",
      "source": [
        "raw_test.columns"
      ],
      "metadata": {
        "colab": {
          "base_uri": "https://localhost:8080/"
        },
        "id": "LLKUefudlagL",
        "outputId": "4fe5229b-6f44-4f5b-9081-55265ba9ff27"
      },
      "execution_count": null,
      "outputs": [
        {
          "output_type": "execute_result",
          "data": {
            "text/plain": [
              "Index(['ID', 'Gender', 'Ever_Married', 'Age', 'Graduated', 'Profession',\n",
              "       'Work_Experience', 'Spending_Score', 'Family_Size', 'Var_1'],\n",
              "      dtype='object')"
            ]
          },
          "metadata": {},
          "execution_count": 50
        }
      ]
    },
    {
      "cell_type": "code",
      "source": [
        "pre"
      ],
      "metadata": {
        "colab": {
          "base_uri": "https://localhost:8080/",
          "height": 423
        },
        "id": "AWm-6Mvgl2Il",
        "outputId": "409e2702-5a3c-4eff-c03d-7ec6c9123f65"
      },
      "execution_count": null,
      "outputs": [
        {
          "output_type": "execute_result",
          "data": {
            "text/plain": [
              "      0\n",
              "0     A\n",
              "1     D\n",
              "2     A\n",
              "3     D\n",
              "4     A\n",
              "...  ..\n",
              "3525  C\n",
              "3526  B\n",
              "3527  C\n",
              "3528  D\n",
              "3529  C\n",
              "\n",
              "[3530 rows x 1 columns]"
            ],
            "text/html": [
              "\n",
              "  <div id=\"df-7ce9045a-46d9-4278-b608-403a9bd85b4a\">\n",
              "    <div class=\"colab-df-container\">\n",
              "      <div>\n",
              "<style scoped>\n",
              "    .dataframe tbody tr th:only-of-type {\n",
              "        vertical-align: middle;\n",
              "    }\n",
              "\n",
              "    .dataframe tbody tr th {\n",
              "        vertical-align: top;\n",
              "    }\n",
              "\n",
              "    .dataframe thead th {\n",
              "        text-align: right;\n",
              "    }\n",
              "</style>\n",
              "<table border=\"1\" class=\"dataframe\">\n",
              "  <thead>\n",
              "    <tr style=\"text-align: right;\">\n",
              "      <th></th>\n",
              "      <th>0</th>\n",
              "    </tr>\n",
              "  </thead>\n",
              "  <tbody>\n",
              "    <tr>\n",
              "      <th>0</th>\n",
              "      <td>A</td>\n",
              "    </tr>\n",
              "    <tr>\n",
              "      <th>1</th>\n",
              "      <td>D</td>\n",
              "    </tr>\n",
              "    <tr>\n",
              "      <th>2</th>\n",
              "      <td>A</td>\n",
              "    </tr>\n",
              "    <tr>\n",
              "      <th>3</th>\n",
              "      <td>D</td>\n",
              "    </tr>\n",
              "    <tr>\n",
              "      <th>4</th>\n",
              "      <td>A</td>\n",
              "    </tr>\n",
              "    <tr>\n",
              "      <th>...</th>\n",
              "      <td>...</td>\n",
              "    </tr>\n",
              "    <tr>\n",
              "      <th>3525</th>\n",
              "      <td>C</td>\n",
              "    </tr>\n",
              "    <tr>\n",
              "      <th>3526</th>\n",
              "      <td>B</td>\n",
              "    </tr>\n",
              "    <tr>\n",
              "      <th>3527</th>\n",
              "      <td>C</td>\n",
              "    </tr>\n",
              "    <tr>\n",
              "      <th>3528</th>\n",
              "      <td>D</td>\n",
              "    </tr>\n",
              "    <tr>\n",
              "      <th>3529</th>\n",
              "      <td>C</td>\n",
              "    </tr>\n",
              "  </tbody>\n",
              "</table>\n",
              "<p>3530 rows × 1 columns</p>\n",
              "</div>\n",
              "      <button class=\"colab-df-convert\" onclick=\"convertToInteractive('df-7ce9045a-46d9-4278-b608-403a9bd85b4a')\"\n",
              "              title=\"Convert this dataframe to an interactive table.\"\n",
              "              style=\"display:none;\">\n",
              "        \n",
              "  <svg xmlns=\"http://www.w3.org/2000/svg\" height=\"24px\"viewBox=\"0 0 24 24\"\n",
              "       width=\"24px\">\n",
              "    <path d=\"M0 0h24v24H0V0z\" fill=\"none\"/>\n",
              "    <path d=\"M18.56 5.44l.94 2.06.94-2.06 2.06-.94-2.06-.94-.94-2.06-.94 2.06-2.06.94zm-11 1L8.5 8.5l.94-2.06 2.06-.94-2.06-.94L8.5 2.5l-.94 2.06-2.06.94zm10 10l.94 2.06.94-2.06 2.06-.94-2.06-.94-.94-2.06-.94 2.06-2.06.94z\"/><path d=\"M17.41 7.96l-1.37-1.37c-.4-.4-.92-.59-1.43-.59-.52 0-1.04.2-1.43.59L10.3 9.45l-7.72 7.72c-.78.78-.78 2.05 0 2.83L4 21.41c.39.39.9.59 1.41.59.51 0 1.02-.2 1.41-.59l7.78-7.78 2.81-2.81c.8-.78.8-2.07 0-2.86zM5.41 20L4 18.59l7.72-7.72 1.47 1.35L5.41 20z\"/>\n",
              "  </svg>\n",
              "      </button>\n",
              "      \n",
              "  <style>\n",
              "    .colab-df-container {\n",
              "      display:flex;\n",
              "      flex-wrap:wrap;\n",
              "      gap: 12px;\n",
              "    }\n",
              "\n",
              "    .colab-df-convert {\n",
              "      background-color: #E8F0FE;\n",
              "      border: none;\n",
              "      border-radius: 50%;\n",
              "      cursor: pointer;\n",
              "      display: none;\n",
              "      fill: #1967D2;\n",
              "      height: 32px;\n",
              "      padding: 0 0 0 0;\n",
              "      width: 32px;\n",
              "    }\n",
              "\n",
              "    .colab-df-convert:hover {\n",
              "      background-color: #E2EBFA;\n",
              "      box-shadow: 0px 1px 2px rgba(60, 64, 67, 0.3), 0px 1px 3px 1px rgba(60, 64, 67, 0.15);\n",
              "      fill: #174EA6;\n",
              "    }\n",
              "\n",
              "    [theme=dark] .colab-df-convert {\n",
              "      background-color: #3B4455;\n",
              "      fill: #D2E3FC;\n",
              "    }\n",
              "\n",
              "    [theme=dark] .colab-df-convert:hover {\n",
              "      background-color: #434B5C;\n",
              "      box-shadow: 0px 1px 3px 1px rgba(0, 0, 0, 0.15);\n",
              "      filter: drop-shadow(0px 1px 2px rgba(0, 0, 0, 0.3));\n",
              "      fill: #FFFFFF;\n",
              "    }\n",
              "  </style>\n",
              "\n",
              "      <script>\n",
              "        const buttonEl =\n",
              "          document.querySelector('#df-7ce9045a-46d9-4278-b608-403a9bd85b4a button.colab-df-convert');\n",
              "        buttonEl.style.display =\n",
              "          google.colab.kernel.accessAllowed ? 'block' : 'none';\n",
              "\n",
              "        async function convertToInteractive(key) {\n",
              "          const element = document.querySelector('#df-7ce9045a-46d9-4278-b608-403a9bd85b4a');\n",
              "          const dataTable =\n",
              "            await google.colab.kernel.invokeFunction('convertToInteractive',\n",
              "                                                     [key], {});\n",
              "          if (!dataTable) return;\n",
              "\n",
              "          const docLinkHtml = 'Like what you see? Visit the ' +\n",
              "            '<a target=\"_blank\" href=https://colab.research.google.com/notebooks/data_table.ipynb>data table notebook</a>'\n",
              "            + ' to learn more about interactive tables.';\n",
              "          element.innerHTML = '';\n",
              "          dataTable['output_type'] = 'display_data';\n",
              "          await google.colab.output.renderOutput(dataTable, element);\n",
              "          const docLink = document.createElement('div');\n",
              "          docLink.innerHTML = docLinkHtml;\n",
              "          element.appendChild(docLink);\n",
              "        }\n",
              "      </script>\n",
              "    </div>\n",
              "  </div>\n",
              "  "
            ]
          },
          "metadata": {},
          "execution_count": 51
        }
      ]
    },
    {
      "cell_type": "code",
      "source": [
        "\n",
        "raw_test.insert(1,column ='Segmentation',value = pre[0])"
      ],
      "metadata": {
        "id": "7NHzALTDlcoQ"
      },
      "execution_count": null,
      "outputs": []
    },
    {
      "cell_type": "code",
      "source": [
        "raw_test.columns"
      ],
      "metadata": {
        "colab": {
          "base_uri": "https://localhost:8080/"
        },
        "id": "LeLfHPorle2Z",
        "outputId": "67190886-eaf7-45d0-e579-ef64597f7167"
      },
      "execution_count": null,
      "outputs": [
        {
          "output_type": "execute_result",
          "data": {
            "text/plain": [
              "Index(['ID', 'Segmentation', 'Gender', 'Ever_Married', 'Age', 'Graduated',\n",
              "       'Profession', 'Work_Experience', 'Spending_Score', 'Family_Size',\n",
              "       'Var_1'],\n",
              "      dtype='object')"
            ]
          },
          "metadata": {},
          "execution_count": 53
        }
      ]
    },
    {
      "cell_type": "code",
      "source": [
        "raw_train.columns"
      ],
      "metadata": {
        "colab": {
          "base_uri": "https://localhost:8080/"
        },
        "id": "Sq_jLq4SljB8",
        "outputId": "318a9da0-e8a3-48ca-d9da-da08a6a091c2"
      },
      "execution_count": null,
      "outputs": [
        {
          "output_type": "execute_result",
          "data": {
            "text/plain": [
              "Index(['ID', 'Gender', 'Ever_Married', 'Age', 'Graduated', 'Profession',\n",
              "       'Work_Experience', 'Spending_Score', 'Family_Size', 'Var_1',\n",
              "       'Segmentation'],\n",
              "      dtype='object')"
            ]
          },
          "metadata": {},
          "execution_count": 54
        }
      ]
    },
    {
      "cell_type": "code",
      "source": [
        "\n",
        "full = pd.concat((raw_train,raw_test),axis =0)\n"
      ],
      "metadata": {
        "id": "tgBd5nZpllRt"
      },
      "execution_count": null,
      "outputs": []
    },
    {
      "cell_type": "code",
      "source": [
        "full.tail()"
      ],
      "metadata": {
        "colab": {
          "base_uri": "https://localhost:8080/",
          "height": 206
        },
        "id": "6xEEDT5WmjSw",
        "outputId": "3664e774-1f4f-419b-fcf6-b7812e147180"
      },
      "execution_count": null,
      "outputs": [
        {
          "output_type": "execute_result",
          "data": {
            "text/plain": [
              "        ID Gender Ever_Married  Age Graduated     Profession  Work_Experience  \\\n",
              "3525  4323   Male          Yes   79       Yes         Artist              NaN   \n",
              "3526  3776   Male          Yes   40       Yes  Entertainment              1.0   \n",
              "3527  6697   Male          Yes   73       Yes         Artist              5.0   \n",
              "3528  3431   Male           No   20        No     Healthcare              NaN   \n",
              "3529  7734   Male          Yes   58       Yes         Doctor              1.0   \n",
              "\n",
              "     Spending_Score  Family_Size  Var_1 Segmentation  \n",
              "3525           High          2.0  Cat_6            C  \n",
              "3526        Average          2.0  Cat_3            B  \n",
              "3527           High          3.0  Cat_6            C  \n",
              "3528            Low          5.0  Cat_3            D  \n",
              "3529           High          2.0  Cat_6            C  "
            ],
            "text/html": [
              "\n",
              "  <div id=\"df-6e7a080b-151d-4fa5-a5fa-3cf888b3a72e\">\n",
              "    <div class=\"colab-df-container\">\n",
              "      <div>\n",
              "<style scoped>\n",
              "    .dataframe tbody tr th:only-of-type {\n",
              "        vertical-align: middle;\n",
              "    }\n",
              "\n",
              "    .dataframe tbody tr th {\n",
              "        vertical-align: top;\n",
              "    }\n",
              "\n",
              "    .dataframe thead th {\n",
              "        text-align: right;\n",
              "    }\n",
              "</style>\n",
              "<table border=\"1\" class=\"dataframe\">\n",
              "  <thead>\n",
              "    <tr style=\"text-align: right;\">\n",
              "      <th></th>\n",
              "      <th>ID</th>\n",
              "      <th>Gender</th>\n",
              "      <th>Ever_Married</th>\n",
              "      <th>Age</th>\n",
              "      <th>Graduated</th>\n",
              "      <th>Profession</th>\n",
              "      <th>Work_Experience</th>\n",
              "      <th>Spending_Score</th>\n",
              "      <th>Family_Size</th>\n",
              "      <th>Var_1</th>\n",
              "      <th>Segmentation</th>\n",
              "    </tr>\n",
              "  </thead>\n",
              "  <tbody>\n",
              "    <tr>\n",
              "      <th>3525</th>\n",
              "      <td>4323</td>\n",
              "      <td>Male</td>\n",
              "      <td>Yes</td>\n",
              "      <td>79</td>\n",
              "      <td>Yes</td>\n",
              "      <td>Artist</td>\n",
              "      <td>NaN</td>\n",
              "      <td>High</td>\n",
              "      <td>2.0</td>\n",
              "      <td>Cat_6</td>\n",
              "      <td>C</td>\n",
              "    </tr>\n",
              "    <tr>\n",
              "      <th>3526</th>\n",
              "      <td>3776</td>\n",
              "      <td>Male</td>\n",
              "      <td>Yes</td>\n",
              "      <td>40</td>\n",
              "      <td>Yes</td>\n",
              "      <td>Entertainment</td>\n",
              "      <td>1.0</td>\n",
              "      <td>Average</td>\n",
              "      <td>2.0</td>\n",
              "      <td>Cat_3</td>\n",
              "      <td>B</td>\n",
              "    </tr>\n",
              "    <tr>\n",
              "      <th>3527</th>\n",
              "      <td>6697</td>\n",
              "      <td>Male</td>\n",
              "      <td>Yes</td>\n",
              "      <td>73</td>\n",
              "      <td>Yes</td>\n",
              "      <td>Artist</td>\n",
              "      <td>5.0</td>\n",
              "      <td>High</td>\n",
              "      <td>3.0</td>\n",
              "      <td>Cat_6</td>\n",
              "      <td>C</td>\n",
              "    </tr>\n",
              "    <tr>\n",
              "      <th>3528</th>\n",
              "      <td>3431</td>\n",
              "      <td>Male</td>\n",
              "      <td>No</td>\n",
              "      <td>20</td>\n",
              "      <td>No</td>\n",
              "      <td>Healthcare</td>\n",
              "      <td>NaN</td>\n",
              "      <td>Low</td>\n",
              "      <td>5.0</td>\n",
              "      <td>Cat_3</td>\n",
              "      <td>D</td>\n",
              "    </tr>\n",
              "    <tr>\n",
              "      <th>3529</th>\n",
              "      <td>7734</td>\n",
              "      <td>Male</td>\n",
              "      <td>Yes</td>\n",
              "      <td>58</td>\n",
              "      <td>Yes</td>\n",
              "      <td>Doctor</td>\n",
              "      <td>1.0</td>\n",
              "      <td>High</td>\n",
              "      <td>2.0</td>\n",
              "      <td>Cat_6</td>\n",
              "      <td>C</td>\n",
              "    </tr>\n",
              "  </tbody>\n",
              "</table>\n",
              "</div>\n",
              "      <button class=\"colab-df-convert\" onclick=\"convertToInteractive('df-6e7a080b-151d-4fa5-a5fa-3cf888b3a72e')\"\n",
              "              title=\"Convert this dataframe to an interactive table.\"\n",
              "              style=\"display:none;\">\n",
              "        \n",
              "  <svg xmlns=\"http://www.w3.org/2000/svg\" height=\"24px\"viewBox=\"0 0 24 24\"\n",
              "       width=\"24px\">\n",
              "    <path d=\"M0 0h24v24H0V0z\" fill=\"none\"/>\n",
              "    <path d=\"M18.56 5.44l.94 2.06.94-2.06 2.06-.94-2.06-.94-.94-2.06-.94 2.06-2.06.94zm-11 1L8.5 8.5l.94-2.06 2.06-.94-2.06-.94L8.5 2.5l-.94 2.06-2.06.94zm10 10l.94 2.06.94-2.06 2.06-.94-2.06-.94-.94-2.06-.94 2.06-2.06.94z\"/><path d=\"M17.41 7.96l-1.37-1.37c-.4-.4-.92-.59-1.43-.59-.52 0-1.04.2-1.43.59L10.3 9.45l-7.72 7.72c-.78.78-.78 2.05 0 2.83L4 21.41c.39.39.9.59 1.41.59.51 0 1.02-.2 1.41-.59l7.78-7.78 2.81-2.81c.8-.78.8-2.07 0-2.86zM5.41 20L4 18.59l7.72-7.72 1.47 1.35L5.41 20z\"/>\n",
              "  </svg>\n",
              "      </button>\n",
              "      \n",
              "  <style>\n",
              "    .colab-df-container {\n",
              "      display:flex;\n",
              "      flex-wrap:wrap;\n",
              "      gap: 12px;\n",
              "    }\n",
              "\n",
              "    .colab-df-convert {\n",
              "      background-color: #E8F0FE;\n",
              "      border: none;\n",
              "      border-radius: 50%;\n",
              "      cursor: pointer;\n",
              "      display: none;\n",
              "      fill: #1967D2;\n",
              "      height: 32px;\n",
              "      padding: 0 0 0 0;\n",
              "      width: 32px;\n",
              "    }\n",
              "\n",
              "    .colab-df-convert:hover {\n",
              "      background-color: #E2EBFA;\n",
              "      box-shadow: 0px 1px 2px rgba(60, 64, 67, 0.3), 0px 1px 3px 1px rgba(60, 64, 67, 0.15);\n",
              "      fill: #174EA6;\n",
              "    }\n",
              "\n",
              "    [theme=dark] .colab-df-convert {\n",
              "      background-color: #3B4455;\n",
              "      fill: #D2E3FC;\n",
              "    }\n",
              "\n",
              "    [theme=dark] .colab-df-convert:hover {\n",
              "      background-color: #434B5C;\n",
              "      box-shadow: 0px 1px 3px 1px rgba(0, 0, 0, 0.15);\n",
              "      filter: drop-shadow(0px 1px 2px rgba(0, 0, 0, 0.3));\n",
              "      fill: #FFFFFF;\n",
              "    }\n",
              "  </style>\n",
              "\n",
              "      <script>\n",
              "        const buttonEl =\n",
              "          document.querySelector('#df-6e7a080b-151d-4fa5-a5fa-3cf888b3a72e button.colab-df-convert');\n",
              "        buttonEl.style.display =\n",
              "          google.colab.kernel.accessAllowed ? 'block' : 'none';\n",
              "\n",
              "        async function convertToInteractive(key) {\n",
              "          const element = document.querySelector('#df-6e7a080b-151d-4fa5-a5fa-3cf888b3a72e');\n",
              "          const dataTable =\n",
              "            await google.colab.kernel.invokeFunction('convertToInteractive',\n",
              "                                                     [key], {});\n",
              "          if (!dataTable) return;\n",
              "\n",
              "          const docLinkHtml = 'Like what you see? Visit the ' +\n",
              "            '<a target=\"_blank\" href=https://colab.research.google.com/notebooks/data_table.ipynb>data table notebook</a>'\n",
              "            + ' to learn more about interactive tables.';\n",
              "          element.innerHTML = '';\n",
              "          dataTable['output_type'] = 'display_data';\n",
              "          await google.colab.output.renderOutput(dataTable, element);\n",
              "          const docLink = document.createElement('div');\n",
              "          docLink.innerHTML = docLinkHtml;\n",
              "          element.appendChild(docLink);\n",
              "        }\n",
              "      </script>\n",
              "    </div>\n",
              "  </div>\n",
              "  "
            ]
          },
          "metadata": {},
          "execution_count": 56
        }
      ]
    },
    {
      "cell_type": "code",
      "source": [
        "new_train = pd.DataFrame(full)\n",
        "new_train.to_csv(\"train\", index=False)"
      ],
      "metadata": {
        "id": "Du6TO_nZloGm"
      },
      "execution_count": null,
      "outputs": []
    },
    {
      "cell_type": "code",
      "source": [
        ""
      ],
      "metadata": {
        "id": "oldkkW7sm95h"
      },
      "execution_count": null,
      "outputs": []
    }
  ]
}